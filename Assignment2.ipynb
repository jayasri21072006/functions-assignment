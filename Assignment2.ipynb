{
  "cells": [
    {
      "cell_type": "markdown",
      "metadata": {
        "id": "KwUyp3ZUbN7Z"
      },
      "source": [
        "***Theory Questions:***"
      ]
    },
    {
      "cell_type": "markdown",
      "metadata": {
        "id": "IGLBo9xkbM9E"
      },
      "source": [
        "1. What is the difference between a function and a method in Python?\n",
        "- A function in Python is a block of code that performs a specific task and can be called by its name. It can accept input values (parameters) and return a result. Functions are independent and not associated with any particular object or class.\n",
        "\n",
        "- A method, on the other hand, is a function that is associated with an object or a class. It is called using the dot notation on an object or class instance. Methods operate on the data of the object they are associated with and can modify the object's state."
      ]
    },
    {
      "cell_type": "code",
      "execution_count": 4,
      "metadata": {
        "colab": {
          "base_uri": "https://localhost:8080/"
        },
        "id": "_29OH8r1ly5k",
        "outputId": "0174dc8b-98da-4d06-8679-4c69bcde4a92"
      },
      "outputs": [
        {
          "output_type": "stream",
          "name": "stdout",
          "text": [
            "Hello, Alice!\n",
            "Woof!\n"
          ]
        }
      ],
      "source": [
        "#example:\n",
        "# Function\n",
        "def greet(name):\n",
        "  return \"Hello, \" + name + \"!\"\n",
        "\n",
        "# Class with a method\n",
        "class Dog:\n",
        "  def __init__(self, name):\n",
        "    self.name = name\n",
        "\n",
        "  def bark(self):\n",
        "    return \"Woof!\"\n",
        "\n",
        "# Calling the function\n",
        "message = greet(\"Alice\")\n",
        "print(message)\n",
        "\n",
        "# Creating an object of the Dog class\n",
        "my_dog = Dog(\"Buddy\")\n",
        "\n",
        "# Calling the method on the object\n",
        "bark_sound = my_dog.bark()\n",
        "print(bark_sound)"
      ]
    },
    {
      "cell_type": "markdown",
      "metadata": {
        "id": "h0SsI9rwbynT"
      },
      "source": [
        "2.Explain the concept of function arguments and parameters in Python.\n",
        "\n",
        "\n",
        " 1. Parameters:\n",
        "Parameters are variables defined in a function declaration.\n",
        "They act as placeholders for the values that the function will receive when it is called\n",
        "2. Arguments:\n",
        "Arguments are the actual values or data you pass to a function when calling it.\n",
        "These values are assigned to the function's parameters.\n"
      ]
    },
    {
      "cell_type": "code",
      "execution_count": 5,
      "metadata": {
        "colab": {
          "base_uri": "https://localhost:8080/"
        },
        "id": "YJ-Q14nYnJow",
        "outputId": "b99e00c8-50d7-4ca3-d8d1-10d6aae5019f"
      },
      "outputs": [
        {
          "output_type": "stream",
          "name": "stdout",
          "text": [
            "jay\n"
          ]
        }
      ],
      "source": [
        "#example:\n",
        "def naming(name)\n",
        " return name\n",
        "res=naming(\"jay\")\n",
        "print(res)"
      ]
    },
    {
      "cell_type": "markdown",
      "metadata": {
        "id": "KTQ7FJWDngdA"
      },
      "source": [
        "3. What are the different ways to define and call a function in Python?\n",
        "Ways to Call a Function:\n",
        "\n",
        "Direct Call:  The most common way, simply using the function name followed by parentheses and arguments.\n",
        "\n",
        "Call with Keyword Arguments:  Specifying the parameter names when passing arguments, which can improve readability and allows arguments to be passed in any order.\n",
        "\n",
        "Call with Default Arguments: If a function parameter has a default value, you can omit that argument when calling the function, and the default value will be used.\n",
        "\n",
        "Call with Variable-Length Arguments:  Using *args (for positional arguments) or **kwargs (for keyword arguments) to handle a variable number of arguments.\n"
      ]
    },
    {
      "cell_type": "code",
      "source": [
        "def describe_person(name, age=30, city=\"Unknown\", *hobbies, **other_info):\n",
        "\n",
        "    print(f\"Name: {name}\")\n",
        "    print(f\"Age: {age}\")\n",
        "    print(f\"City: {city}\")\n",
        "    if hobbies:\n",
        "        print(\"Hobbies:\", \", \".join(hobbies))\n",
        "    if other_info:\n",
        "        print(\"Other Information:\")\n",
        "        for key, value in other_info.items():\n",
        "            print(f\"  {key}: {value}\")\n",
        "\n",
        "\n",
        "describe_person(\"Alice\", 25, \"New York\", \"reading\", \"hiking\", occupation=\"Teacher\")\n",
        "\n",
        "print(\"-\" * 20)  # Separator\n",
        "\n",
        "describe_person(name=\"Bob\", city=\"London\", age=35)\n",
        "\n",
        "print(\"-\" * 20)\n",
        "\n",
        "\n",
        "describe_person(\"Charlie\", \"coding\", \"music\")\n",
        "\n",
        "print(\"-\" * 20)\n",
        "\n",
        "\n",
        "describe_person(\"David\", 40, \"Paris\", \"painting\", \"singing\", \"traveling\",  favorite_color=\"Blue\", pet=\"Dog\")"
      ],
      "metadata": {
        "colab": {
          "base_uri": "https://localhost:8080/"
        },
        "id": "j9JdMW7HcQUv",
        "outputId": "8310a580-fadb-42e4-906d-f8d500d22696"
      },
      "execution_count": 6,
      "outputs": [
        {
          "output_type": "stream",
          "name": "stdout",
          "text": [
            "Name: Alice\n",
            "Age: 25\n",
            "City: New York\n",
            "Hobbies: reading, hiking\n",
            "Other Information:\n",
            "  occupation: Teacher\n",
            "--------------------\n",
            "Name: Bob\n",
            "Age: 35\n",
            "City: London\n",
            "--------------------\n",
            "Name: Charlie\n",
            "Age: coding\n",
            "City: music\n",
            "--------------------\n",
            "Name: David\n",
            "Age: 40\n",
            "City: Paris\n",
            "Hobbies: painting, singing, traveling\n",
            "Other Information:\n",
            "  favorite_color: Blue\n",
            "  pet: Dog\n"
          ]
        }
      ]
    },
    {
      "cell_type": "markdown",
      "metadata": {
        "id": "HtdWIxYbpAlw"
      },
      "source": [
        "4. What is the purpose of the `return` statement in a Python function?\n",
        "  - The return statement in a Python function serves to send a value back to the caller of the function.\n",
        "  - it just returns the  solution of the function when it is called\n"
      ]
    },
    {
      "cell_type": "code",
      "execution_count": null,
      "metadata": {
        "colab": {
          "base_uri": "https://localhost:8080/"
        },
        "id": "klS4kSTbpc4r",
        "outputId": "4329dc1d-a186-4fb4-abc9-6fdbf715a5ef"
      },
      "outputs": [
        {
          "name": "stdout",
          "output_type": "stream",
          "text": [
            "8\n",
            "8\n"
          ]
        }
      ],
      "source": [
        "def add(x, y):\n",
        "\n",
        "    sum_of_numbers = x + y\n",
        "    return sum_of_numbers\n",
        "\n",
        "result = add(5, 3)\n",
        "print(result)"
      ]
    },
    {
      "cell_type": "markdown",
      "metadata": {
        "id": "TDYpsuZ8p5Oe"
      },
      "source": [
        "5.What are iterators in Python and how do they differ from iterables?\n",
        "  - Iterators:\n",
        "   An iterator is an object that produces the next value in a sequence when we ask it to.\n",
        "  Key methods: Iterators implement both the __iter__() method (which simply returns the iterator itself) and the __next__() method (which returns the next value). When there are no more values, __next__() raises the StopIteration exception.\n",
        "  *  An iterable creates an iterator. We use the iter() function on an iterable to get an iterator.  The iterator is then used to actually traverse the elements.\n",
        "- Iterables:\n",
        "  An iterable is any object in Python that can be looped over, one element at a time.\n",
        "     "
      ]
    },
    {
      "cell_type": "code",
      "execution_count": null,
      "metadata": {
        "colab": {
          "base_uri": "https://localhost:8080/"
        },
        "id": "mRBfrk-Sr5w3",
        "outputId": "c10c364e-a3b7-4d29-8bbe-dfa38ca1df08"
      },
      "outputs": [
        {
          "data": {
            "text/plain": [
              "1"
            ]
          },
          "execution_count": 17,
          "metadata": {},
          "output_type": "execute_result"
        }
      ],
      "source": [
        "b = [1, 2, 3]\n",
        "a = iter(b)\n",
        "next(a)\n",
        "\n"
      ]
    },
    {
      "cell_type": "markdown",
      "metadata": {
        "id": "WBKPFiGbtdxR"
      },
      "source": [
        "6.Explain the concept of generators in Python and how they are defined?\n",
        " - genrators are special type of iterators.\n",
        " - they improve the mempry effeciency\n",
        " - they are defined by using yield inside the functions instead of return\n",
        " - we can use next() to generate successive solutions"
      ]
    },
    {
      "cell_type": "code",
      "execution_count": 7,
      "metadata": {
        "colab": {
          "base_uri": "https://localhost:8080/"
        },
        "id": "ivDFmCBMu4WD",
        "outputId": "238d7c9d-4e4f-46e8-cb3d-96817820e17d"
      },
      "outputs": [
        {
          "output_type": "execute_result",
          "data": {
            "text/plain": [
              "1"
            ]
          },
          "metadata": {},
          "execution_count": 7
        }
      ],
      "source": [
        "#eg\n",
        "def square(n):\n",
        " for i in range(1,n):\n",
        "  yield i**2\n",
        "a=square(5)\n",
        "next(a)\n",
        "\n"
      ]
    },
    {
      "cell_type": "markdown",
      "metadata": {
        "id": "mSbUJNQrId0Z"
      },
      "source": [
        "7.What are the advantages of using generators over regular functions?\n",
        " - Memory Efficiency: Generators produce values on demand, one at a time, instead of generating and storing the entire sequence in memory.\n",
        " - Generators have an advantage over regular functions because they can return a series of values over time using yield, whereas regular functions are limited to returning a single value with return.\n",
        "\n",
        " - This ability to produce a stream of values on demand is what makes generators so powerful for handling large datasets, lazy evaluation, and other tasks where we don't want to generate everything at once.\n",
        " - yield doesn't terminate the function entirely,but return does.\n"
      ]
    },
    {
      "cell_type": "code",
      "execution_count": 3,
      "metadata": {
        "id": "8p8_ISBwKiGp"
      },
      "outputs": [],
      "source": [
        "#eg\n",
        "def square_generator(n):\n",
        "    for i in range(n):\n",
        "        yield i * i\n",
        "\n",
        "# Regular function to produce squares of numbers\n",
        "def square_function(n):\n",
        "    squares = []\n",
        "    for i in range(n):\n",
        "        squares.append(i * i)\n",
        "    return squares\n",
        "\n",
        "# Using the generator\n",
        "for square in square_generator(1000000):\n",
        "    # Process each square value\n",
        "    pass\n",
        "\n",
        "# Using the regular function\n",
        "squares = square_function(1000000)\n",
        "# Process the list of squares"
      ]
    },
    {
      "cell_type": "markdown",
      "metadata": {
        "id": "XyBBwIX_MDb9"
      },
      "source": [
        "8. What is a lambda function in Python and when is it typically used?\n",
        " - A lambda function in Python is a small, anonymous, and unnamed function defined using the lambda keyword.\n",
        " - It's used  to create a function without a formal name or the def keyword.\n",
        " - A lambda function in Python is a small, anonymous, and unnamed function defined using the lambda keyword.  It's essentially a concise way to create a function without a formal name or the def keyword.\n",
        "\n",
        "- Lambda functions are most often used in situations where you need a small, simple function for a short period and don't want to define a full-fledged function using def.\n",
        "-   These are functions that take other functions as arguments, such as map(), filter(), and sorted()."
      ]
    },
    {
      "cell_type": "markdown",
      "metadata": {
        "id": "STOA6rKmOAh2"
      },
      "source": []
    },
    {
      "cell_type": "code",
      "execution_count": null,
      "metadata": {
        "colab": {
          "base_uri": "https://localhost:8080/"
        },
        "id": "ZoUQSmYjNvFn",
        "outputId": "15edec73-8100-429c-b509-e628b2bac0fc"
      },
      "outputs": [
        {
          "name": "stdout",
          "output_type": "stream",
          "text": [
            "25\n",
            "10\n"
          ]
        }
      ],
      "source": [
        "#example\n",
        "square = lambda x: x * x\n",
        "print(square(5))\n",
        "\n",
        "add = lambda x, y: x + y\n",
        "print(add(3, 7))"
      ]
    },
    {
      "cell_type": "markdown",
      "metadata": {
        "id": "XAP0x6VFPShd"
      },
      "source": [
        "9.Explain the purpose and usage of the `map()` function in Python.?\n",
        " - The primary purpose of map() is to transform each element of an iterable using a specific function, creating a new iterable with the transformed values.  It avoids explicit looping, making the code more readable and often more efficient."
      ]
    },
    {
      "cell_type": "code",
      "execution_count": null,
      "metadata": {
        "colab": {
          "background_save": true,
          "base_uri": "https://localhost:8080/",
          "height": 297
        },
        "id": "ej7zRLt-PtYV",
        "outputId": "ec1f213f-4dba-4a31-880e-48b436060192"
      },
      "outputs": [
        {
          "name": "stdout",
          "output_type": "stream",
          "text": [
            "[1, 4, 9]\n"
          ]
        }
      ],
      "source": [
        "#example\n",
        "def sq(lst):\n",
        "  return lst**2\n",
        "lst=[1,2,3]\n",
        "print(list(map(sq,lst)))"
      ]
    },
    {
      "cell_type": "markdown",
      "metadata": {
        "id": "sWFSo7mvP6hE"
      },
      "source": [
        "10.What is the difference between `map()`, `reduce()`, and `filter()` functions in Python?\n",
        "  \n",
        " -  map(function, iterable):\n",
        "\n",
        "         Purpose: Transforms each item in the iterable by applying the function to it.\n",
        " - filter(function, iterable):\n",
        "\n",
        "         Purpose: Filters the items in the iterable based on a condition specified by the function.\n",
        " - reduce(function, iterable):\n",
        "\n",
        "       Purpose: Applies a function of two arguments cumulatively to the items of a sequence, from left to right, so as to reduce the sequence.\n",
        "\n"
      ]
    },
    {
      "cell_type": "code",
      "execution_count": null,
      "metadata": {
        "colab": {
          "background_save": true,
          "base_uri": "https://localhost:8080/"
        },
        "id": "vnr4ljW-Qm8t",
        "outputId": "8d660d37-baca-41b8-f33a-7ab5b5e8542e"
      },
      "outputs": [
        {
          "name": "stdout",
          "output_type": "stream",
          "text": [
            "Squared numbers: [1, 4, 9, 16, 25]\n",
            "Even numbers: [2, 4]\n",
            "Product of numbers: 120\n"
          ]
        }
      ],
      "source": [
        "#eg\n",
        "from functools import reduce\n",
        "\n",
        "numbers = [1, 2, 3, 4, 5]\n",
        "\n",
        "# Map: Square each number\n",
        "squared_numbers = list(map(lambda x: x * x, numbers))\n",
        "print(\"Squared numbers:\", squared_numbers)\n",
        "\n",
        "# Filter: Keep only even numbers\n",
        "even_numbers = list(filter(lambda x: x % 2 == 0, numbers))\n",
        "print(\"Even numbers:\", even_numbers)\n",
        "\n",
        "# Reduce: Calculate the product of all numbers\n",
        "product = reduce(lambda x, y: x * y, numbers)\n",
        "print(\"Product of numbers:\", product)"
      ]
    },
    {
      "cell_type": "markdown",
      "metadata": {
        "id": "LD3zqrCKAvUM"
      },
      "source": [
        "11.Using pen & Paper write the internal mechanism for sum operation using reduce function on this given list:[47,11,42,13];\n"
      ]
    },
    {
      "cell_type": "markdown",
      "metadata": {
        "id": "xQh4eDbCr3J-"
      },
      "source": [
        "\n",
        "\n",
        "![ans.jpeg](data:image/jpeg;base64,/9j/4AAQSkZJRgABAQEAYABgAAD/2wBDAAMCAgMCAgMDAwMEAwMEBQgFBQQEBQoHBwYIDAoMDAsKCwsNDhIQDQ4RDgsLEBYQERMUFRUVDA8XGBYUGBIUFRT/2wBDAQMEBAUEBQkFBQkUDQsNFBQUFBQUFBQUFBQUFBQUFBQUFBQUFBQUFBQUFBQUFBQUFBQUFBQUFBQUFBQUFBQUFBT/wAARCANVBQADASIAAhEBAxEB/8QAHwAAAQUBAQEBAQEAAAAAAAAAAAECAwQFBgcICQoL/8QAtRAAAgEDAwIEAwUFBAQAAAF9AQIDAAQRBRIhMUEGE1FhByJxFDKBkaEII0KxwRVS0fAkM2JyggkKFhcYGRolJicoKSo0NTY3ODk6Q0RFRkdISUpTVFVWV1hZWmNkZWZnaGlqc3R1dnd4eXqDhIWGh4iJipKTlJWWl5iZmqKjpKWmp6ipqrKztLW2t7i5usLDxMXGx8jJytLT1NXW19jZ2uHi4+Tl5ufo6erx8vP09fb3+Pn6/8QAHwEAAwEBAQEBAQEBAQAAAAAAAAECAwQFBgcICQoL/8QAtREAAgECBAQDBAcFBAQAAQJ3AAECAxEEBSExBhJBUQdhcRMiMoEIFEKRobHBCSMzUvAVYnLRChYkNOEl8RcYGRomJygpKjU2Nzg5OkNERUZHSElKU1RVVldYWVpjZGVmZ2hpanN0dXZ3eHl6goOEhYaHiImKkpOUlZaXmJmaoqOkpaanqKmqsrO0tba3uLm6wsPExcbHyMnK0tPU1dbX2Nna4uPk5ebn6Onq8vP09fb3+Pn6/9oADAMBAAIRAxEAPwD7W2U5EamvToa7dTkNK2qaSq8NWJKksr03e1OkqH5qCByPUiP96qu9qdC9AFirC/cqrvq1D+7SgCT+5VV6ub6o3L/PSiOQJtp3nLG9Rw03/WPVi1LPNIiUI9OSpDUsJTd9LRzUAJvpKKKAIHo30PSVYahTKKZVahqPo2rTdix05Ho1JIflpyVJtWj5aNStSvJUyU16SjUNRklM5pju1Hzb/u1IDvMZKN9JSbKAJEod6hjp9ACedR5wqN6a9VqBMj+ZTt9VU3VJvo1Ad5lFM5pN9GoEnmUeZVeOpIdtGoEm/wAum7/noempRqA56blqd/rKHo1AcjtTX/eVHvo2N/BRqBMiLRJTUpyJRqBJ8saVGn7yo3peaNQJdnl0tQ0r0agJS76bxQ9AC80c1FRQA+lSoKfQBJvpuyoqfvaOgB2yhKb82+nb6AJN9MqJ/wB5TqAJko3tvqu7t/BUnzbKfKBNUf8ABvqPc1EdHKA53p3zbN1R0+jlAVPv/fqSSmc0c0tQDmn0U13ajUCN0pslS81FQA13amu9LzRzVgM+XfTko2VHQBJvpyVDHTv9XQA/mmO7U3f89RvN5j/JQBad6N9Rpu2fPTt9AEyPTstUcdFTygWIdtY+mp5b3Py/8tK0KZREBHp3+5Ttq1IlUBH5P8b1IlLzSSOqVAEkdElNSh6A1E5qVKjR6PtP+zQGpJsX5npyQrVV7mTa3y0QvJQGpa2UbBVdJJJH+61Sb2/55UBqSfZoZP4akRFjSqf2mbZ8sVTbpv7tAakybY3Z6c6eejI1V/3n92mo81Aakjwr5O3dUn8NV08z77s1Sb2/26A1Jof3aLsqO52yeU9N/wCBPVeb7nz+bQGppIi7KPmjequ+PYuzdTn2/wC1QGpc3rTXes/7TH8yfNR50ciU+UNS0iVI7+XUKeTJ/FUbov8AepBqSOiyfwrTkRY/ufu6h2t/z1o+b/nrQGpNH+7+RKfUUKN/G9TJQSRw23kJsqzTHejzKNStSZKdUaVPWQCb6N6/x035qPljoAm+WOo3f/apvyyU3y1/u0AHnLUiOtU5kX/nk1NRF/gVqrlHzGhvrk/Gfjy18K+VbpBcatqkv+q02xTdK9dA6Ls+61Qx2cMbeakXlu/3nrSHLF80lcR5nc6b8VvHn3L6w+HunP8A88P9LvKk8K/sweBdH1T+2Nbtp/GfiX77ar4jf7S3/AVavTNq/wC3Qnlx7vmauqWKqWtT91eQuVF5EWP7lSI9Zqbf+erVJhf+e7Vw8oy08K76he2jkqF/+u9QzeXImzzWq9QLWyHfU29ax/sEP8ctx/33Vi2toY33oz/9tHpcoGhsWP7iU2bbJ9+jctFIsqvbrJUkNstSbKETy6rUgn5pHpKR9tZFkiU6od9P5oAKKOaZvoAk303zFqF5qpvM0lAFp5qSqyU7fVkDtlRpbR/88lp/NFAFB9tOhpr7vMqSFKrUs0IUqT+Co4amd6kgryVG9TPUL0AV5qLZ6c9Q2D+Y8tAF2rKVV31ch+5QA56pzVamfZtqm704jkOSiGmpQlMgsOlSQ1GlSR0alalimc0+mc1kA2mU+irAieoac70tVqGoUz5Y6KZRqSPoTbTOaR6AHb6a9LzUVAD6R6b5dOejUrUqzU5P3dOdKbsWOpAfRTHp9ADaZHTnptABJUaUPS81WoC7KPljo+WSo3Rt9GoC0U7mmbKNQBKWlRKbso1AWil8tqESjUByUO9NdKSjUB3NKiVH81SJ9yjUBKfTflo2eWlGoEbo2/fUiU6Oj/WUagNmSmo9TbKio1AR6Snc1FQASUR0U16sB1MqamUAMpHpaR91AElElN2UJQAfNHQ9SfLS0ARJUtJsqN91AB81OqNP4d1TfwUAN/iqTZTUSn81ABzSpTqZzQGorzNUfzbKfzTaAET/AFdLT0qN6AGulMp9MqwDmjmin0ARolJT99JQBA7/AD/d+TbULr8jPVijZ89ADkpaZT6AFSlptLvoAdvo30nNIlAEklO31FzT0egB2/5KclR/xUO9AEtMd6cj0vNQBFTkelpHoAfzTaR6ESgCaOnbKan8NS80BqHNJsod6dvoDUd/DTXp3y7KP9ZQSRpS0+igBqU5/wB5T6ZHQBHDupz7qE/1zJQ/+soAr/6u6ZP761NsqrM7R3kVWv4aCtR2z5Kbso30vNAalZ4Y5HoSzWSpNnmUeZQGpY+XZQv36hT/AFdWaCR7v8lMpUpeaAFSpkf5Kg5o5o1K1J3dqhekoo1Aek1HzUSUR0ahqMop9FGoajk3U+m0z5o6NQLFO31VR2qTzGo1AdNUNOd6bRqAPCsn31qF4Y/7tTU+jUCp9mjkqRLaONP4qnp3NGoEUNssb1YRKjT93UnmUagH+roqHfRvo1AkT/WU6SoUen81ID46fTKfUFjKJKfRQBWmT5Kq+S395qvPUMdWQQpbSR/xUvkyf3qsU7mgCl5M2+j99/dq7RQBmP8AvKmhqij+Z8lXIarUsvQ1JUKTVM71IEL1FUrvVV3agga9R2aeW7P/AH6fT46AJatw1l/bGjk2eU1XrCZpP4aAJrn+Gsu5mjg++1ak1ZtzbQzpsdfMSnEcirpuvafqvnxWV9b3c8P+tSCZW2VehrN8MeCdF8K206aJplvYJM2+Xy93z1pbGjf7tbStfTYgtb6IajqaGsitSejmn1C9ZANokoqN6sBr/fpaKi+aq1DUc+2ihEoo1DUjf93Rv+SkooJGPtoo8yh3oAKN6yVXo3NRqVqTO9NeofO8yjf5dLlAmR1qN5qjd2qOjlAseZTXqPfQ/wC8SnqA6P79LzTadzRqAv8AHTvMqHe1EO2SjUBz/vKWlSo99GoDn2yU5NtQu9Q72o1AuPupv+rqPzKPMo1AmemUUqUagCJS0UUagM8lqkemu67PvUb/AC6NQJof3dO31Dv+SjfS5QJ+ar0/zKjemA10+elpHpqbaAHOlN+anJTZKsB9FMTdRQAU6FPMpvzUeZQAUyn0I9AD6R6buajf92gB9I9N/wBXRQA1KdT6T/gK0AG+nf6ul5ptQA7mm0u+h3oDUam7fT+aYj0ed8lAA70f6yo9/mU6rAJKZSvQlAB82+neZRR5lADKY9DvT+aAG0VE81JQBNTEm/uU15qE+5QBPzTP46b5lCTfPQBLzRUXmU3f89AEiUP+7pvmU13+daAJEqRKjR1qTfQBJ/HTnqPzKPMqADc1FN+WOmu/3asCTzKkR1qFHo30AWkenI9VfO8tKck1QGpZoqDfQ70BqTfwU3zvk+ShP3lFAajkepvMqv5lHmUBqWPMp9Q0rutBI1/4X/uUtRedVG/kuJIZYodsaTLs30FajvtK3140qN5iJ8lWkeqNnZrBbLEn3Eq7zVyDUTfTvmpOaTf5b7KgNRz7qNlOjp9AakX+rqZHakpdlAakyO1NqPzGeloDUf5lSJUHNSpQGpIlCPSVBePJH5CRP5e9vmo1DUuIlDpQj/JUbutGoakiJQlO3+YlJRqAySin1E70agG+nI9NR6lo1DUZRHR5lCPRqGoU75qj307zKNQ1H0UUjvRqGo7+GkpnmU13o1ASn0yjmgCXfQlQ76cj0agWN9OR6r1JvqJRAk8yo99G+oXemBLRTEeigAkojp9MkoAdvpvzU3fSUAYyP++q5b/crN3/AL6tSGq1LLUO6rPNVEqR3bZUgNuXrPmuVjqS6fy0rxv42eObzw/pUGn6V/yG9Wm+yWf+xn70n/AaCox5jQ8T/HvS9H8Qt4f0q2uPEuvJ/rbDTdrfZ/8Aro38Nd54M1i+1zR/teoaf/ZM7t/x7b92yvLfhL8OofDOmrZWirJO7b7q5/iuJD95mavarDTV022WJKUblTtEk/iq9bVT8nzK0LZPLWr1Meo26++tVXq9c/w1nt9+lERch+SGkpNnyU2OmGpI9EL/AD1HUlsnl0BqWaOaKY+6sgFqGn1HJ9+rASmeZRULv89VqSTVHlqN/wAlNfdsoAfzUTzVH/DQ9BWotHNMSloDUKY70ymO9Aah5wqN3qjqt41rbM9eM+GP2k9P1L42X3gK42x7GWGB/m3ecV3fNW8Kcql+Vbage5b6N9JUDzeXWYFjf89O31yeveP9F8MvAmp6hFaPcNsi8z+OukR/u/NVcrspWAsPupyP/tVH5nyffqHf5dSBa8yo9/l1H5lN30ATedUfmVj63ra+H9NnvZUaRIY2dkj+9xTfCviez8XaDZ6xZbvstxHvXzKrkdua2gG5vp/NQJ+8qfmpAKVKj307fQBMm6hN1Q76kR2oAdv+eh3qN6Tf/s0ALvWm+YtQzXMcCM8rbERd++quj63Y+I7Nb3TL63v7J/kWa1mWVdw/3aANSpeagR/LqWgBXpu+jetR+dUAN8xqclRu/wA9O31YEkdPpnmUSUAS80zfQj/JTagB9M/jShHoqwCm7PLo30b6AEpfmo+aiZ6AG7PnqZKrwvVjfQA/mlSo/l3tTd6x1AAm2NFRKP8AWPUb05KsCbim/wCsqN3XfRvoAN9JzTN602gCb/VpTd9Nf/V1C8yx0ATPuR/vU5Kr+dRvoAmR/nahH+eq7zfP96hHXevzUASI9Dv8lV3mV5m2NQky0AG+m+ds/iqF5ljprzeZVllpKk3/ACVV8yned8lBA5Ho3+WjPUHNMd6Cy0j+ZUybaz0qZJqALW+nPVfzFp2+ggkR6mheq8dG5qALm/zKj3LVd7loEX5fM3tUkM38Dr5dAEju2yo1m8z5HXy3qR38t1rNm1JZLxUi3SbN26gC4kzedKn9xqmR6y0uZPtMv7qrnmUAW6dzVS2fzEq0n7ugCTzKdvqGN131M9QBIlG+qNzNcQRq6L8n8VSJcrOiurfJUAWEf56dvqN3+dadxQA3zmpyUJtpyUBqJzTN7U+l31YakPzb6m31C8y/f3UJNQGpMlVZv+Qgv+7UkNzHJ/FUc237TA6N/DQGpYR/kqTzKipUfzKA1JKfRTuagNRiUO9TR1C6fPQGo5KkpqVJvoAEqG5+/E9WeaqXlssm16A1JEmqTZ5j1TtoZIN26VpKkhuVnjoDUt80x7yODbvb79V3ufL271anb1d1egNSx5i0lM86Pfspzv8AJQGpHZv8m+pkm8vdVG2mWO2V93lpUd5fwx2crpKtPlDUveZQj1Xhm8yHfuqRJqOUNSeno9V3dv7tOR2pBqW6ZJVd7lo91N+0Lsp8oak9HNJvoSkGo5KdHRM+zbVN5poH/wCelAalmiokmpyPQGpNRTd9JQA/zKbso301N2+jUBafUiUvNSBBu/fbKlqJ9sc1Sb6AG0eXTd7b6loA5z/lstakL/JWTv8AMmStRE+RarUstQvTn3R7f+WlV0qTY0cOypIM/UnXZ92vnXxP/wATX496fE/7xNM0triL/ekavoa/TzEevA/Gdn/Yfxa0rWHb9xd2v2Gf8G3LUSOmme1eDLPy7Pe6/PXUbKxdKdbWwg+7s21c0rWLfWEne0fzI7eRoW/3hWhjIuJujerkL1R2Nvq1bU9TPqTTbpNtU3SrzvVGbdvpRGSfwJRHTKfClMNQqRJvnWo5KdbJ89Aalz+CoZKl5qKpAZSPUlQzPVahqV3eoqmpmzy6CQooooAPLpnNJvpr0Fai1E707zKZzQGox3qF6N9NerAzdV/eW0tfnr4k+HviyT9o3xxrHhRZ/tumTLqKw7NsrrtTd5dfoheJ/ozV5P4Jtl/4X34mlf8A6BcNepgansuedr2QnsjpPhL8VtL+JmgwbLlYNehhVL7TZPlnikrsrnbHC2+uP8ZfBzw34xv01N4JdJ1tPu6rpr+RPXE+Jrnxx8NfD2oXdx4ssNa060h3/wDEys9s+0f7S1j7OFaf7t2v0CJ85/tFf2l4u+Py2/hppbjUdPs1hVPvKkh+avpT9mn4ha14g0eXw14ri8vW9Mt43gm+VftFvXI/s2fChtcs77xr4jZv7R1mZpmto/l+U122yOx/aH0N4olj87R5Eb/dSvZxE6MqX1WKu4rfzM43+PuewTVDv+7VfVdYt9Ks5bi4l8tEXezyfdRa8r1L4veIvEEMv/CCeGpda/6eb79xBXgU6M6uyNT17fT+a8Q8B/Ejx9a+KtP0Tx3o+l2k+oLJ5D6a+7Zj+9XTar8V7qx8bf2FZaV/aSW8K3F5Nv8AmiU1pLC1IytuLmR22t2y31hPE6/fVkry39mC5mj8PeIfDl3L5k+h6lJbqn/TP+GvWkmjvrNZYf3iOu9a+dfD3jzw78J/2gfGMWt6xFpNrqFrDcP5/wB3dW1CEp0500rvT8AfRn0xTkqnpWsWeuabBqGn3MV3ZXC74rmB9yutTectcHKxk9MrPv8AxDpulbUvdQtbTf8Ad8+ZVq1a3kN9bRXFvKs8D/deN9y0crtzWAt80u+oXmrH1vxbpfhmwa91jULfTbJP+W106qtKMZS+FAb2/wAynL9yuf8ADHjDRfFtn9r0TVbXVrVP47WZZazfE/jmTw/4h0HTf7Ma7TU7hoWud+1bfC7qpU5N2tqGp0WsaPa65pt5p96vmWV3DJbzp/fjddrV5T+yv4Dm+GvwxbR/Kt47L+0rt7WaN/meMN5Ss3+9sr17/V1yfjz4haP8OdHbUNSn8uD7kUMabmlb+6q1pTcpRdNK9w1Ow307zlr5tufiF8YPFVheaxZaHa+D/DVuvnK+pJ5t5Ko/2a9O1X4hX3hnwfpGp3ug3+rXtxGrzw6Um7Z/eatp4ScLapti5jvPO8yjetcnpXxL8O6x4PXxQmpxQaJt+a5uvl8ph/C1Y/g345eB/H9/c2nh/wAR2d/Pbrvb+H5f+BVj7Grr7u3kM9E31JDtrxXW/wBoSO6uWsvA/hzUvG96jfM9j8sCf8CarXgD48Tar4wg8KeLfCupeDNeu1Z7NLp1liuMf3WWr+q1eW9hcyPY+aTfQjrRvrkGLRSPSUAOp6P5dRUqUASO9R76c9N2UAB+41Nf/V0eZ5cbVGlAEiUb1j/iptNRPMSgB3yyU56jSGnSVYBR5lFN+WgAf/WU1/3dCJ89NegCP+P591OSaoqY/wC7oAmf/WUyk3tRvoAd/DQlJTKAD5qKP9WlCPQA+oti0b6dQBXmT56E2/x1Ns8yst7mSd96MkCf99NQWXn8z7+5YI/78lVYbmSSZtjfuEqOazX5XlufMf8A6aU1H+dXe5XYlAFx3oR6rx3kMjqiSLJUlAEiPTk3R1D5lTJQBIky1N5f8b1V2fPUyP5dAEN/MsE0D/wO1STOsab0n8uo7xFktm+am/ZoZ9juq0AWvtKyJF/ff56kuf8AUq/8aVVhhWPbsq15fmQ7HoIHX+2S2bfTUTy46c/zwslN2NAi0ARp/wAfjf39tTO/mJsqNIfMm31JsaN/koAsQp5aVIj+ZVPfNH8+2pPOkj/hoAcl55k2yJvL2fep3nNG+yX93VeGH52d/vvTrmZpE2MtAE9VHkaxud+3zIJm/wC+Gqwkkez71R3NzHJbMiN9+gC/zT/4aqo9O8ygC182yoZvO+XZJRvXyV+aoZr+OP78tADvt8kfyyxfPUj+ZGnzsv8AuVn3Uyz7XT+Cr2+gDLuX8yFd/wDBJV6G/jj+43mVmwxrGk6f9Nq0P9Wi0ATQp8nz1HNCu+KriPULp5m2gCPyV/gotoVtYYok/gqRKEoAtI9WESqsNWP4KxDUkRPLpr0vNHNAajEp9MSZamoAfUVz/qWqTZUcyfIybqA1BH+Ss+wdY/NR/wC9V7ZUfkxxps20BqSO8extzVTsHaOFd9O+wQ7/ALtTeSsn31oDUz47xpNSZ9vyfc31oSTfuWf/AGaHtoZIfK2/u6h+xtHH5SN8lWGpThhWR/3v935aNVsI7qzZEiq48KyJQ9s0Fs3zNVhqR20MkcPyfcqb7SqJvpqTLsWoXTzJt6LQGpctn+Rd7U7zvMqFP3lWk21Aakb/ALxPnqqlzHJNtRvuVdqkkK+czv8AfoDUtQvVhKhSpEegNSR/nSod7Qf7lO3rHUM1ysaM9AENvN5jtVys22h/j3fPVj7T5f36JRAtbmrJfxnpMevNoj6gv9qJGs32b+Laa0N615Hpej2eq/GbxfcXECyPbtbPBNJ/A22tqNNTUm3sKT2PZE/eU191EKfItPrmGMR5v7y07M395aclLRqBQubySCZfuyU5L+T/AJ4NU1zt85aSjUsfNM0aLsWpEkbZVOaTzPkqRJvLo1AzYU+b7tXv4Nm6q8P36seXRqBJDVqaqqJU0aeWmzdUgU7mvMfiF4Ss/EDrFcJ8j/I3z7a9QmSub8QaOupW2x2pS2KhLU878N+EvHXw9RYvD+q2/jDQf4dK1x/Int/+uc616Z4JvLyTSt97oK+Hrp5N89sj+b8397cteYzeNte01JdP0/T1ndPkW/n3eQleneAPt0+iK+oXn2u6dvnfZtWiJUzpPOarENV9rVchT5KvU5+pI336pzVfqk/+spRGCPTo6aiU6OtA1I9lWLVPnqN9tFv9+oDUt0ynfwVHs+ejUBKiqR6hd23/AHaNQ1GvUdOeouaA1Dmmec392m+ZQ70BqHmUO9N+WSo3+/8AItAaj+aY70b6b51ADOabS8UeYtWBVmT5K4HSrP7L8Zrl0X/j40X5n/2knr0R3qv5MP2lbjyl89F2b/4ttbQnyJ+egEkyeZXlvxR8Dap40vNF0/b/AMSH7R9o1F/9lPmVa9Qd6IaVObpSU0BDYWcNjYLFEqxoi/cjTbXmrw/8X10h/KX5NJuPn/4FXqj/AHK4PWLBbX4keHNT3eX/AK60b/ga1rTlq33QanN/FG5+3eKvCvh+9lWCy1C6bzfM/j2fw0eJPijrE+pL4X+H/hptWuof3Mt5P8tnaY/vN/FXbfEL4XaD8TdKWy1uBvkbzoLmB9stvIP4lauV8N/BPxJ4LtpbfSviJeeQ7b2+1WccrV30p0XTSk9V9z89CJXuaHgb4VyeHJp/EfiO+/t3xXcR7GufuwW6n+GFaw/hX5cfiH4g3rs13dPqX2fZH/dC/KtdpYeANck3Jqvja/u43/gghWCubT4P6x4L1u+1DwPry2CXzK91Z6rC1yrt/e3VHtIy5k56v7g7HZQ/8U/4bi+2yrB5MbO3mP8Acr5n+HXhfR/jh8fvFHiPUNPiu9EsbdbSDzPmWXZX0NpXgC+1JGfxbqq60+7f9mgTyrVKm8AfCvTfh7NrVxZM0j6ncNM3mfwf7NFGtDDxnZ+8ype9Y8t+Gmmt8E/i7eeCknl/4RTXla70xJ/u2838Ua169421tfCvhvU9VdfMSxtZrhk/v7F3VX+IXw3s/iFo628s8the27eda38H3reSuDvPCvxm8ltM/trwzq2nbWha5voWWV1/2lovDEONRtJ9fMn4Sj8PfhL4b8aeEoPFviuCLWtU1ZftbTSTNtiX+6tSfs5W1joeveOtC0TUJdS8PWN1G9m+/wA1Ymf70atWL4S/Y8h02z+z6x4v1aSyf72lWNy0UFelaV8B/C/hyHytCl1LQo/4ksbxl3101atK0oe0un5aIEttDpPGGq6bpXh6+l1OdbSySNvNevln9mf4dQ/F559V8V+bf6RoMzW+naPdf6rln+Zq+lNN+Feh6bN5tx9s1afdvV9SuWnVP+AtVr4e+ANP8AWurxWk8s/9oX0l83mfwM/8K1z08RDD0pwpv3n5BKOqPGfFXgzTfgn8XfC/iPwvYrpuna5cf2dqNha/LFz/ABba6r9pm2ktfCWlaxFP5H9matb3Ev8Au7vLrpPHmg3GueNvBKfZpZNOt7yS7nfZuVNi/LW18TvBn/CwPBOq6F5/lvdwsiv/AHGo9uuelKbu1v6XC25uQ3K3VnBcfwTRq/514j8YJrfTfi98N7jW2WPw8k0255/mi875PKr2Tw3DdQeG9Mt9QiWO9t7WOGVEfd8wrkfiR4J1LxNYXlvbwWGraddxr5+m6luX5h/FGy1z0ZRhW8i9TurxIdStpYpVWeCZdmz7yuppqQr5Oz+BF2V478H/AAf8SPCuvLZXaxWng1fu219eLcyxf9c2r2zyazrR9lKylcNT43+GPwch8QftA+OvDmsTtd+DdDvG1GDR97eQ8kvzLuWtD9rf4daDPoOn6foMFh4e1S0hmu/9FRYpXtx8rKu2vozwr8K9L8I+MPFHiOyluJL3xDJG86Tv8qY/u1R+J3wQ8O/FuGx/thriCe0ZttzavtbafvLXqRzFe3hJt8qX42I5dC18H9N021+Ffhd9KsV021m023m8mP8AvFfm3V5r+2Gkkfw60XULRlg1ex1y0ezf+LdXvVjYWuj6VZ6fZReXZWkK28Sf3FT5VryebSm+LHxXtriVfM8IeE5t6p/Dd3//AMTHXFRq3ruq9tQ6Hrlynzt8vlv/ABJUXNTzfvKr7PnrzmWN/jpyU5KdSAbspKfUb0AR0U+igCLZ5lOp9O5oAbRSfNS1YBUNS7Kj30AN2Ch6c+2oXmoAkd/nqN/3n8NN3/PQ7/wUAMpNlPpjv5dAAm2lpnmVH5jb6CySo/4qk8ymunz0AH92nVHH9+h6AF5oqJHo8ygCx5lZMyLYuz7fMger1NegCq6Qz/OirJQkMcf8NQzWzWsm+3/4ElTQusiK6UAO2LHTk2yU3Z5j/O1TIlAEez56ds+eh92+h6AH0+Oof9ZUiUAOm+41R2czSQxPTnf+/TbNFjs4vmoAtQ1LTPljplBBLvod6j306gCRKdvWo0dafzQArpTo6ZzS/NsoAkRKH21Gm75an5oAg2LJ/DTks1g+dFp9OoAYn7unI9N2UtAEvy7KhdF/u0/mlSgCHan92paR6k8ugDNfb9vkRPublq/zUE0K71f/AGqsIlADUf59r1JTZv4XpKAH1Mj1GiUtAFmGpkqvDU1ZSDUl5pj03f8APTtjUg1GolWI6hSn0AS76bRTKAH03YtJRQAuyk5oo5oAOaY9P5pNlAEcdQ6lN5cOz+N2q4m2Os2/h+13ipt+589XECxCnyVYTbTUSnbPnoAj8n5/kp2xafRQBE6LUM1s0fzo1XNi0nNAEFtN5iVY3+XTdlLzQBWe5/2ar/NP99fLSr9IiUAQ7I9v3aPs6/7dTbKNlAEKWyx1538PXXVfGHjHU0+5NqX2dX/2Y12123ifVf7D0G8u0XzJ0XZAn9+Q/KtZ/wAOvDC+GfD1raP+8nT55X/vyP8AM1dEHy05PuLqjqqKJKZXIMmqJ08yptnyUbKkCqlt8+92qTZVjZRsoAq7Kd5NXPJFO2UFnPw1eT/V1RSrCVWoEyP89WH/ANXUcKVYm3bKNQKcyVXe2Wf5JVWRKsPUe+lECPyY9ip5S/JV62hWNPkWqf8ADViGby4aJEFh3qaF6z03Vet/uU9RdSx/FUL1N/GlQzPSiMbTkpsdOSmGpG9SQpUXNTwvQGpYk+5Vd3qZ6qu9GopDd9N31G71G70D1JnqHijzqj8ygNSXmoqbvpOaA1Cmb6dvqF6AHfLUVOpNlWAvNMmTzKfRQBWmtmnhZN1fOvjb4P8AxQtfEmoaxo/iHUtWR5N8ENrqrW3lf7PlN8tfSdS7K6qGIlh5NpJ37ia5j5r8K/EL4peGbaKLxH4F8R6zOn3ngeCuk/4aHuLXb/aHw38W2n/bsrV7lsqP5v79bSxNKo25U/u0Dlfc8Th/aZ0H7lx4e8TWn/XTTWq0/wC0h4BukVLtrqPf8+y602SvYHTzPvr5lRvYW8ifPZ28n+/CtLmofyv7w1PNbb9pD4czuqf8JLbwf9dEZa1E+Ovw/wBnyeL9L/7/AFdJN4Y0W4ffLpFhI/8A00tlqjN4A8Kz/O/hzS5P+3ZaX+zdn+AakNn8VPB+pJ/o/iXS5P8At5WrX/Cf+G5E+TXtN/8AAlazX+EXgmfd5vhfTf8AvzVf/hQ/w9nf5/Cem/8AfFHLhe8vwDU6aHxJpMn3NTs//AlasJqVnP8APFcxSf8AA1auPf4FeAd/yeF7WOoU+AngeP5ItIlgT/pncyLS5cP/ADP7g1O8S/t/+esX/fdRpf2e/wD18X/fa1xKfATwX/0D7r/wPkqNPgD4Ljfeljdf+BklHs6H8z+4ep3z39r/AM94v++1o+0w/wDPVP8AvuuBm/Z78Hzvve2v/wDwMkoT9nXwnv8Auap/4HyUezofzP7g1O+eaH+8v/fdN86P+8tcO/wB8Kwv8kGpf+B8lN/4UP4bn/6CyfN/yzv5KqNOj/M/uDU75Jl+XY1HnR/c3VwMPwE8Pxv/AK/Wf/AxqkT4D+H44/vat/4Hy1XsqH87+4DuvMXZ95aHmjj/AIlrz9/gb4bj+R59U/8AA9qbf/AfS/JZLTUL+0k/6aTM1HsqC+3+AanoX2qP++tWN6yfxLXjc37PFxI/yeKLhE/64t/8VUf/AAzrebNieM7qP/bjhp+ww3/P38GGp7NT68cs/wBnW6gud9x441adK9E8H+CYfCMM6Jqt/qXm/wDP0+7ZXPUp0Yr3J3YanRbF2fPVWw02z0qzW0soFggT+COrPNRVxhqOSlpnmUb/AJ6QDUTy6dQ+6o/MbfVgSVC9SJtqPfQAbKP9XTn/AHdQu/z0AOqRKjjoR6sCR3qF7mh3qvvaSgDkfH/xU0X4e3Ohxa7cywf2zdfZLV44WZd23d81dBC/mIro3yVg/EL4e6P8StEXTNbVpIEm86J4/lZJAu3ctef/AAT1W+8Ha3ffC/XWaS90yH7RpN5J/wAvdlXaqMalLng/eW/oLm1PYPO/2qhsL+31JPNtLyK7g3bN8D7l3CvNfjl4w1bR7bT/AAv4Vi+1+MvEMn2ezh+99nh/5a3En+ytdZ8K/hdp/wAK/DL6VZf8trqS7l/66P8AerGVLlgpye4zrNlGxkSn80x3rABarTOsaU+on/eUFjvmkSm1Hv8Ak2VHuagC0j07zFqtSfNQBJ81JzTN/wA9R76AJP8AVvT+arO/z07fQBYd6j3tULvS0ALvqOFPLdttP5pUoAd/q3ojqv51HmUAS0c0zfTkdaAHJUnzb6iqeGgCRE+9VfyfMhieJvLepnem2yfJsoAdDN5m5H270pzvVPf/AKfcon91akR6ALXmfJso31FzSo9AFhKN9NR6ciUAS0m/5KbTKCCVKm3+XUaUvNACvUiPUXNI8y2+6gCZ6EqmszedBvanJNQBd5pUquj1Mj0ASUUzmjmgB7/vEqOF6am6mzJ5nzbvLegBt/fwxp5O5fPf+CrENZsOmrHeNcP+8n/v1pJQBLUtV6mSgCRKfSJTkrEASpahooAmop3NNoAdzSpTKelACUc0+o3oAXmjmm07mgBUp1Mpd9AA6U3ZS0UAHNKlJRQAUUUUAHNP8umVNQAzy6PLqRKXmgCB0pOampklWBTudSt7Xaksqxu9Z+seKtH8OW32jVdTtbBNv/LebbXC+OfBmoQeNl8SxaZda7a/Z1ha2tbnbLEwb7yr/FVH4dXPhHxdrF9cSwRXGt+c26G+T9/Ev3V3K1ehGhHk9pe68iLlpvijo/ifXov7Pgv9dtbT54vsNm0qvJV7xD8Udc8P6Jc6hD4C1R4Ldd7fa5oIK9Kto47eFUhVY0/uR/LXK/FRY7jwHrXmzpAiW7Pvkfb0ohOlKcYcmgO9nqcHo/i74zeJkiuLfwn4Z0KCb51TUr9p5UX/AGttepeFbbXv7Ni/4SBrD+0f4v7N3eV/49Xl/gDWPFHxC0qzu7K8Xw1oPl/K8e2W6lx/FXpngn7dJpS/bblrt/MbbNIm1nWqxkVG6slb1uEO50myo3SpaK8gshp9FO2UACVYRKjSrENZSLOR/iqZEaof4qtI9bgWrXdVp6q2z+ZVh/8AZo1ArvUL1M71Vd6UQK9zdeTVXwxrceuQ3kqfct7hrf8A4EPvVm+J5poNNvJU++kbOtYvwB8mT4Y6VMjeY826aV/77GnqV0PTkSrCfu6pw1c3+ZRqZajpPv1XerD7vlqq/wB+nEByVJTOaVfuNVAQ+ZVi2eqb1Ys3oAtTVXdKdczVVeaoDUH3VXeneZTKsNRUeh0WmU7mgNQ5o5pnzb6WgBdlRu60O9RUAO5pUqGigCWjmmb2o30APqxzVRKm3LQA7fVe5to7pNj013o85aAPM7/4CW7vcvpXi/xNov2ht7JBfsy7qpw/AfxBa7vK+K3ij/tp81eved5aUfaErq+tVfh/RC5TzFPhR40jTYnxU1T/ALaWcFO/4VX4s8td/wATdW3/APTO2gr0zfQ9X9aqeX3IOU85/wCFT+JNnyfEnWf+/MdEPwl8SRpsf4m65/3xHXpCTNUvNL63V8vuQcp5t/wp/WvJ+f4l+IJP++aanwXvNn73x/4okf8Av/adtelZaj+Gj65V/qwcp5q/wWvP4PiD4oj/AO3mmw/Ba++bzfiJ4okT/r5r0jzqd82yj63W7/gg5Tzv/hSzR/8AM8eKv/A+o3+BtrJ/rfF/i2T/ALirV6N5lR76X1ut3/BBynms37Ougzv8+veKv+2esNUKfs6+G4/v6v4mk/u/8TVvkr0ze396pPOo+t1/5g5UeVp+zN4P+ZHude+f7z/2q1V7n9lfwXdb0+069H/t/wBqtXrDzVNC9X9cr/zCsux5PoP7JfgHR5oriVdU1adPnV7q/avYJtuyjzjUbvXNUrVKzXtHccYjkTy91N3tHTv9WlNfdWQw3SUb6io5oAXe1O+ao/MWmvNQA/mjmoHmqvNeeWjO7LQBcd6bVWObzKdvaOgC0j1FSJN8lH+s/ioAc7/JUNPpklWBJvo301Hp/NADH3VXd231N5lRvu30ANfbXz7+1Xqv/CvU8J/EPT51/t7TL5bSCz37ftscn3o6+gNnmV4f4e+Hs3xm+LWq+MPFuntH4a8PM2l6Bpt1924k+7Lcstd+Dkqc3Um9F+PkKRpfs9/D28k3fFDxbcrq3jLxNaxzQPH/AKrTLJ13Lbw17U7/ACVVsNNs9D0qz0/TLaK0sreNYYoYPuotOeb5K5a1R1ZNjI3eo3eiaq/FZFg81Neao3eof9ZQBYR6HmWq7vR/FQBJv/fU56Tmkd/koAa+6n81Ej+ZTf8AgVADpKajyUJNTk3UAFFMp8dADOaOaT+KnJ/u0Fic0iVJTKCB8dPqLf8AJQjtJ/C1AEifvKsb6i5pN9AEyPUM14tjuldWk/2I6cj/AOzSUAZWifbI0ne9b9/cTNNs/uL/AArWslHk1LQAz5t61LRzSvQAlTp+721BVjmgAp8dR76d/BQA7zKalJS71/goAd51V7z94mypP4qJtvy0ARj/AJZ06H929OH31p2ygCwlCbaj30JQQTUU3fQ9AEtL/DUfmU5HoAfzSpTKVKAJPMqZHqGhHoAsI9Sb6g5oqOUCxzSpUNEdQBYR6dvqulTUAO3+ZRvptHl0ASb6HpqU/mgCKn0ynJQA/mjmjmjmgBMtTt9OpuygBKfTdjU6gAoplKj0AO8un07mm0AFJvoeo99ACUj0tFAFDXrlrXRL50ilkdYW+SD73/Aa8f8ABNn4g8aeLdMvX8Ly+GvDWjQskE2pbftl3Ifl/wCArXt9SpXXTxHsoOKWrFKPM0EMPlpXlPx+udWg03SksvD1x4h057j/AEy2tUVmfH3V+avWaguazo1PZTU7XsEo8yseY/Bbw9rWleGGi1XT10X7RcSTRWG/c1vCf4Wr1RE8tF2VThhXzt77t9aCbdlFao6snN9QUeVJBHT6VKXmuYZFHUvNKiVIiVHMWCJUyJQieXUvNRqBxD/6yrCOtV/mkerENs1dGoF6121M7/ItR2yLH/BTnT5KNQGc1A6LUmylpRAxNY037dbMn95a5/4P+H7jwd4Vl0e4/wCXS6k8p/78Z+Za7j5ackMciU9Q5tBqbq0ET5FqiiLWh/CtBBJsX5fmqq9WaqTf6ynEB2+kplR76oCN3qxZ/fqq9WLarAkmqrUj1Xd6gNR2/wAum76Sk2UBqLRTPLo3+XVhqO31FS76SgcQqJ3qWon21AhnNFMd6z7nWLW12+bd28G//npMq1UYuQGnzS/8Cride+Jel6Ptiil/tK9f/VWdj+9leuf/AOFe+LvibN5vi28bw94a/wCgJav+/uF/6bSrW8KD3m7INT1hN1O/grN8N+Hrfwro8WmWjSyWtv8A6rzPm2L/AHa0JKwkBRvJmr5l+Lv7VF98L/i1ovh97NoNIeNXurm7h+WXP91q+nJnZ6434l/DTQfiV4YudH8QWcV3azL9/wC60Tf3laujDuCmlUV0OUdDotH8Q2PiDR7bU9PnW7srhd8UyPXF/Fr42aP8J9EW4u5VkvZm2Wdhv+a4Y18U/wBq+Nv2c9SubfwP4juNa0hGZJ4bqHz7N2/2fu/NXuH7K/w98O/E3Vbzxr4w1NfEvi//AKBt0+5rf/gNetPLVRTrVHeK+8z5/s9T6U8AeKo/GPhu21NNsbv8k6R/wSV02WqvDp9vYvL9ngWDzm3t5abak8uvDna75diyRKHekqptaswLSO1Sb6rpD/HUnzUAP5o5opk22gCvc7pK+O9b1r4zfAvxz4j8UXbXnjDwV9ubdZyPu2W5+bzFr7EeqNzbfakZHXzEf5GSSuyhWVJvmjdMTXMYvgDx/ovxK8MW2u+H7xbuymX/AIFE391q1tV1L+zdNnu327IY2dvM+VeK+bfG37OviT4ZeKpfHfwfuWtJ3+e88N7/ANxcf7tcn48/ark+L3hu2+Hmj6LeaL451m4XTtRtp02xW8f8W1v9quiOFjUkpU3eL38g5jsP2SPjl4m+Juva1b+JZYp4Lu6Z7Dy/uxKP4Vr6qRGrz3wZ8H9J8Fr4Vt9P0+zg/snc8s0fys8hi216TWOMlTlO9JWQRIt/z06SmUr7vMrhGSOnyUP+7qN38uq80zUAT81A+6OhN1Dv8lAAn3KSlTdSUAVJq+Nf2q/2h11Lw3448BJ4c1lERo7b+24N3lbo5Ekr7Qkrlbz4b6XdW2qpLF5l1fLMjXMn8HmV6WDqUqVRTqq9hS2PGf2SPjlH4x0eLwPqs/ma3pNuv2W537vttvXTftRfHVvgR4Ag1C0WKfXtQuPs9mk/3U/iaRq85+JH7JzfD17Xxx8L7yXRfEOjL9oa2+9BcKF+avJUm179tzxJPLLAuk6daRrbs/3l/wBnatet9Xw+IquvB2hvbzJ1irH0d+z98cvEnxU17TPtumeXol9pbXC3McO1Vmjba1fQX/LNa5n4W+Bo/hz4A8OeHNy3c+mWf2f7Ts27mPzNXTO9eHiZwnUbpqyL1GVE71I+7ZUb7q5gEoopjvQA56j8ynb6bQAI7VN9pNVd9NSagssO7VXmejzvnqGZ/vUAOd2qF3am76d/rEoAy9b1yx8OaVPqeq3kVhp1uu+W5nfaqVzNt8XfBepfPb+L9Dk/7f4lrovFXhXS/Gmg32ia3bLf6XfL5M9tJ8u+vOdB/Zj8D2Ng2n3uh2+pQQ/6i5k3RT7f4VZk27ttdNNUJRftG0/INT0izv4dSh32lzFdp/fgdW/9Bqx5zf7UdeZ3n7MHw9k+e00+802f+F7G5ben/fW6obP4CXWjw7NE+I3iawT+FJ5vP2f99NWns6EtpgeqJuk+5TvOr5t+K+m+PvDOpeDPC6fEvWZ38U6pHY77W2gglt13JukZlXdX0lbWzadZwRS3LXbwxqjXMnytKwXbu/4FU1sP7KMZ817gCUlWdlNeuQCvH9+pKKZzQAUUUm/zKCxKfvWOo0fzPnodKAJvMqPfVXe32lqmoAm+aSnVHv8A4aXmgB/mU+oPOqbfQQSb6Eeo99P5oAlR6fzUG+paAHc0jvUfmUygCffUiPUKU5KAJt9G+o9lOoAk303fTadvoAclD03fT+aAGWzrJuqR5vLRnqikK2t+zxR/fWrHzSbd9AEltcrdQrL83z1JUKVNQBLzSb/kqNP3j1JsoIGo9O4pz01KAJti1In7um76Nnz0AT0yiigCXmnx0zmioAl+Wj5Y6P4KioAnR/nqSoUqTfUAOf8Ad0Jupu+hKAJN9LTKKAH0iPTaI6AJN9LTN9G+gB3mLS81BvqbfQAtFJvpaADmin0UAN30lFFABzRzRSvQAlPplK9ADqkSvD/iv+0Vb+DnnsvDltFrOo28my6eTd5Fv/3z95q9I8AeNrXx54esdYspVktbuPerxoy/+hV1zwtWlTVSasmRGak2rnWeZUM37x1pv+rfbRJXIWNSH599TI9V/M/uUW1n5b76ALyPT6REqesixUqZEpsdPqNQCnUc0c0alnJW0K1pIi7Kz4a0k27K6NSCSGGoXqxClRzbakgrulJzT5KiqtQE+WpodslRVOiUAO2VPTI6kdKNQI/4/vfw1C+2pnRZKqvCtOIDm+5UVS+XUfmLVAR1NDVap4dtADZqrujSVadGqFPv/PQBD5dSJTti1G70BqLTKPMqF3qwHPtoSo/LqbZQOI16j8urWymulQUZt4n7mvH4fAfh/wCJXxd1CLxBp638GmWK+Ukn3dz17RefcavM/Adz5fxs8UW/9+xt3ruwzcVNp2aRE+h6N4e8JaH4Vtli0fSrXTU/6Zp89aTu0lPp6I1cMpuTvJ3AqulU5t1XJqh8ugspvN/fZa8T+NnirVPEEK+FPBjNf69dzLDP5HzfZ4f4tzVJ+054wuPCvhKD7PqrWH2u6W3byP8AWup+9tr0r4IaP4b03wHp934cgX/SI9k95Ii+a7D+9XqU4KjTWJmr9u1/MzcuZtHF/DT9m+z8PpbXviXytS1GH/VW3/LKKqfxO/Zsm8Qa9beKPBWpr4T8Swt800HyxXH+9XpXi34r+EfAd5Fb67r1rpk8y71SSq9t8aPAt1CrxeI7P5/+eny0SxGKqS9pZu/3Byo6DSra8g022TUGikvUhXz3g+67Ve2eYleR/EX4/aHo9tZ2nh/WtNu9XvrhbeD59yp/tNXbfDTxVceLtB+0Xar9qh+SV4Puy/7S1zzw9SEPaSVkF1c6TZ5dN+b5vlq08NN2VxjIUp38dTbKb5f+wtAEf8FNdGkSpkT/AGaHSgCq6VD5NWH/AHb1VuZljRndvLRKsDlfih8SNN+F/gy+8Qag3yW67IIf4pZj91a8l+BX7Pdv4g1LUPih44torvxL4hZbiBE+VbRar21m37RHxOXWNQna0+HnhuT/AEXzPlivZh8rSV9Pfu9i7fufw16dR/U6ShH4nv5eREZcxn6Po9rocP2e03bP+mjszVaeas3xJ4nsfCOiXmsanP8AZLK0j3yv97YtWtKvIdY02zvbdvMtbuFZon+78p+avLd5e8yy9/rKjd6N7R0fNIlSAyoHRZNtWtlN2UAQonyU7y6l2f7dRN9+gAR23/dplTVE70AQyVHu+Rn3Vi+MNbuvDnhjVdTtLP8AtK6tLeS4itt+3zcLu214r48/als7X4XaZqfhqJb/AMUazCvkWG/d9kY/eaSuyjhqle3Ir9BcxofHXxzq3i6/X4X+DG/4m+obYdRvI/8Al0hNd98NPgJ4R+E9tp66Vp6yajbx7Pt8n3nas39m/wAE6b4f8Df26k/9pa9rjedqN/J/rd38UbV6J4h8Q6f4Z0efU9WvIrDTrdd8tzO+1Urory5P9mo7LfzYRL0z1Cv3K858JftCeB/Gmqxafpmrt9qmbZEl1C0Hm/7u6vStnl/JXDOnKk7TVmMj8yh3op2+oAheo9zVI9JQAxP497UzmpXdahmoLGu9Q7/LryPwl8Rdeuv2kPH/AIN1CdrvRLe1tLjTk8lV+zqYId3zL/ed69g2fJWtSnKk0n1RMZcxVeao/lkri/jT45vPhz4DudYsbbz7rzobeLzE3KrSNtVmWvF7j/hcXwk8K/8ACwPEHjFtaskuobi+8Nz20fyQyNt2q235a3o4WVSPMmlf8Q5j6cSGpl+5RZzR31nBd27eZa3EazRf7rruWpE27K5dSiCl3tHUtVpn+bZUgSPTKZv+So3moA8R8Q3P/CQfteeDNP2+ZBoei3F83+8++vepk/c14D4Sf7V+2T4vl2/Jb+HY4f8A0mr36Su/Fe7yLsgiV4X+RfmqTfUcO2nfLXABG701Ka7rs3u1RUFk8n3Kan36jeZY0qF7xYH2bWk+WgAs3/crVj+NKq2//HstTf6ugCOP/j5lqx/q0X5qh+XzmqT+CgAd6aj1HUiUALzU1QfL/HUkdAEnzfJTt9N2fJ96nfx0AOjqbfUNO30EDnpeabT/AJaAHJujp9MkprzLB87t5fzbKAJ6XfUPmU5KAJEp1Q/LTkegCT5o6KjR6koAE/ePRHRUbybEoAtJQ7/JVVHkj++2+plm8ygCaOpHeq6VJQBJvqRH8yodlN8yggtI60b6hSpKAJt9G+o9/wAlCfvHoAm8yn0yn0AL5jUI9JTuaAJ0ekpEelrEB6UlIlJQA6l30nNHNAC76SiigB8dMoooAVKk302peasBtO5pmyj/AFdAD6fTflp1QAUU5KfzQA2il2UvNAEVcb8WtevvDPgDV9Q09W+2pHsif+5vbburt+aieFZEdHVZEf7ySVrTkoSUpa2FI+c9NsPBOh+ALyWy8R6bJdQ6fNMzyXke55ivzSNXUfArxVp+m+ANDS41Ow2fZd+/7TGtSfFH9nv4e6r4S1y7/wCEM03+0UtZHWaBGi+b/gNVfhF8B/h7pvhjSruLwvayTzW8bs8k0ku5v+BNX0VTEUKuHd29/IxjFxlseheJ/E8kGmrLoixalezLvi+f91t/vNXmfjPT/FWm+G59b1Px7cWE/wDywtrGFVV5D91V3V3njnxbofw1sFleBZL2ZfJs9Ng+8/8AsrXE+GfDbeINbi8UfEDXLD7VbtvsdH+0qsFkv/s0lceHjyR9pb3fS7ZUve0PVPAaahJ4e099Tna4vfJXzXk+X5q6jZWHZ+NvDMcK+Vrmmyf9c7la1LPW9Pvn2W99bz/9c5lavIqxldytY2iXEp9JxS1zFD6fTKfUagJvod6HqKjUDAhrQSqsNXI6sCREqu+2OrSVVmoiBC9Q0+mR1rqAInlvVxKpolWF+5RqQSI9SO9Qw053oAm+WoXpyVG+6nEAd6h8xakd6q71kqgB6Iaa6U6HbHQBYd6hfbUn+r/hqN9tAEbutQ7GqfmoN9WGonNHNM2U5HoAcm6paYj07e1QOIPQ9SbGpvmLQUV5v9TXmPhi2kg+Ot8+35JtJWvULl/krzfSbny/jdBF/f0lv/Qq6sPtP0Jl0PVHoR6b5lG5a4tSiGZ1rn/E3iez8M6VPe3s6wQQ/eeStq48zY3lffrxW88JePNf8VNqeq+HrPUrW0k/4l1hJfqsCf8ATSSuvD04zfvuyRMpFjTfBNx8QryXxX4js/Lg8lodJs5Pm8pT/wAtG/2q0P2abaax8GSo7L/x9SQy+X/z0FXryw+LmpJ/x9eFdGTb9yNJJ2WuR+Cfw38ZWv8AwlFvceOGtEh1RvksbNfnb7275q9ST56E4OaSM+q0PWr/AMGaPfeKrPVbvSrW7uvLa386dN2xfvVqXnh7S7pNjaZZyJ/1xWrGj2F9psOy91X+0v8AbkhWJqtP+8rx+eUWrPYs8F1vwHod98e/B0P9kWccEMM1wyRwr87CvfIbaG1hWKKJYE/uRptryO5ufL/aG8NJ/f025r17fXZjJykqd30FHqJzUUlS81SvLnyE315oyT5pHqSuJ+FHjDUPHmm6rqd3Fbx2SXzQ2Lp/HGK7mtJRcJOD3QENI6fJUklNf7lSBTuf3deI/E7WNY+IXjDT/hv4c82OC4+fXb+P5fs9vt3eTu/vNXtl/bST20qRN5buvyvXO/CX4e/8K50S8S7vv7S1S+ma4urzZt35rsoVI0r1JatbCkcn8afBmm6H8Adc0Syg8u1tLPevl/L8yV1XwcS8j+F3hf8AtCXzJ/sMe59+6qPx723fwl8QxbfM86FU2fVkrrvCujx6H4V0jTLf93Hb2sMKfgtVOo5UFzbtjOL+PbNa/CXxRLEq70sW+SSus8EpcR+CfDn2v/j6/s23835NvzeXXO/Gyza6+GPiGL+/a121nD9lsLa3/wCeMMafku2s2/8AZ0vMNSRKXmjmsrxDrEeh6JqGpS/6i0hkmb8F3Vyxi5S5YhqatI9cH8ENY17xN4Attb8QM0l1qEjXFr/DshP3a77YslVUg6UnBu9g1IaZU/FR1IDOaqTVbrkPiFf+IrHw3O/hLTrfUtbeRYYEun2xLn+Jq0hHmaQHI/HXxsvh/wAKz6Jp6td+Jdejax06zgTc3PytI3+yteV/FT4G6D8NfghbPpltbx+K7GOytPtn/LeVjOitXUab+y1qXiDW5/EHjvxnf3er3Cruh0d/IWL/AGVaj4wfs3+BdN+Dnix7LRfM1G302a4iv7qZmn3R/NX0NCpRw7hCE7u+vYy1lc9g8H3+j/2DY3FpeWaPd28M0qRzL/rCvzVD4z8K2PjS/wBM0/VbGK/0i33XbJJ8yvIG2xVzvgf4OeBZ/BPhy4fwrYb5tNtnb8Y0rsLPwlp+h6Vc6foitpKXCsm+B2bym2/eXdXl1ZRVRyg3c11PP/2hNN8K2vwx1OXWILOweGP/AIlzxosUqXH8Kx16F4MTUP8AhCfDz6wrf2p9hh+1eZ97zNteV2H7JHg+e5gu/FGoaz4wmh3bf7SuW2pmuytvg5pOhv8AaPD+oatoT/L8kF40sXH3dyvWtSdKVNU+e7WoonbTItRu9Q2EN1Ha7Lu5+1v/AM9vJ8quZ+KOt/8ACOfDrxLqf/Pvp8z/APjtefCPNJR7jOgs7yHUoftFpPFd2u778Dqy8f7S1NXnP7OXg9fBfwZ8OWTxNHdXFv8Abp/9iSX5q9K2VVSCpzaTukBBSPUlR+TWRZ434GubO7/ac+JsSae0d7aafYJLf7929Xgt2Va9i3+XXA/8K6vNH+NEvjjSp7eSDVtPj07VrCd9v+rb5Zo9td89dNeam4tPoTEyfEnhvT/FWm/YtTi8+186O42f7Ubblrx39pnW1utN0rRNY+2ab4NvpvtGtaxa2zTsixtuWHau7buevTviF4zh8AeG21i4s7q7gSaNGSxhaVtpbbu2rXms37TOm3X/ACL/AIT8VatN/wBM9NaD/wAeatcKqkZKSjdIJHfeBvi74L8cbbLw1rVvO9uvkrZyI0UqKny7drqtdon7uvn+28F+KvjNr2n6x4g8K6b8PdOsZvtEU0b/APE2l/4Ev3a+gH+4tRiacINcrCJTSby5vnqP5ZLlnT+7Vp0X+Nqh8la5CirM6/bPK/vrTZkWNN/9yrHkrUb/ADvQWeI/DSzurr9pP4iXstn5FklnbwrNv+/Xuz7f468P+A9/HrHxd+MF35H3L6G33/38NNXt3y767cXeM0uyX5ERGptjSq/y+cyI3yVcfbsqF0WuIsrzQrJbMlSJt8lXptQwp5kNABc/3KPl+/Tab/q6AHQ/xf71Tf6tN9R2yeX9/wDvU7+PfQBHs/fb6md1ofbVf99/s0AQ215DdP8AIrf8DqaaZYNtVYUktX+dfM+X5fLp03+lbU20AX+aRHWObZVffJG/3fkp2/zH3or0AXHmaPbsX53pqTfwy1H/AB76bND5m3Y3l7GoA0Eqv9pjkmb902z+/UfnNHVXzJqANKOZZE+Rqrw7o9z7vMqqs3kI3ytvqS23Sbndfv0AWHuWnfekvlolUZplkv4Ipf3kiNvWpLOFoEaL/VojfJUl4i7Ffb9ygDQR/u0+q0P3EqZKCB9SpUPmLTt9AE9Mmm8vb/vVHvaNKhm/ePF/sNQBYdPM276hT93D977jU7zm/wCeT03Z5cL0ATecsfz02zmWT56jhdZEVN1SInztQBaqRKh2U6gCZPufPUtMjp9BAUmyn80UAPX7lOT93TaZQBbR6KhhepqAJeabTKfQBL5lFMpd9QBLRUSVMlABspaOaOagBdlCUlFAD6KKH3VYBRUaVJQBLzUDvTv4arx0ATI9Wqpp8j1aR/MqZAS06oql5pAFFHNHNABzTaR64f4l/E63+GtnBLLpGra1NcbvKttKtmlarhBzaSWoanaTbdjpWHo/hXSdKuWltLFYHrx9/wBofxZdP/oXwf8AE0kH9+fbFV6w+K/xI1WZvs/wrurRNv37q8Va9OODrJbpL1RHMj1LxJ8PfD/jGaC41XT0u54V2RPvZdi1nw/BDwDG/wA3hWwuH/vzpurnbfxJ8UpIVf8A4Q7TY/8AYkv6sQ698VJH+fwvo0f/AG/1Ps8RBcqqJL1DTsdpZ/D3wrY/8e/h7TYP+udstXIfDej6bMstvplrG6fxxptri0m+J11N/wAe3h+wT/faWtjSrPxp9vifU9S0mS1/iS1tmWsJwnZ3nf5l6nbQusiU538uoYf3aU3/AFk1eaWXkp/NQIlEk3l1GoEtMkqPzGprzUAZsdS80xHp2+rAmR6hfbsqTzKpvuqogRyUJuopnNXqAu9qsJN5aVRp6fx0agT/AGl/7tWHf7tV4XqaSggfTJKl5qDf89ADX+589V3276tTbtlVdlWAb6dD96kp6OtAEz7aq/aYZLnyvNXz9u/Z/FVrZ8lQ+Ts+fbQAzmoHerTotV3SrDUr0+ldKciUACJUyJQiVIiNUAMpjpVmot9AFWbb5LV5r4YT7V8cr5/4LfS1T869Iv3WOFq4H4Sw/wBpeJPFmt7fke4W0i/3Urqo6U5y8gl0PTJKryVT1XxPpOh/8fuoWtp/sSTLvqnpPirT/ED/APEv+0Xf+3HD8tcahK17aAbiVPUSbdlS0tQGOnmJsrB0Tw3qGh69qdxbz2smnahIs0qSbvNRgu35a6DfS04zcU13AlqPZ5dN303f/tUtQPNdaSHSvjH4a1O7lWCF7W5t98nyruK/LXpiOr/xVVuYY5E+eNZ/+uibqIZvMRfk/hredTnS8h8pY/irm/Hk11B4Y1N7JfMuvJbyv96ug3019tZqXK1IRl+BvDdv4L8JaVolvt/0SHY3+3IfmZq2vMqKkT93Q5czbe7As1E9N85aXmoAVP8AWUfx1C7035qAK+veHrPxHpVzp96vmWtwuxquWFtJY2EFu87TvCuzzpNu5/8AvmjfT6vmduUNTK8VaCvibw9faY8vkfaI9m/72ytJ3p/NRUczskA7/WVwvxms21XwY2j/ADbNTurexby/7rt81dt5y1Dc2dvqXkfaIvM8mRZl/wBhhWlOfJNT7AWLOzt9KsILK0Xy7W3jWGJP9kVNvWmVA71mBJTd9N31DJN5dAEjzLH8lRonz76h8ypPO+SgCT5az9b0q38R6HqGmXG77LfW8lvL5f8AdddrVcd6alEZcoGP4D8N3Xg7w3Y6Pcar/ayWMK28E32byG8sfd3fM1b1Mo5qnJybbAOabTG+5UO+pAmrk/iX4SXx/wCA9a8PpOsD31u0Ku/3a6Z5qrv9/fVQbg01uiyHREuLXSrGK4iijnhhjhZIH3KjBdvy1e84VTd/LejzqJSAsO9R72qF5qaj+ZTAm/iqO5uVgjprvXjfx4+J194fSx8L+FZfP8f68y29imzd9njLfNNJWtOm6slBAexedHJUnnf3Grmfh7beILHwHosXiW5i1LxEkOy8uYE2q7bq3od0e6oleLcQLD/vKN/8CVHUe+pAkkqv5lRvf28G53nijT/po61RfxPo8e3frGmx/wDb5HVcsuzA0N9NTbH87tXO3PxF8Kxoz/8ACUaNHs+8/wBvjrB/4WvofjTTby08H6hb67deYtuz2vzLFvrSNObewGD+zHNpeq6V4s13T7G4tHvtam895/8Alrj+Ja9keqPh7w3a+FdHttMtF8uCKtDZTr1PaVHICP5aheh0ao0RqwLHI9VZpvI+f+B/vVM9R+XQBTmSS6vF8qXy4E+9/t1cqvvk+3+Uir5Hl72q3QAqU7fUaUtADN/z0+mUf6ygCN/3lLzT6ZQAqbaSlSj/AFlADo6NzUJup9ABUWxo6d81PoAi3tUiUbKclAElFMqagB1PjpnNFBBK9LUNPX79AD6ZMn3X/wBqn1E26T5KAJE3R/ep/NVLmby7CV/44VqSF/Mhif8AvrQBN5a/3KsQpUP92nf6ugCb/WVJsqNKkSgCzSJUO+pPmoIHb6cj0lJvoAmo/wBXUe+loAlSn02nc0AFPqPfS0ASpT+ag306OgCRKmSq6Ub6ALG+lqBHqSOo5QH0qVHHT6AF305P3lMqdKAG0U+lSgBuyo/Jqenx1AEaQ1IiU+igAoopNlAD+aOabSpQAvNQPcxw7fNlWPe2xPMfb81TPXh/7TM0kdt4Jt4rm4gnuNchT93XTQp+0ny3tcUpcque0eSsn8TVDNDHHt+VqbpT+Zbfer55/aW+NmpWNjZ+HPCUWpR6pfXHkrqVqn8Sfwx1ph6FTET5IEykoK7Po62eOP8Aiqb/AFn3FrwPSvhR8SL7R7a9f4l6lHqiRq/2aS2j8r/dr1L4deJLjxBoMT3rL9thbyZ/+ugorYb2aupJ20CMvKx1T7qbCjb/ALtZPjDxVa+DvDd9qt23yW8bbf8Abk/hWvF7b4qfGSNLPVbvwZpv9iPtdvss26faamjhZ1k5LT1YOaifRWzzKcieXWH4P8W2viqwW4t90f8AfhkTayN/dauhrjnF024yLHo9Neq7Qt/A1O2Sfx1gWTTf6l6qonyVNs8yjZ5dAGalOo+WirAmSoXTy6sQpULpQBVqN6kpnNa6gV6fZzLIjf7DUP8AvKIdsFGoFpKsP/q6r237x6mkoIHfwVX/AI6sJUb/AOsoAdN9yq/y/wB+rDv8lVflqwHSU3etO/4DUf8ArHoAtfwUlIlLQAmyo3Ral5pHoDUp/LvqZE+Sm+T5b1NsoAcm2lo5oqAG0U6ijUcTkvH6a0nh3UH0Kz+16p5LeRD/AH5K83+HvwL8WWvh6zt/FHjO6t7X5nl0rSk8r5j97dKrV7rRXTTxU6UHCK3Dl1OM0f4S+EfD777fRop5/wDntdfv2rrIUjgjVEXy0/uR0PTd9c8qkp7u4h0zrTo6ip3NQA+o0ehn+T71eH/tG+G/GmqaDZ6h4S1y/sLrT5muZbO1/wCXuOtaMFVkoXtfuB7h538NR18+/Dfxb8TLXwxpmq3EC+KNOmj37J/3V/Xpnhv4u6D4muv7PmaXRdX/AIrDUk8pv+A10VMLOl5pdtRcx1lzN86ojUI9Vbmby3oheuTU0NDzqHqj/HUjvRqQSSTeXTUufvfM1V3qPe0dGoFzzo/4lo+2eZWb5zV5P8UfipqEmoReBPAn/Ey8a6h8jTR/NFpkf8UkldNGnKtKyG7RO6s/ivoupePm8JWUst3qkKt57wfNFbsF3bWau6SvPfhF8ENF+Emm/wCjtLf63Mv+malO+5pZD8zNXoD1VeNOMuWm7pExuOepaqI9OWbzK5Bk0z1X87y0p0z/ALv71U5v4fmoAd53ztTUm8ujZ975qrvuo1LNJ5vkqOa5WN6qojU6bbTjIgc83mfcaqs03+1RClQ3KUFnJ/Ez4naX8L/Dc+t6rK2xPkgto/mluJD92Nayfg/oPja6uU8W+JfEN5s1m13t4YnhXytP/ii8tlrg9H8v49ftCK6Qfa/BXgiNvn/hu7819KXT/PXoVEqMFC3vP8DPqQzP/BQn3KjdKk31wjJN9LUSbqSgBP4aozTeXu+arjvVG52yPEm3/boLI9/mN8jVM/3KTmoHTzE+egsdvWT+Kj5aq2f3G2fc3fLVqOgBruv95aj87/aqZ4VrLv7OP5X/ANXtbez79q1cSDnfH/xC0/4a+HtT1vVZf3EO1Iof4riY/djX/aaub/Z4+HV5aw33xD8Vr5njLxD8/wC83f6Fb/wwrXM+ANK/4aC+Itz4u1P954G8PXTQ6LZyfdvbgfeuGr6IuX8+Zf8Adrvn/s8PZx+J7+XkT8QbVqF/3e6o5na12p/fqR/3m5K4CivvWf7lYd/4J0HVd32jSreTfu3eX8u//vmtqFPLdkodKcW47MDg2+AngG6ffceGreT/AK6XM/8A8VUKfs5fDfzN/wDwiNrJ/wBdJpK9ERKkSt/rFX+Zgef237OPwzg+54J0uT/rojS/+hNXWaJ4V0HwXbNF4f0PTdFSb7yabbRwb/8Ae21sJVW5mWO5X/bWolWnPeVwBPM/jZal5qt/FQj1kBXv5po/9UvmU1LnzE+dfLqaSqcO2Tzf7m6gsm2LTfl+X5qqzbpJvKf/AFCVJsXZ92gAmdY7ltjf8s1qOFGg/i8yqaWywXi/N95atTf6v/gS0AWaej+ZUVOoAR6EpaOaADmm1S+2Sec/3diU6ab/AEZn/jdaALW/5KPOZN2xfMqr80ENWrZ12UATR0+q0M3zt/vUJNJ8z7V2UAWNlO2VXSZZ6ckzb2TbQBPSf6tKhfdImyiF/kWgCepqqeZUiPQBMlSJUMdQwzXElzLv2+Rt+WgCzv8A9mn71qu701Jo9ivQBZpLndHbfJ9//ppTUem3L/Iv+9QA50Wf5HqaOqqP89TJQBJ5lTI9U0dqfzQBd86hJqjR6NlBBapybv71V0epEegCxvpyPUKU/mgCal3/AD1Gj0+gglqXmoEqTfQAtO5qKigB9PSmUu+gBafTOafQA5Kk301KdsqJAOqRKSlSoAXmlTdTqKAJeaOaYlP5qwCn1GlSUAOSh6N9RvQA7zKJKhemo7UATI7VLUSVMlACV5V8e7NbqHwZ8vmbNehf9397ha9W2VxvxF0S+1J/D1xaWzXaafqH2iVIHXdt2/w7q6cPJRqJkTjzI3Etl1LSpYvnj85dm+vN/i14Na1sPD3iDR9Pa7n8N3TTfZoE3M8J+WXateiaVf3UkK/aLb7I/wDzx37q1EeSP+GlTrSoz5kU48x4rD+1R4RnhWy0SDVta1t/kisI7CRW3f7W6u6+F3hi+0rR5ZdTXyL2+ma4nT+4x/hrqLNIYJmdIljd/wCPZV7fWlStDlcacbX3JjF31Zy/xL8E3HjTw3/Z9peLBdJNHcReZ/qnZP4Wrk0ufi5a3X2eLwv4ZnRPk+2f2kyr/wB816pvoR/LrOGIdONmk0VynO/DrwfqHh+znl1WeKfVLuZpp3g+7u/2a7J0qNJqcs3mVx1Jyqyc2VEfzSbKSno9YFBs8umvRvpeaAMen0UR0AWoarzVYSqt1tqwK8lM5o5pOK11Aaj054Wkpqffq3RqAkMPl1M9Qo9SSUED6ZTkqF3oAc/3Kr72qSZ/kqv81WA7fQlGzy6ciNVgTJ8iUbPn+9RspagBHoSnPTKAFdKbsanPTkSoAZTuaXZSUAFFPpr/AOso1HETmm07mjmpKIqiqxTKCCu70+mOlFVqBH5n+3Ufk1MiVLQBmQ2Edj5v2dfLR23sn+1XP+M/h7o/jywa01ixWdP4X+7Kn+61dbS7KuNSUHdOzA8Pj8H/ABC+Gu5NC1CLxRoifd03Uv8AXov91Wrc8PfGbR7q8Wy1i2uvD2qfxQ6lDtXd/stXqWyqOseG9L8R2b2+p2MF2jLs2SJXZ7aFX+JHX8Q1Go6yRrLF86P9146XmvOr/wCFeteEd1x4H1yW02f8wq+/ewPUNn8XrjQ5lt/HGg3Xh6fds+2QJ59q/wDwJaPq/Or0nf8AMXN3PSHqjqV/b2NnPd3c8Vpawrvaad9qotcn4k+Nngvw/pLXv/CQ6bfu/wDqLOxuY5Z7hv7scS1x/h74e+IPjncwax47lXTfDX+ts/DdrN8z/wC1NRTwzs51dIormI7zxb4o+MV5Lonw/wB2maJ9y68VSJ/30tvXrXw3+Gmh/CvR/sWlQfv5vnur+T5p7hv9pq6jTdNtdLsILKygitLWFdkUMabVSh4amde69nTVl+L9RajKg8xqtbGqF4W/u1ygVX3eZU1s61J5NR7KnlAjmeod61aSFv46c8K0coFV/nSm7KkRKd5dUWV9zUJC333qbZTvloAr15X8ePHk3hXQYNH0qX/ipdcb7DYpH95M/emr0zWNSt9HsLm9vZVgtbeNppZpPlVFFeO/AnRLj4oeM774p63beXa7mt9Chk/gjH/LSu7D01rWmtF+L7EykenfCj4dWvwv8DafoVuq/atvnXk39+Y11EyN/DVp0ao/lrlnN1JOb3YinMlR7Gq06b0qNE8ysyyPyf7ktNTds+erT/u6ryffoASqVyixzRS/7OyrUlV3SgCP5dtQ3P7ypvs3l014aAI4Up0lOT/V1G6UAN3+Ym+vJfjr4k1Ke2tvA/hrdJ4h8Q/uW8v71vaH7zV23xF8c2Pw18GX2u6h86Q/JBbfxXEx+7Gtc78Dfh7fWvn+PfFC+Z4v1xd/+zaQ/wAMa16FCCgvbz2W3myZHdeD/B9j4D8K6ZoWmL5drYx7P99v4matKbd8rpVp6runmVySk6jcm9WUQ3MPn7d7fcqHZJv+9Vr5t9QvUgR+T/tUbGj2/N8lS80c0AM3+XUez/SVdP46dRHQBI9VblPMTY9SO9Qv+7oLGpujRqHemvUfmUARv+8pqf3NtHzUJuoAheFpLnzd3ybac6Ns+RqmSl5oApbG37/9miZGkRdlWPLo8ugCFEbeu+rNFLsoASiiigDKuf3byvu8urUds333l8yi2h8x53dfv1Nbfu90X9ygB1Ntk8hP4vvVJ80lSbKAK+9Y9zv+7Sqqbp3bZ+7SrkyLUaItAEKW00H3Jfk/3KsQp5b7/wDWSU5/4di/JUiUAN+0+W/zq1OSl5pfloASlTdTqI6AJkqrcs0DrsqzUX/Lz/wGgCH7S08OxIvL+Wo5rb7uz+Bdmypn/d/7lG/zKrUCOGb+7+7f+5TkvPPfZtb5Gp2xd++mvD5kyvRqBb5qVKrpT6kCVPv0+on/AIKd/rKAJvMqZPuVT2eZVr/VpQQDvUkL1XfdTkqtQLm+pkqqlTVIFihHpnNPoAl5pN9N30tBAu+m+dTXeo0oAsI9SR1VR6m2UAWN9N31HvqTZQBMj1MlVYatJUSAkT/V05HpKVKgCSimc0qUAOo85qa9Mq4gS+ZR5zb6h3035qsDQjqGZ6aj/JTd9QA5HqTy2qOOpN9ABNup0LtSc0c0ATpNUf8ArKKrujfwNQAeSsk33amdPLSo0Ro6c9AEcztsrjfhX42vPGnh5b29gt4H86RNkHs1dtsryX4Y2a+FfHPjHQrjbA/277dAn3d8cn8S11U4KVOfdEX1R695leO+Ofjfrnh97m48P+DrjxDpdi3+lXPneV/vba9S1uFtV0S8tLS58h5o2hWaN/uZrg/HO3wd4JXTLSNp7q7X7JAn+0arCqEpJTV7hK9t7HdeBvGFr4x0Gx1W3iaOC7hWZUk+9zXQQvXI/D3R/wDhG/DdjaP/AMsYVSuqR64asYxm+TY0j0Jn21H51Ru7SU3zm/jWoEWvMo8yoXmWm1HKWVfmp3l07fTt9QBMlU3q0j1Tm/dpVgV3peabRWoETvJsbZ9+pLPzPsa/aP3c9Oj+/Uz7aUgHQotSSU2GnSUyByVXmqb/AFdVXdXpxAk+XZUKVI+3ZUKVqBN5dEdFC/fqALC/cpuynb/LSmUAFHNJ/FS1ACbKWjmjmgBd7UPTKKAEd2p/NI703ZRqWO/4HUdPplSQHl016c7/ACVFVagMkojpz02jUB9J/HTkSjZRqBHTKfRQA3fQ9CU5vuVYELu392obmFbq2aKWJZEf7ySJuWp6Y70AfJ/ir9nvwnH+0Dod7FbNpt1qbM6zWvyrF5fkx/KtfTXgzwT/AMIil5v1e61qa4ZXaa6+9xXk/wAQEkk+PHw0S33fI1zu8tN3y+faV79XrYyvOVGnFvRoi2rI9/zrS0qUleMWRO9HmVI9Q/x0ASOlV9lP2f7dK6eXVgR/LUe+pHqu/wDq6AG0U1HqWgCGkmqSuP8Aip8Qofhz4PvNYdfMuv8AU2dt/wA9Zn+6taQpyqyUEtWB5j8ctYuPiV4t0X4T6FL893Itxrs3/PKEfMsdfQWiaPa+H9Ns9M0+BYLK0j8mJK89+A/wubwXok+u6q32vxXrjfaL68k+9z822vUP9XXZiqkY2oU3ot/Nij3IuaY+6h/v0b688ZG9Q1I9N/4FQA3e3zVC9SPUf8FBZFTafvqPfVgR/NSc0+Squ/zHoAc71Dv8vdvby0qR68d+Jesal4/8T/8ACtPCkmyd1V9dv9//AB6W/wDzz/3mrejRdWVtl19AKvh6Fv2gviiut3EDSeA/C0zJYpJ929u/4pK9+d2krN8MaDY+EdBsdE0yLy7Kxj2RVoPu+aqr1FNqMNIrYmInNQPTqjfdXMUNeo3eje1JQAx6btarFRvQBG6N/eplP+anbKAK701vuU56ioLGfNTUSnOlNoAZS7Kd8uyiOgBlLsp1FADXplSv+8pnNABzRzRzRzQAmzzHoSl5o5oAZap5e6m/6u8lT/ZWh5vL+eq9sknnS3D/APLb+D+6tAF3mk31H5lHmUANd/Mpv+rp29o6bDu/ioAnopEpaAESnPTd9P5oATfUnmVDvan0ASpTXdd++mUUAVrmZru8gSL7ifO1WkShIVqRHqtQI9nl1IiU+lT/AFlSA3LU5KmSl5oAiojqXmmbFkeq1Akhept9QpDU/NGpAc0iJ8/3aWn0APqWOo/7lSblo1IJeaR6aj0PtqSyaimVNQQQ0VPsoSgBqJUiU6peaAIkSpaVKciUAOhSn0qJUny1AC09KEpKgBdlOo8yiSgNSN6HpyUf6yrDUjdKEp9Pjqw1GVQsHuJHl81V2bvl8utL5Y0qva96ALCbdlRwzeZUn8NV4f4qgCx5lCbqKmRKADfRvodKNlACU+nJVe8uY9Ns5biVm8iFd7fJu+UUATeXVG/8PaTrEkT6hplnfvD917q2WVk/76rx/wAQ/tdeB9D3Il43+/dQsq1h2f7Znwvuv+Qh4xuo33fcg0q5jWu+OBxNrqLI54dz6ItrC3tYVS3gWBP7kabVryn4warZ6qljpWmS/a/EMN1HNAlr83lf71YKftS/A/UoWSXxYv8AtJPbXa1ueFfjf8GZNv8AY/izQYHf/no/kN/wLfVU6FWk+dwd15A2pdT1LRLaSSzi+0ff2/NWo9ZuieJ9H8QQq+marYX8H9+1uVlrWdK8ufNGXvKxZFSPtp/NMd/L+/UgR7Y/7lS0z5afQBSR1p3mVzr+M9P+67PH/wAApyeMNN/jn/8AHGrE15WdMlU3/wBXWfbeM9Hk+RNQiom1izj+/eRf991cQ5SzTPMqm+q2f/PzF/33Vf8Ati3/AOfy3k/4GtVzBymorLvq55i1gpfxyP8A6+L/AL7rShmWSH71XqSXI/v053qGF6keggWoH276sPVV6cQHPt2VH8tP5pny1qAfNI9SI7b6hooAvPUe9t9VUdo/kdqsQusn8NQBJvoR6HpeagBN9LzS/NSc0AM2UtO5qKgBr0fNUtRPRqA6mUm+m/x0agPoopOKNQB6XmjmmPNRqA7fRvqNHWpeaNQIvMpqJQ7/AD075asB2xahepNy0fw0AVbmRo0r5z8YfG/4neGfH+p6UngVbvSEZZrO/j3bZYf4v+BV9LVXmtlnjbetdWHqQptucLoUjz34e63pvxCvLPxbbsscFjbyQ/Y5E/exTP8Ae3N/wCpPD3jDVPiN4z36JK0HhrSZtk9z/Det/Eq1578SPhL4ktfG0F74Xlv49B1ZWTXbC12/6sf3f9pt9fQHhvTbHw/odnp+mWf2DTreNfKttm1l/wB6urEezhFThrfbyEaFMqLc1Nkm8uvIK1HPN89FQo/z1J51WA7f89N/4DQ71Xubz5aACaaq7vTXmbZUfmVYEyPTkmqvJR5lADprlY9zu3lonztXi/hWzb47/EX/AISW7il/4Q3QZNmkp/DezfxTU740+IbzxdrGn/C/w/O0eo6z8+rXMH3rey/iX/ekr2jw94bsfCOiWOj6ZAsFlaRqiJHXor/ZafP9qW3ku4viZrPuqF3/ANqpt/yVFzXljIn/AHb0f3ac9RUAK9QvtqWq9AC76j/1dO2eXVV3oLHJuo/hpqPUbvVgNeaoZnprvWD4w8W2Pgvw/eaxqcvl2tuv/fbfwqtOMXJqMQOb+K/xLbwPZ21lpkH2/wAUas32fSbD+9Ifl8xv9la2vgz8KI/hX4el+1z/AG/xLqcn2jU79/vSyGuf+CfhK+1XUJ/iL4ogX+3tTX/QbaRP+Qfb/wAKrXrXnV3VJKlH2EH6+b7Ge7uNd6jd6bv+Smu9cBoRu7UU3fRvoAa+7fQm7fUb7qclAE1R/wAVLzUTvQBLzUDvTneo/wDWUARyU16P72+k5oLG0ypeaioAalJRT6ACmU+igBlFFHNACfw035dlP5ptACb6b51O2LUVACo/mU3fUlMoAYj/AD1IlNfbH/DTkoAb/FTkf59lJzSJQBZ5ptJvqP5pHoAn5ptO5ooAbTqfRQA3fTqPLpr0AOpyJTaPMoAm30lNp1BWpKj1In+sqGGpaA1Fem8UtMR6rUkmjp9Vn3VJDRqBPUqVFT6DEk2eXSUzzvk+ShHajUskSpKip6VIEyI1WERqhSpkeggkjpyVHvprvQBPT0RY6ro9Sb6AH1KlRc1Km2gB9P8ALqH5Y3qbzKgCT/V013b5flo303/caoAje/WB9jrUz3PyfLVV/wDpqtV7B1jRk835N1a8oF6F28vfTvtC1TSZUmZKJqYaklzqTR38USL8j1ceby4Ves2bdG6vt8ynJeNP8jr5dAalpH+RqbDcxptqGZ/L2/7dTJQBYd/MSoUhXZTf+AVJ5P8AcZo6AJLZ6uR1ThSrkdQA+nc0nyxpvem+dHJ/FQBV3zRvv2/u6sI/mVVuXkgfejLsp1g7SJuoAhm0fR76bZcaZYT/APXS2Vqb/wAIZ4f/AOhe0n/wAjqw6/vmerEM3mJV+0n/ADMDJk8AeFZPv+GdGk/66abBVWb4V+CZ/v8AhDQf/BbHXQXM3lpTbZPLp+3q/wAz+8RxL/AT4fz3Pmp4atbCf/ntY7oG/wDHa3tH8Bx+H3/4l+tapHB/z7XVz56/+PVtXP7tPkqFJmj/AIqUqtSas5XCNomkn7uoZtsnyPQj+YlQu/76ucYW37v5KseZVVHqRHoAy4bCHf8AOq1Y+wQ/881p3l1MlYmxCmlWP3/ssX/fFY954bsbp232yyV0yJVN0oFzM5V/AejyfJ9jWqb/AA60H+GzWuxqJ0rXlQczOHT4UaHHNu8pv++666w0qPTbBYrf7iVLUqP8lVyk8w62RqtO9Qwp89TPTIHPVV6s81A9OIDZPuU1KH+4lCVqA56IaH206GgCw6fJQlG/5KNlQAlLvpu+l5qAE30lMd6alAEtMp9M8ygBu+o3p9HNGoDaTZS0yjUB9Mopr0agO8yo96vTvlplACo9TJNVfZTk/d0ASTOtV0dZEp9MRKsCRHqSo0o30ASfw0blqPfS80AP8yoXmqvM7U1HarAkeZd9Secv92q6JRuWgCR5qb53z/dprpTdklAE3nNULutDpTKAGO7Uzf8A7NTVE6eXQA3fXN+PPGdr4D8K6hrd39y0j3on/PVv4Vro68STd8dPi6toi+Z4K8LTb5Zv4bu9FdeGpqcnKey3G5HSfs6+CbzStEvvFeu/vPEPiGT7XO/8aRn7q17JvX/aqNKc9Y16zrTcmTFco190lHzRpS0jzLsrnGR7/k+9Td9O+WRKj2LQAO/l1D5zU59392hEoAjR97010qTZ5aVG70Fld38t6henO7Rv92o5KsCF68N0Tb+0R8S2u/mk+HnhmbZF/d1C7/vVufGbxDqWsXln8PPDUv8AxPtc+S6mj+X7JafxNu/h3V6p4S8H6b4D8Maf4f0qNYNOsY9i/wC238TV3x/2eHtPtPbyXcl+8zS3/wBxfkqN6lpny1wFEVQI/mVY3r/BUFACbKSnUc0ANpNjU/ml2UANdKjdKlptAENLv8umu9RyUFhQ/wC7o8yo3oASmSUUUAFS802igApklPqGgBHpKe6UnNAEXmUI9PqLZ8/3qAJN/wA9LUNK7/PQAPSUm+l5oASamo9N/wBZTXoAmenQ1V8xv7tWkf5KAHVIlRp+7qXmgAoop9ADKfRT6AGUeXRR5lAA+2io3TzKkjoK1JNlSJtpnNPjoDUm+WneXR5dORKA1G0eXTXehP3lVqSNempU2xZEpuz56NQJaTfS0mz56AHI9LSpTqNSBuypE/d0bKk2UagG+pkfy0qvsqSpAkSbzKkqGFKmoAEfy6kR6gp8KUEFxKk2tUPzU7f5dADndakR1qr/AKynJ+7eoAt1W8maD7ktWEpeaAKTpNJ8jy05LOPZVpEodGqwKqWyx/cqG53faYkT+D79XKb5K72egBrp/qqm8lZPvrQ+3YtV5rlpH2RUAQzP5k0SJWhClZqIsdz/ALq1qQ/6ugCTZUiVGlTR1AAiVYqPZTfm30ATU7Yuz7tRVKlAFd7aP+7Q6NGnyVYeo9lAENs/yVNsWSqfktH89W+aJAMSHy2+9U2z+5QiU+oDUieH++1VX2x/fWr9MoDUajrs+9UN1+8+7Uz20f8AdoSGjUCOHbU0dDwrJUkaKlGoFalSoX3VIlc5ZaSq81TJUMyeWnyUAVXeoqfTXrYCGSpk+5UMlOtv3lAFq23b/u1YeoYf3dOmeq1IJEqvJ9+p6genEBr7vloRGp3+soRK1Ac7rQn+soeqbbp3VKANPmkel5pHqAGpQ9Npz1ADafTPLpyUARUVNUT0BqN30bKdsqRKNQK77qam6pHpaNQIqPLqTZTdlGoDabsp3l0+jUCJ6NlOooAZzSfLHS802rATfUfnLH99qhvLlYE+dq+e0/a60fxBef2f4U8Oa54h1fzpLf7HHDtVMNt+Zq6KNCpWvyq9hcyifQ32mm+c1eQw23xk8VOu+LSfBlq//beeugsPgtHJMtxrviXVtdn/AIk+0tFFWzoRh8c1cOY7yTbJ/Ev+5R/wGqum+HtN8Pw+VplnFaf3vL+Zn/3mao9VuZLWzlliXzHRWfZXN9rliMx/GHxF8O+AIYrjxBq9npKTfJEk7/NL/uqvzNR8PfiN4f8AiTYXN74fvvtcFvJsl8yFomT/AIC1eF/s/fDez8ceD7n4m+IN3izxrqfnQq91tlitFH8Ma17R8GfAdr4A8JfYkuYr/UZpmmvLmP7u4/w16NahQo02r3kvuIi3L0O44oRPLqeivMLIHT56rulWnSqs1ADX/d1G9NmrB8Z+LbPwX4eudVu/uQr8qfxO38KrTjFzait2Bx/xj8Vah/xL/BnhqX/ipdcbZvj+/aW/8Uld94D8E6f8PfCVjomnqsaW8a+a/wDz1k/iauR+Dngm+tXvvGHiPbJ4i1na6p977JD/AArXpyV3V5qEVQhst/Ni8ySH7lPpkdFeaMKa/wDsU5vuVHlqAEopf9XQlAB5bUtFNoAR08uqslTPuqPYtBZC6VxvxF8c2Pw98Nz6rd/vJPuWtt/FcTH7sa11Gq6la6PpVze3c6wWtvG00sz/AMCivIfhvoN98XvGy/EPxBB5Hh6x3Q6Bpsn8f96Zq7KFNSXtKmy/HyJlI6b4LfD248Pw3nijXd0nivXP307yJ81vGfux16U6LTnk3yNULu1Y1KjqycmEYldvv0ypXptQUM5qKn0UAMplS7KNlAEVFP8A4aj3+XQA1/8AWNTal5ptAEWxahqxUVBZA6UlPek5oK1IvLoqRKSgkZRT6ZJQAynx01N1JQAv8dJzRzSO9AEFMejf5j07YKAGv/q6i5p83+wtH8CUAEdNfdQif7VTbKAIf9WlQ1bqLZ5fz7qABEqRH+dUSo9lXIUoAEpal8uigA8umUU+gB38FOSkp3NABzUXl1LzTHoAjSnR0VLzQVqKn+sqbYKhSpkoDUkqXmq9K70BqN2UtFK9VqSSJS0iUP8Afo1AfzSbKEqREo1AESpEShKN9SQG+lpEpaAFfdUtM8yigB9KlLzSpQBJ5K7Kb80dOSmyUED6R90lNqRKACFKkT7y0R1MiVAEyUvNNpkdAEtK9CU16AEp+xaZTuasBH203YtPo5oAqQ2/mTM9aEMPyVTtnb5qsQzNQGpY2UJ/rKbv2bnpqXKyfcaoDUt80c1Aj0PMsdAE9FQectWEddlAEtI9G+o/moAr3P7tJabZvJJCvmrUz/vKciUSDUkR6bvpKgeby5tlQGpNvqSmc0c0BqPqXmoEqWpAdRTN7U37T/stQBFRUNTpWJsTJVd6tJVW5oIKvmVG9O31C71sWQzPUmmv+5b/AHmqncvTvDcyz2G9P+e0lAGxDt31NNtqO2T56kmqtTEHf5Ki5qxzVegBUp0dN307zKAIbmm20Lb99TbKEqwJ+aOaOabUAMoo8uigB9IiNTaPmoDUc/8Aq6bTKX5qA1HU3f5lO2NHTKNQCiilRKNQDfSU2n/Lso1AZRRTKNQD+Kin1BvoAjfdR5dS80x0b+7VhqYfiG2uLqwnitG8ud422v8A3Gr51+Cdn8SvgtoraYnwgiv7p233Wqx6wu64r6Y+32/29bLd+/eNnVPpVzc1d1HEOlB03G6YpLmsec23xpktbmK08V+F9S8Lzy7dryOtzB/30tejQ/vI9+75P4a8L/aZ+J2h6H4VvPC/nrf+K9WVbez0q1+aVGP3ZGr1rwBpWoaV4D0O01Vmk1GG1VJ/Mqq1OPs1UStclb2Nh0WsHxVrdj4c0S81DU5fLtbSNpWet5Ery39oTwxceJ/hvqtpDPcQbPLuG+ypuZ1RtzKtY0YqVWKbsmadDw/wHputeEbmXXdbtrrSfhfrOpM8Wgx3O37Pn7skn+zX2BYQ28dnAlpEsdr5a+UkH3dtfMet+LfEHx+0Sz8D+DPC+pWGkeTHb6jr2sWzQRJGn92vp7QdKj0PR9P0xJWkS0t47ff/AH8LXo5hLmtfR/oYw90seTTfJpzotD/crxzXUhkqrNU01VZnoAp3NzHBCzuyxoi72eT7qV5b4St1+NPjNvEF6r/8Iho0mzTLaT7t3MPvTNVHxVrH/C2/HM/gfT9Vt7DRLHb/AGtcxv8ANK3/ADxWvatK0Sz8P6Va6fp8HkWtvHsVK9Hl+qwvL4n+CF8RcdPkqNHoT/bp2xa86Qx3mNS0uykqAIt7b6dvpaZJQA508xFp/NQb6SgCV3qN91N4przUAD1X3+W9Nmda8x+Lvj+80a2g8OeHImu/F+rfJawx/wDLuv8Az2atqdN1ZKCLMXx5eXnxi8bW3gTR5/L0GxkW41+8j9vm8mvaE22ltBbxKscEKrDEkf3VUVzPwu+HVv8ADXwwunp+81GZvOvrn+KWY11T1tiKkdKVP4V+L7kxGpcrRvpvk0VylBJUe+nbGpr0wI/mqREpKVH/ANqgA3/JSVFvoR6AJaqO9TTTLVV3+egCSij+GmUATVDzSPTXoLIuabUT/u6cj0FajnoSm+ZRQSPqHmiigA5pN9JSfwUAN8yimvTqAIqdUXnLvpyUATPtqPimu9R/LQBPzTN9R76bvoAm/wCA0O602iSgB3+s/iq4j1TR/nqaOgCbfSUz5flptQBLRUW/56PMqwJt9G9qh+ajzKCtSbfTXem7KHSgNSRHqfmqXl1JCjUBqWeafHUVKlAFhKXmq9FAak6PS1AlSb6A1Jqa/wDrKj30OlAakyPUyPVdKmSgknplMp9BA1KduaiiOgCRKkqKpUSgB9O5o5pUoAdDUj0lFBAU9KZSJuoAsJU1V46kR2qAJKKbvoR6AJaKKdzQAx6fzRRVgL/HSUUuygCF9sE1Nhf596L8lSN99aciUAOeZdlR/aY9nz/u6k2VG9sv92gCaGbzEoeb99Uf2P8A7Z1YhtlgoAr7PLuaLndH8m779Wti799Dp56UAFtujq07rGlRojRpUPy+dseoAkTa70+q1zMv3Eoh87+9QGpZqCb/AF1Sb/L+/UO9ZHqA1JPMoeby6hfdH9ym7Pk+egNSxDNJI/z06aZo6rpc+X9+pn2yR/eoDUmSbzEoSqaTeX9+pEejUB1S81FUvNc5sSpVOariVXm20EFN6hkqxJULpVlmDrc3kWc7/wBxWq14G3f8IxYu/wDGrPWH45uWg0ef/b+Sui8Kw+X4etE2+X8tA+hsI/z1M71XhT9596pHStupmT81A9S1W2fPSIHJUkdMoqyx8lNSkpUoIJ6OaOaOagNRtMoooDUKKfUNAaj6PMqPfS0APd6j8xqclNd6NQF5pEoh20tGoCPupu+mu9R76NQLPNI9Q76N9GoBvpu//ZprvUaVYE/NP/hqHfTt9AHD+PPh1/wmlsvlandaLqNu2+11KxfbLE1cLN+zx4y1J9mofG7xNHZfxW1jD5Df99MzV7d/q6NzV1U8RUpKy/QTSZw/wx+APgn4T3LXuj6Y1/rbt82t6q/2m8r0KZ2qFHoZ2jrGc5VZXm7sZC+2m+YtRu/mU3fSAx/HPxF0/wAAaJ/aeoRXk8CMqbLGFpW5rP8ACfxa8M+PE/4kmtW87/xW0n7qVf8AgLV0zpHOmx18yvL/ABt+zN4N8YzS3sVnLour/wAN/pz+UyNXZTVGStVbTId/snrXzffemzTLH/FXhNn8Mfix4L/5AXj1daskb5bbVU+aqd58V/i5oDr/AGr8OYtSgT702mzVf1Ny/hzT/D8w5u6PoD/WV5D8dfH91oei/wDCP+HGa48Zayv2bTraP70W/wCXzm/2VrjfD37XX/Cf3N9onhHwdrMniWFtnk3SbYIm/wBqvQvhv8NJvD+q3PiXxHeLq3iu7X5ptny2/wDsx1cKH1d+0r9Nl3Dm5tib4J/A3S/g74SXT939ra3cSfaNR1KT+OavSpnZ6qvNR51cVSpKrJzk7tmnKTI/l0O9RUVkIl8yh3qN38uo/MqAJEel5pif6umyUFh5lSb6go5oAV3qN3oesfxN4ksfCuiXmq6hL5drbr8/8TPn5VVf9pqIxcnyxAzfH/jaz8B6DLqFx+8n+5a238Usn8KrWX8H/Ad1o/2zxb4j/eeK9Z+dnk+9bw/wxrWb8OvCN54/1KLxx4rg8tE/5BOlSfdt1/vNXrjv5m6u6pJUY+yi9Xu/0II3f5Ki5pXf/aqvvrhLJN/z1Cm7+95j0tLv+SgCTetV3m/eN8tRpujT73mUPQA3zqN9QzU6GrAJKN/+1TXemp+7oLJP4ar1I8jbKhT/AHaAJPlqPf8APQ9RolAE25qj30lMoK1I5qSnvSc0BqJ/q6PMal5ptBIu+m76WmUFaj6rTbqc70lAajPOaod7/wB6pnj/AIKj2UEjU/d0b6d5bU1EWgA+aTbT+aY9N/hoAk30JUdFAEtPpnNKn+soAP46sI9NTbR/FUAO303fS802gB3NFHNHNWAmWpaR6EoK1JKPmpqI2+paA1ERKclLzT6A1H07mmbKfQA/y6ZSvTv4aAGpTqZzS7KAHQ1LzTEpaA1FSpkqulPoDUsc0+OoqdQZE1JspadzQAiVYSoOaVHoAnpUplFAEvmU+oP4qWggmp1Np1AE8NLTE/d1Ij1ACU/y6Kcj0ACU/mm0UAOopN9LQAc0qUlPjqwCnJTV+/UmygBeaKeiU75agBaR6dvqOgAqRKjqRHoAkqrMjedvqemTUARolGzy/uN5dSIlPqA1K37yR/mampt86rny1V3/AL5qAJKZU1O5o1AREo+yr/cpaVHo1APJWo3tv7lWEoejUCum2jfUbpTk21kWWIXqvNUiPVd3bZ92gCOSmc0ibv46a7rVllebSrW6+S4iWdP7klaCeXGmxF8tE/grPe/t4P8AWzrHVq2uYbqFZYm8xP79ApFqGh93mU2F6bv8yqJLCVC9OSk5pxAVKP8AWUlFUAsNtCjs6L871LRRUECpS80c0jvQA19tNp9Q0AP3NUb0b6bvoAfzTaXijfQAeY1RyU7fUbvRqA7zo4EWm76ZTPMo1AkfbTdlN8yoZnoAsI9DusdU0/d0P/fqwLG9ZKEmWq++jZ5lAFhHWnblqr82+h3oAsPNVf7TTd9R+ZQXylrzqyb/AFiGx+e7vFjR22K87qq1ad/Mr59/ax+Hd9488K6ZFYy+W9vqUL/8BPytXRQgqs1CTsmS7xT5Ue+fafu02G4WR6+W/D3jPxp+z7rf9leM1fWvA1xIqWeqx/M1pXp3if4wQz3NtongJbfxZ4rvo98CQPugt1P/AC2uG/hWuqeCqRkktYvr0JjNS8meoTeJNPtb+CyuLy3gvbjd5UMj/M+K1POavKfAHwBt/Dk19rvijV5fFHjLUFZLrUpPlit1P8MK16lDD5FtHFu8zYqpXPUjCm7QdyojZpm+as+5TzKvOlVbjbsbY3mVlqUfP/wl1K4tf2qPH+mbVjguLWOb92n+zX0Y7tXzX8DXbVf2nPife/LIlvtt9/0VK+ma9HMPjj6L8jGGzK3zffejf5dTPt2VX/hrzDYmS58z7lOd6hT93Td/z/eoAmmemUySoXf56gC15jUb6h302Z/koAc8y1H51Rc1A70FklzeRwwtK7LGiLvZ68p0SG6+O/jNb11aPwHocm+L/qIXAo8SXN98W/En/CGaIzQaJb/8hrVY/u/9cVr17StHsfDmlQaZpkCwWVuuyJI69Bf7LG/2n+CMviNSaby0qr5zVV+aR6mrzygd6h30TPUfzR0ASI9Ru9JRzQWPqvM9SPUM1AEPzRpR51N31DVgTb/nqTfVfYtPoAV3od6SjmgA5o5o5o5oK1DmoqKZQGo9vuUyikk+/QGovNHNRJu/jp2+gkHpvmUeZTOaCtRHf56Xmjmkd/koDUXmoqE3bPno8ugNQplPfbHTOaCRHo/hpeaioAcj02n1E7tQA6ptix1WqV3oAk3tTo6jSpP4agBlKlJzSpQBLTEf56alO+arK1JkenVGm6pkoDUd/q0qOnb6WgNR3NHNM+ahHWgNSanI9N8yjzKA1JeaVHpvltTUf56A1JEp1CP89HmUAPpN9Np9AajuaKbRQGpKj1Ij1VSapvMoJJt9SI9VafQQWKVKhSpkoAko8yjYslFAEiVMlRc1LvoIHJUkdQpU1AD6elJzRzUAFFLvqWgAp3NNp3NABSpSc0qUFjvLo8unb1qO5/1aUANSaP8AveXVnmsy5f54ERv96rG/y0WrILyPTKg3ybPu02G58+gC1/wKnVDvWOh9slQBIm2paoQ/c+9UkztHC2xqsC0lLVSzdti1Yd6gCXmk31H5lTI9QAlQWzrPuerD/cqvDCsEfyUAT80m+o6KNRxJaKRKk8upKHJT+abTKCCpzSpSUu+oNiwlU5n+ZU21ahqOZKFuQV5Kp3kLSJtSr2yoqsDgofhd59+1xd6g0m9q7jTdNj0qwitEZtiVMiVM6fdpJIqUmEKVHJRUcbt8u5asksJRlqcn3KTmnEB6JRTOaej0iApyUtIlAD6Y9P5ptADKj2Clo5oAOabRRVgJ8sdG+h6b5lQAO9RUv8VR0APplFM5oAV6pulSPQiU4ljUSpJKPLoqgG/LTvMo8um+T5lADd9LS7KP+BUANd6gqz8tO2LHQBXqjf2cd9C0Uq+Yla2zzKheFaqIHk/xU0q81zRF8JaPB5l7qytC1zOm6K0h/ikauB+EvhX/AIZe8WxaFKy3fh7Xm2f2ls+ZJv8Aar6U8us3xD4V03xNpstlqcHn2s33kr0qOK5IOi17rM3C7v1NZ0prpUelabb6PpVtZW/myQ28exXndpW/4EzVPXAaFbZVe6/1L1o81UvIW+zNsprcD55/Zas1/wCFo/Fm4/v6k3/oVfSDp5deK/so+D9a8M6b4xu/EekXGk6jqGrSSr5/8a7navcH21146SlWdne1vyM4XsVZKr/LHViSqsyLJXCaDt6yVD82+nIlLzUARUVJspKAConenOi1DN+7oLId/lvXA+KvE+peJ9Vl8JeEm/4mL/Jeal/DZL/8VU3xF8YXVjNZ+HNC/eeJdW+SD/p3j/ikauw8DeDLPwHoi6fb/v53+e6uf4pZK7IRVKKqTWr2IlIueD/CWm+A/D0Gj6bF5aIq+bN/FK395q1npKV65Zzc223qwK70lTUjotSBBSb6dxUdABUVPeo9lBY/mmOlO+VH+7Q6fPQBT8umvt2VakqF08yrAi5pPManeTUb0AN8756KPLoRKCtQR6KPLooDUZzRzSpSUBqHNMepNlRvQGpG9JSvSUBqLvqHzKc9RUBqFFM30tAaj9/z0nNNp3NAaif6x6P9XTfmqagNRu9ah8upai2rQSFFO/u0tADKdsWncUvNQA2lTdTt9JQAUUU+gBv/AAGnI9N31JDtoAmjqbZUcNPoK1E2U7ZSU+OgNRr0nNPqN9tWGo5KSk4paA1J0puxaaj05KA1HIlOShKdQAJ+7p9Mpybd9Aai0ypJPv016A1Id/z1ahqHy6mSgNSfmk2UlOoMh9SJNUdCbY6ALFEdR76noAdzT6jSnIlAE/NK/wC7jZ6hd/LShH8yFt9QBYtpvMSpkqvbJ8lWEoIEoopjzeQm96AJql5rO+3rvVNvl76sb/koAm30b6i5ooLJ99En3KbvptWBG8KyOr0fNH9xqkplACPNJs+RabbbrdNjvU1Hl0EBv8+ned8lO2U10oAjSm/vI3+95iVY2U16AJEby031PzUH/LFqjhuVj++1AFia5WCnJNJ/dqvs8ypk3QVAEjzfd2VLVTzvMmqxUAFS81FUyUajiJzRSv8AcqG121JRLSpUNyzfwU2G5qtSCN6kSko5rI2J0odKbDVfzG3s77qCBz1DsqWoasB/mVI71BVl6cQGpTdnz05Nu+nP/rKeoAlJRTPmpxAfUqVClSUiAkojopyOtAEmyo3Sn80x3oAjeoY6l5pHqwF5qKn1DQWFFFFBAuym7KWkeoAb5IqLmpXqPZQBD5dTJQiU6nEBuyjZTvLp9UBBs+SjLUtFAEUlCJTtlG+gBqJ5dSbKbsqRKCxKZMi0+mTfu0oAi5ptM/1lPqwHU+mpQ9ACU/ctR76N9AEnnUym1E9AA9Q0+mfLQWNekp9MqAE31HVHW9bsfD9m13qF5b2Fr/fnfbXC6x+0J4B0PTZ9QfxLa3cEP3vsv7//ANBrSNOc/hVxaHpHmV478V/2hNL8F6kvhnw/Zy+LPGVx8kWlWPzeUx/57NXnvir4zeOvjukHh/4T6Hq2k2VwzJeeIb6HyF8v/pm1eyfCj4IeHfhJpapp9mr63Mu++1WT5pbiT+L5mruVCGHip19W+n+Zndy0R8+/A2/8ReGf2q7y38ez+Z4o8Q6X9oVN+6K0U/djX/vivs5K+Mf2t9Nk+Hvxs+G/xNt1+SGRbGf/AHo28xa+zLa8hvrOC7t28yC4jWaL/dPzUYx+1UKlrXQJcug+kfbRvo2V5pQ1KbUmyl5oAg2LTXqb/V1C6UARx0SUU16ADZQ9JTH3UFjaa9SbKioK1G0yn0n8FWGpDxS80j0tABzUVPooAZTKf5dMoATfSU7mm0AQPS80/wAumUARUypqT5qAIUSh0qTy6dsoAhSnbKmRKNlAEFTUuyhHoASoHSptlLQGpDzRzUuyo3SgNSF0p2yn80j1AahvoT/dpyJTUoDUk8un0ypEoJI/LpyVN5dCJQVqSJS0c0c0AFK7/JR/q6bv+9QGoJS80z+CloDUdzRTE/1dP5qw1CpUqP8AjqRHoAfzT6ZzRQA+SiOmUUAS/LR/HTaKA1CSpkqH/WVYRKA1H0qUlKieXQST0iJS09KCB3krHQ6f7TR0R0+gBH/d7d9P5qKb+GmunmJ8lAEk27Y1EP3aj/fSJsdasIlQAWb/ACVcSs2z3RwtRbO0i73Zt9AGk9V/OaP76/JUibtlRzf6lqAG7P8AZ+Spvl2feqG2+4tOf93Mr1YEjzL5LbKdbTeYi76huUXyW+Wo7NGj/ioA0ESkpPM8v79Ne5WN1+egCaimUjzfPQBJHUvNQb6k3/JQQP5opnnCn80APo2eZTKihdvOagCxMnyVH5K71qRvuVG9yvnKtAEybafzUVSJUFlNP+Plnq3UEf8AFVhP3lAEkdS81EiVIlZyAH+RKh/1lTO/yVC/3KeoDvLqOaHzH3p9+pI6fRqBW30/moqfXOWSo9VZpvnqwj+XVN5mkdvlqwJEek5pmynIlVGJBJHTppl/vVFUDp87VeoEyTUb6jh3VNsoAk87y6N/mVFRQBZSnVX3NUiVYDt9CUnNFBA/f/tVG707ZSc0FjN9D0tFACfwVFT6PMoAalOplFQQPpnNK9NSgBeaiqTLUbKAGpRvp/NHNADPmpaV6jqwD/WU3ZTo6JKCxnNJxUe9tnzrUibqAHfNJQ6NTqKADy6r3XarElU5pvMegBqJUmyo/mqb+GrAZRRzSZagBearXj+RGz7fMqZ6q3P3GSgDhfhF8SLj4habqr3sVlaapp19JaT21rNu2YrvHevCfgbCujfGz4n6YkVvHA80dwvl/effXtGt3kem2Fze3DfuLeNpm/CuvEUlCpywWjt+KJhLTU8P+Nn7Wmh/BnxnY+H7jTLrVp3Vbi8e1/5d4zWs/wAcvEmlQwarrfgW60nw9Nt/fSO3nxKfutJXI/AT4XeH/ipNrnxA8UW39pavqmofaIkn+7bwxt+7WvXPjrqVjpvw01x9QlWCCaFoV/25D91Vru5KMJxpct5dQu9Xc7aHbPbLLE3mIy70f/ZNeL+KtS8QeKvi4uiaJctBa+HrFb6dI32/aJpPuq1eofD1LqPwD4eS9Vo7r7DHuSSvL/EmvN8Ifi1feI9Yif8A4RrXLeOGW5jTd9nmSuXDx5ak1a7V7A9kdJqvwf0vxjqq6x4tVtaukX9xZyP/AKLbqf7q15P8Ovg/4T+Gv7Ql54ft9P8Atdlq1q2owQ3T+asUgr0S/wD2nPh7Bbebaa5/a0/8NnYwtLK7VY+DPhLVtV8Q6r8RfFFt9g1TU1+z6dYSfetLSt4Sq04SdTRW09fInSVrHrnyx2yxIqRwJ/BH8q1RuX+SrUz1VevGNDx/9p/wSvjT4LeIbfyGnurSH7dB5f3vMj+ar37LvjZfGnwT0G43eZNaRtaS/wDAK9E1K2W+s5bd/uTRsjfjXzz+yLDD4R8T/ETwOk/mf2ffb4kr1Kf73Czh1jqQ/iR9MUR03ZTvMryyyXmmPN5e1NtR76TmgBX/ANZULvQ7+ZVdP3dAEm+l5pEpu+gsfzRzRTN/ztQVqLUT0PukkWmvQGolMkokqPzFqw1HOlRu9OSkoAKKKKACmVLzUVADKOaKV6AIaZT6hegA+WlplOSgByUtPqN6gBaOaV9tJzQAc1Fv8upagf8AeUASJT+ar0+OgCTfTflpsdRyffoAWioqPMoDUlo5o5ooDUfHTkRt9RU/f5dAalijzKhSahJqA1Jqd/dqvvqRKAJaRKj30lAE1FMooAKESmU/Z/t1YEiU7fTKY8ywbaALdJvqLmnx0AS80Uc0iUASIlFR76clAFhEp1Q76kSgNR3l1LzTP4KfzQSKj1PzVenpuoAlqVKgpUoIJH++tNf9386LUbv++WrCbqAHJS81Whf5KnqCxNi7KWinc0AMTzP71OdGkT52p2ynUANT93HsqWk2LTtlWQRzeZ9xKciNHT+aTy2oAHdpNtRzbo/4fMSrEdFADUufk+Racn7uGjy6dsoAbD+8j+9TkenJD5afJ+7oSP5NtAEyJUafvKcjt9x6I6CA2Sf36jTzo6s0uygBqTLv2P8Au6EtljffTobZammdYEqABEqTy6aj/JQjtsqAIdnl1IlOeo3erLJEenI9VYblZKmSo1Akb7lQvMscO96mqu9t5lGoE0L06ShEoqQIqKhp9REsfSbFoTbTnqyCP5ahd6kek5qtQIqkdGpKloAalSbKbHTnoAjekqamUAEdOSm1IlWA3Y29fmp/NMem+ZQBLzSeZ/cqOSnbKAI3pKKKACiik30ALT6ZSpQQJS/NTqa9QAlFHNMd2oAb5lSb6gpHmoAk8yio0pacS+UXfUe9pKcifPS1QEVOh3U3+KpkegBKKY/+rpyfIlADbmby0qj5jVYmqFKCxybql5qKOjf89WQS80c0c1E70AFV5kaTdVjzKhm3UAeM+AEjg/aN8YxJ9+bT7d69Y8VaCviTRL7THby0u4Wh3/Va4u88H6lpXxItvFGiQRTvNb/ZLyGd9u+P+Flr0hHbYu/7/wDFXXXqXlGcXsl96JjHc8D8K+B/iR8JLaey8KWOk61ZXG19l1ctF5TCui0H4P8AibxjrdjrvxQ1Wzv/ALDJ51joOlbvscTf3pN33q9ah3VJvpzxs5Xdkm+ttQ5B2yqs1hDfIyXESyJ/cdN1Sed89HmVxmpj6b4P0HR7xruy0WwtJ/8AntHbKrVrb2kf56Ho/wBXSlJy+J3AjeoXepJKryVIEM33a+XfD2vR+Dv23tXsr3bptrr2lr9l/u3ElWPEn7Zlr4L+MeteEvFGgtpOl2k3kwX+9mll/uyba9E8Q/DHwn8cL/wr4wstT8yfTG3wX+mv820/w16VGLo39popIh2kdx45+Jei/D2wguNYll33Enk21tap5s9w3+ytbWg63b+I9Hg1C3iuIEm/guoWilT/AIC1fMeleMPD+m/GzXtV13ULqfQfAca2Nm87+fLLcPX1Ul59qhiuE3fOquv41niaCoxirasmL5rg+6OoXfzJKHdqbvrhNSOm7Kc+2Oo3magCRHaOo7ZPIhii3fcWjzvu1C+50oK1LXnfPTKZ8uyh3oAfzTN9CU/mgCB6ZS/xVH81WBIlLzUVS80AIlGyjLVJ81ADOaiqXmmPtoAipm/5Kc71BQAj1HJUj1XegBalR/u1GiU6gCRKWmJQ9QA56SmU3f8AeoAkmdY0qv8ANspslOSgASpE/wBZTKXfQBJUb013pvmUADv5dQ76P9ZTfLoAl5pEekpIaAJPmqRHpsP7t6an+soAn5o5ptLxQBJR5lMp9ADkp/NHNHNACPTf9XS0UAKlSR1XRGqZKsCRKfzVepqAHU+q7vUvNAC/x1LUNSpQA/mm0r1HQBNC9TI9RonmUb/4KA1JkmqwlVKl3tHQGpLSpuqPfUiPQSOTdUvNHNHNAEUlUbzUmkkWKJmj/v1oJR5NKQDbZPLjVKtJUaJUtSA6iipUoAbT6KVKABKN9LRzQQFS/wCspsdTbKAI9lLTqKsBifvHqxspybdlLQBFJT6dzT46AI9lOSGp+aKggbSpRv8AnpaAE/1dRzJ59S09EoAj2NsoSpKa+3ZUAQ3LfJsqNNtGxd9GwVZY50XetTJVfZ8/3qsJUAOSnUUUagFPplFRICvHRTfmp1MBlWOaYm2loAZTOaKOaoBETzKWm0ju1AEiU53qFKfQA+Oj5aZRVgTU6ooamT7lACc1Xp7vTKAJUpadzTHegBaZJTd9JQAc0myl5p8dAB5lFD7abvqCB0lMopEegBeabTuaOaAIHqNKmojoLiNRKdUvNRUAFMp/y0VYDOaY6NT6V6AGp8iU2am/xU138ygBKXYtMp3NBYzZTkhanfLQ8y0EDKR0paZVlkb0vNPkpr0AJzTadTHqAPM/Fvx40nwX48s/DmsW1xaWV3Gu3VZP9R5h/hr0SO48za+6uT8f+AdN8f6DPpmoQeYj/df+KJv7y18vw/Hjxd8PNSu/hfojWviHUbeZbeDXpNzRWWf+elepTwqxVNOlo1vf8zKUnB67M+zH1K3tXVJZ4o3f7iSOq1a314f8P/2YLGxvIvFHijxHf+LPEsy7/tnnfuEz/wA81r2TRLaa10q2t5V8t4VaH7+75Q3y1x1oQp+7CVylJy6F7f5ab6j3+ZUj0yuTUsgSkp1HNAHlnxd/Z78J/Gl9NuNbgljvdPbfBeQfK23+61fNvifw342/YxmvNT8OT3Gu+Cr5dkvmfL9nkNfcHmVn69Dpt1o95FrC28mlvC32pLrb5Xl/7W6vSw2KnTag1zR7EyjzH59/s/eEr7x5r3h7wkkTXel/bl1nWr/+J8fdVmr9FJJo9+xP3fy187+EfGGg+Gf7Q0T4NeDrrxLO8n7+/wDu2af7PmtXSQ/CX4jeOPn8YeMV0K1m+9puhp/7NXoY6X1mak3yRX3/AHGMPd8zuvE/xG8M+Dk363rlnYf7Ej/M/wDwGvP7n9pnR7658rw14f1zxRJ/fgtvKirqvDf7PHgPwrc/aP7KbVr3dv8AtOpP57V115YN9mW009l02Dd83kIq/L/s1wRlhafRy/I1948J8Q/Gz4hQJ8ng6w0b/Y1G5aSX/vldtcynxF/aGvttxpnhPS57J/u+fbMv/s1fSGleD9H0aZpbe28y6f71zP8AvZX/AOBNWs81bfWqEVaFJE8j7nzDN+0t8RPA8y2/jj4USx72+W80e53RV6V8N/2hPCPxNvG0+3nuNJ1tPvaVqqeXPXqj7ZEryH4tfs66H8TdYg1h57jTdUhjbyprX5W3fwtUxnhavuzjyvuVyzj1ueteW1Cfu6+Xfhv8ftW+GvxCb4ZfEi5indGjSz1jf/Cfu+dX1In7za6fvErlr0JUZWeqfXoVGSkOpnNPpv8Aq0rlLI3qN6n5qKSgBnNFJH9+iT79WBJ5lDvTOaZ/BUANkqN6H3UlADKjSpnqFKsBv8dGyn80UANp3NLspOagCKSm/NUj1G9AEMlRpuqzzTHoAh2fPUlFHl0AN306m7PnqTZQA2Omvtp1FADUprpUlFAFeOpafT6AGU5Kc6fJQlACVL5dMp8dAD6RKfzSf6ugBeaOaTfS0ALsplOo5oAVKdRRQA3ZUiJ5dNRKl5qwGPT+abTqAHx0+mIlS80ANpNlPp8dAAiNU2ymVLHQGpHso8tqkpyUBqNkqSF/npeaVEoJJaT5qclGygBqVNTKmqAGR1MlNSpKAH0UyOn0AO5o5ptOoICnolN2NUtABTqOaRKAJKciUJT6ADmin01KAEqakTbS0AOpUoSjZQAbFp1NR6SoIH0U1HqWgBlRvUlNegCtS7KSpUoLBEqRIakRKmo1Ah2UbFqaSmc1ICbKdvWmvUdQBCiUtFJsqwDZT+abSOlAEb1Hvp/NJsqgI6JKa6UlAD46k31GiNUvNADP46fSJTtlWA6OpMtUaJU2/wCSgCFvv0yiigCxzVepXqKgA5pm+h6b5lAD6R3aoqOaAJf4KheZf4KHSo6JEEiPU9Vkp2+o1AdvoSmUUFj3ejfUNNSjUstb/kqN3Wo/MplAEqVJvqPfUVWQS71o31FRzQAUc0Ux6AG0U5/3dNoLCjzKKj30ASUb/LpnNK9ABvpOaOaYlAE1RulSUbPMSgDynxtr2ueMdel8D+D5fsl1tX+1tb2fLp8Z/hX/AKaVuab8EPCPh/wT/wAI1ZaUv2Ly/wB7NJ809xJ/FMzf3q6rwxoNj4Vs57eyi/4+JpLid5PvSsa1a7HiHFKNN2S/EjlPNvg5fyaG+r+CrueWefSds0Dyfx2716M7/wAFVU02zj1Jr37Mv23y/J87+Lb97bUtY1J88nO1rhGI+o3paY9c2pZFTHqR3qF/3iUalanP+M/Gel+A/D1zresT+Raw/wDfTt/Cq15Xonw98RfHrytd8ez3Wk+FN2+x8K2r7ftC/wALXDVJ4e0qP49fFrVdT1D9/wCCvCFx9ks7b+G7vf4mr3x69Fv6oko/E/wMvi9CnpVhY+H9Ng0/SrG303ToV2RW1qixKlTPN89NmdtjbK8N/Za17WtYh8daf4g1+XXdU0/WpIf3n3Yo/wCHbXMoSqRlU7FnuW+vL/jr8RdS+GvhvT9Q0xbPfcapDaSvffdSN69QdK+d/wBs+GS68DeFdPRfM+1+JLZP/HZq2wkIzrRhJXTIm+WLPdL+8Wx0qe92+YkMLTbI/wCPC7q+bdK8Q/H74lWEWq6JLoPhqy3Nttp7b5uG/iZ91fTjw+RDFb/3FVPyrx/4xp8VNV1K28P+Araw03S7i1Z7rXrp1/dMWf5VWtMO1zONl89gexD+z98V/EXxCv8AxPonijT7ODV9BmWKW503/US5r2bYtfOP7N/9ofCTxhefCzxBbW8mqXcLapFqtq+5rv8A3q+lHSljIRp1XyqyYQk7Hjv7S3wrb4jfC7XLfR7G3fxLtjmtZvlVnZGRtu6m/su+P7jx58K7NNQ/5CmmN9nnSvXnSvn34FaO3gv49/E/RPPX7LNIt9BD/wBdP3lbU5e1w06cvs6oH7skz6DqLZU/NNryzXUg2fJUdS0c0AV+aTfS0c0AHNRVM6UygCJ6TmpqhoAbUNWOabQBAj/PU38dLTKAGvSc0Uc0ARPupro1S0UAQZal5p9FAEeyl5pHpeaADmmfx0+l2UAMplOempuoAfTKl5pmygARKmpqU7zKAGUU/wAymvu8ygBOafTf9XSUATUUzzKfQAU6mfNT+aAE30JUdSJQBPRRTuaAGbKfRzU1ADKPLp9KlABspeafHTtlWAtI/wC7paVNtAagm2pkSo/lqWgNQpdlLzSpQSJUqU5Kk8uoAZT6KclADkpafHRJQA1KSin0AHmU+mU+gB3NFFKlBBLSJQm2loAf/rKSkRKnoARKfTadzQAUUj0JQBJHUmyo46loAfRTKXfUECUVE7+XRVlktPjpqU7y6ggKjmep6qSUDiMqzDUKJViOnIofSO9Npr0tQJN9Nkqu70UagS0Uc0uxqkBOabTqZvoAWmSU+mSUAMo5o5pj1QEP8VOT93Uf8dSJQA6peaijooAkTd5y1NNVXe29am31YEiUtMjqT+GgCHZQj0PSUAK70nNI9JQA7moqfTKAG/LSc0uyk5oAOaZsp2ynfLQBG9CJTtlCVAC80c0Uc0ANplOelo1LGeXRsWOnbKHo1Aio5p9Qu9OIA6UJS0n8FUAtFJ8tP5oAbTKH/d0UAMo5p/l0R0AM5p9O2LT+aAINlOpz7aWgAqJKk+bZUXNAD6HemUc0AHNI9LRzQAc0c0j0tZAM2Vk+J9SXQ/Deq6g7fJaWs1x/3wu6tnmuQ+KltJffDrxLbw/fl024Rf8Av3W1K0qkb+QGL+zfpUOj/BnQUiX57jzrud/78zt81ek815p+zrfrffB/Q/mWR4WuIW8v+BvNdq9IR61xV/bS9SI7IhevH/2dfB9x4c1L4g3txZy2kmoa023zE2q6je25a9kko8ys4VHThKHcsa9cP8Rfhva/EZ/DyahdNHZaTqC6i0Maf8fDIvyruruHqGphJ02nF2YHG/ELXvF2h+Rd+HNDt9dj+bz7aSbym/3lrh/+En+MXiOForLwdpuhO/8Ay83155uz/gNe2IlG/wAuumFZQXwJsTj5nlfwo+Bq+C/EN94t8RavL4o8a30exr+T7tuv92OvUnenb1qKsqlSVV3mwjHlEevCfgtCvir4/fE/xRb/ALzTreSPS0f++yLtau++LXxCXwH4Yn+z/v8AXr7db6TZ/eaWY/Krf7q1a+C3w9b4ZfD2x0qb/kIzM1xeP/E8z13U/wBzh5zf2tCZe80dlJUP8dTSVXkrzTXUZzTHpaZJQAUUyigBXpOaKKAESm7KfRzQBXo5p9N30ANfbTXofbRvoAipP9XU9ROi0ARp/q6Wn7Kj/wBX9ygBtR7/AJ6kpvk0AJzSPUnl0SUARpUlQpU1AEeyhE2JU9RPQAnNHNHNM30AP5oqJWXfUiUALT6hSpo6AGzPUmz5KPloeaODajt99qAFooooAdzTadzRzQAzZUiU6igB9Jvam/xU+gB3NTVXqxQAiUtFFWAqVNvqHZ5dOSgB3mVIlRx0+gNR3NPjqPZTkoDUn5p8dQ76clBJaSpagSnb6gCWl4qOOpeaAFSjfSc0c0AFFFFAD6cn+rqKpqAHc0iUlKiUALU1Q1OlBBJHRTKfQA5KWikRKAFp3NFFAD46PMplHNAEqPRvqKigB7ffqREqOpeaAH0U3fSVBA+SodlPpm+rLHbKclNSl5qAF31C70bWpyJRqBFU6JR5NORKNQDZU2yl5pm+sgIKZTd9D0RLHeZTXpu+l5qyA5qKSnPUb7qoCN6kRKZT0egskSn81FT6CBj/AH1o8ym/8tlqREXfVxAkSj+Ckp+z5KAGc0qU16XmgApj0+m0ARbKN9S1E9ADfmkpeaRKHoASlSmo/mUPQA/mk2UJRvqAFqKnbKWgsZ81ElElFGoEn8NJTKkSgCPatR+TVjZ5dQvVgQ+XUiU16fzQAc0zZT+abQAj07ZSU6gBtKiUIlLzQAc0c0c0j0EDdlD1HvqTfQWNplFM30AP5o5pj0QpQA+l2UlKlTIBOaX5aSioAY9V7lVkhZHqw6VDspxA8P8Ag/ra/D34i+I/h5qH7iC7m/tHR/7rqfvLXuNedfFr4aL400qK4tJfsmt6e32ixvI/vJJWf8OvjTb6rN/wjnihF0LxXaLslS6+Vbj/AGlavRrR+sL2sN+v+ZlH3dGerPTKiR/MSkrgNyXfTY6b/HTZrmO1TfLKkf8A10fbRZiJ6Z5lcL4h+N/gfw47RXfiOzknT/l2tX8+X/vlK5f/AIXlrHi5/s/gfwTqWpP/AM/+qp5ECV1wwtWetrLz0Rnzo9ed/LRn3V5X4q+OUP29tE8GWbeKNe/6Yf6i3/3mqNPhF4q8aOtx498VNJa/fXR9HTyov+BNXpXhjwro/gvTVstE0+Kwg/6Z/ef/AHmrXlo0N3zP8A1l5HG/Dr4V3Wm6w3i3xhcrq3iuZfl/55WS/wB2OvRppqc7/I1UftMckKujfu3rnqVJVXdlRiO8yq7vQ70zmsSxUoSko5oAKX5aHSjZQA6mVNUT0AJzSM/lo1NSo7n/AFLUANSZZEV0pu+qqfu5mqR3oAWl+Wm76HSgB2+jZSc0m+gAenfLQn7yo9nlpQA3/Yp9MVPnpzutADaZSvQlADdnz1JUaVJQA+oHqSoqACq15N9ntml2/cqTzl+bY33Kjm2yb0oAbZzLPbLKn8a76sL9ys/TU8u2WL+5V5KAJaXfUdMoAn31XvP3jwf7DVJTblPkX/eoAtU5Ki5pYXoAmRKXmkSl5oAfRHTKVKAJkRaHpu+mu9AAqfPU2/y6p21z571Y2UATI9S81X5pUfzE3pQBPzS7KrzO0ELPt8ym/aZNu+rAv1F5y79lN31X/wCWP+41AF7fQlQwv8lTb6A1H1OlV0qwlAakyU/moqfUEjqlSo0p25aAJeaOaipyUASJTqbvpsjqlAC0+qP9pQ/afK2tVpHoAnp6VDUiUEEkdTJTUT5KkoAKKfUF1+8TZQBMlPqpbO2xUerCPQBI9JUH2hfO2VMlAC0c0c0c0AFFHNHNABUqPUVFAFjmimJT+aAEeo6c702SgByUtMR6Lp/LhoAkSlqJHqXmoAfTXemu9Qu/yUagWkmWiSqLusm3ZVjfS5QIKKTZS1jEsKdzTaZ/erUBz1C+6lpnzVRA2pEqOpk+5RqWG+pahp9BBG8i+ctWEqrv/fLVxKcQEqX+Cm0O/wAlUBG9CUlFADuai8yn0ygAd6ip+yjZQA3fS80c1FHQBLzUVDu1FAD6Y70SVX8yo1LLEdG5qrvM1EdGoEtPjqKnc0agSpRvqKm0agPeamUj1FTiBNTKZRVAPoop9AColLSI/wA9O30ECUmWod6N/l0Fi0x6b5lRu9AC0rv8lQu9Qu9AE3mUR1ClTUAHl05KEp/NAC/NSUjusab3by9lQ215HdQ70ao1AmehJqa/+rqGaby6NQJt9Rc0xLnzEps0ywUalajbndHC1cX42+F2g/EKzVNVsVkdF+WaP5WSu031Xhf7yVcJyg7p2YuXmPHYfhL488Kw+V4X8dNHZIvy2epQ+aqU6z0T42fN52uaH/35r2hKkR67PrkusU36GfIuh5Knw0+I2q7v7Y8ftaJ/c0qHbVe2/Z48M6rcSpquq6zrs/3G+1XLba9kudsiNVNIVjTei/PUfWqnTT5Byo5/w98HPBfhVF/s/wAOWEf+3JDurrPlhRYotsaJ91I6as3mVn+d5N4/+3WM6tSfxu5UYmhvqPzv9qoXesuaZoJm8r7iVBeppO/mbqy7B/LRov7jMlSf2kuz/nm9VP8Al4agC3v+epEqCp9nyUAP5pUpOaOaAH0+oaKAJd9Vbm5WDb/t07fUbp5lADUuY99Nmeqr/uLlf92hn8xPkagCN5l3wU7+OqNz+72vub5GqRHagC8lPqp/B8jU55mRN7/coAm3rR/BWa8011/qW8uCpP3kflJu8z5qAL0L0/msxLm4gmbzduz+F46mvHaOFtjfPQBM70b1kqvvqulz5jsjt89AFx3payJkaB2lSVvnb7lTJef3/wB3QBe8799sp2/y6y5ppPtKbP7tO3yT+V/sUAaDzVnw3M2/ZL+8R1+Wh5po/wCFaqo7I676gC46LQ+7f8jVD9sj30ed5n+5QA62f52q1VFP9dVqF6ALPNHNReZTt9WBY3rsqG5dfJpaim/efJQA5JmkTelTI/mJVF4fn3p+7p0Nt5e75m+egDQhmpqPJVfY399qrukn95qANCG5afdUyPWbC7R/w1N9pX+61WBI9zJHc7Kclz57tVff5k2+h3aN1fbQBcmm8iHelXIX8xFrNm/eQslWIfMjRaAL2+q9tugmaL/ga1Ck0n/PKqdy8106u+6NP9+gDcd6rrCsCNsqnYQrB8m5qtedQBJbTLIi0JMsbypVWHzLX/coeZd+9GoAuW1yu1Pnq0j1mvD5iVatv3iLQBehqzzVT+CnbW/560BqWamrO8mb+9U0PmfNvoDUsO/lpUbp8lDpvSo980f8VAak0Nz8i0faZI6jhhp0yNsoJJEVvv7qdNu+XfVezm37k/uVM/7ygCO5tVkT5Kks5vMRajh3fMj1DpqNG8qf7VAGwlTQpVeGrSVAE/NPpqU6ggKhm+7UjvUb0AR723LU2+s+Z5I5l2Vchm8xKsCOb5H31chf5Ko3jtsotpvkoAuPcrG+yhLlfuVn3n7zbTk/eJQBpb6fzVS2m8xKt81ACpSUc0nmNQBJ5lO31Gj0lACu9NelooAbWdcvJWhvqrc/vNtADbZ5o6c80kjrTd/l7aN/76gA86SNlR2qw8bTw7N9RvC0m2rCVAFeGFo32bqsb/L+/UK/elqb/WJQBYdKj2LTqbvrI11D5abJ/HS80zf96rJG1C9TUzmqIIvmqWmJT+aCw5p7pTKmoIGKnz1YqFPv1N5lWAyn/wANNSpP4KAIuaOaR6SgBlFPqHmgBd9R76fzTHoAb80lNSkooAR6N9JRUyLFeq71M71FzUAFLvqHzKfVagSo9N30yot9GoE3nLspyTVVfdUkdLlAmemvS0c1UYgMSn0c0u+qAHpKKV/uUAG+hHqNP9XQ70AG9qb51R76SgCXzqj8xt9R/NTKAJd9D1FSPQVqTI9Sb6rpUyUBqSUyl3rGlQ+cslAakk22RNlVX3QfOi057mqs142/ZtoDUm/tJZE+fdR9pWRPnqn/AKtKHfzKA1JE3Ruzo1FzNJIv3ajSH599LQAiXPlou9qk3/PTdiyU7/V1AFhH+Snb6ro9O30AWN/3qo3Mm+bYjU53qvv8ugCb7TJHVN3kutrv+7+anPNUO9vlqwJHuZo/7tNT7jU138yhN1AENx+8T7tNtUaN2erHkmpoYfLoAdZw/wAb1PTN/l1Gm7zKAJ+aY702o99AEyPTZKKbvWgBrvUbv5dFRvQBVfzN7PVfyfk+989WnqP+GgDPmeSRNm2rG+T7lS80mygB0KeWtR3lzJ/BF5lPo5oArWCNBCqPViT7lLzTaAK2+6nT/SNtSTO0iU6oqAIvOmj/AIVohhb5nf79O8unJUAV3SSR13t/FU0yeZ8lTbPMqN0/2qAKskMkdz/sbfuVaR6jm+/E9QzJ5b+alAFp6i5pEel5oAZ5Pz1IiUlFAD0Sh4ftSL8zR/Mr/u329KZU8NWBJ5dO2U2peaADmm07mm0AJsqRKalLQAUuypETzKEoAj2eZRsqWmeXQA1Ifnp3l0R0591WAeSslWkquiNVnmgA5qB0aSFkqWq2/wAuZkoAkhf5FerSbaz4X8uZlq5voAk8umpCtOR6loArfZm3ff8Akq5DRHUiUATJUm+q6PUm+gNS4m2kqBHqbfQSSUeXTKl30ANjopyVIiVAFeG2WN2dKmRKkooAj2fPVfY0d/v/AL61codPuvQBYhqZKjSjf5dAFhHp/NVEmo86ggt81A83zbKj86m+ZVgSbKa8NN86h5qAH0x0WoUmqzQAzy6d5NP5o5oAWH93VxHqlS76ALm9acj1RTd5lTI9QBaR6a71Dvod6AJkelqBHp3mUAS81F5dFPoAidFoSFY6kSpNlQAbKbsqSigCHYtTIlEdPoAgem/6yn80uysomuoyikemx1ZISUzmn+ZTKogRKXmlSh9sdAAlS0yGnPQBHsb7TFU2yoUf98qVPzTiAU/+Gmc0u/5KoCGSpIar/N51TQ0AOeod6x1I71C9ACUz5aPMpnNABSPSUUFhRTKKmQDXek5pHpKWoDKdvp2yl5o1AioRKkRKXmjUBm+n802nc0agHNHNHNM3rTiAO9CU2pEqgF5pN9Ru9EdAEvNRSUeZRJQAzmjmk303fQAtQO9SUygrUOaOaKXZQGo3fUn+rpqfu6SgNRHf5Krsnl/cqzzUVAalfzv79H+3UvNFACOlNRKmooAj2VHVioqAGUU3fQ71ADpKZRRzQAjvUL1I9LQBBspqI1TR0+gCsiVMm2n0ySrAKfRRQBA703fU1RUAL51NTdRsan80AHNRVIlJQAx3qF6c9Ru7R0AElV3/AHe2nO7fx03y6AGu9JzSeW1O2NQAbGoenU3fQAlFLvqHc1ADXpu+h6SgB3NJxSUj7qAHO9NR6c+2oXeoAH/eJTY3V6Won3R/coAcn7t9lG+qMKNJqUlx/Bt2LWjzQAUr0lFACpUiPRsqP/V0AXEpag30vNWBY5pNlQpuqwlADo6PLo8yjzKAJE20vNNqJ3oAN/z07zKalG+gA3/PVhKrU9N1WBYpyVX31YSgB/NVrxPMj+T79TJUb0AUftP3d/30rQ8ys+6hWarUNAFyHdU/NRU5HoAsJT+aiqWgBNlLRRQAqVYR6hjqXmgNSVH+Sn0iJRvqA1LCVJUKU+gkV3pu+mvTkSgBealT95UVWOaAF31G9LRQA9Kjd6k/1lDotWBDHT6ZJUiJQQOSo3qzTPLoAhRKtJTkSnUAFHl05Ep/NAFfmmbKkek5oASH93UklSbPLpr0AR76HmpKTyWoAsI9LSww/JU3k1ACU7mn+TUiQ0AQolS07mm1ABRRRQAUU7mk2UAV0o3016j31ka6kjvUaPUcz0Q/dquoaj6KOabVmQ6kd/npu9Y/ndvLRKakyzqsqN5iOvy0ASQ1JJTYaN9ABD/rqn5qBH/fbP8AZqfmriA2nc02l30AR05NtRUybdsoAkd6jd6io5oAV3pOaOabQAiUb6WmUFjn202iiOpkA10puxUpz1C7rS1Ak30tQb1o30agT0VAjtTvMo1AdspaZTOacQJXmptRpQlUAtP8ymc0UAHNFHNHNABRRzRQAU2iigAplPooAKZT6ZQA3ZSUUu+grUTmm0UUBqQ09EWj+KmvQA3fQ71HJT6AE302iigAplHNHNACO/l1GjrT6KAHc0c02mUAS80xKjd6dQBLzTai31LQAUj7Y6b5lRvQA5KSkR6N9AC0c0m+oXmoAkd1o31FSP8Au6AFpj0b/MptADOaT+Glo5oAip9FFACPUXNTVA9AC802kT93Q9AEVJspaST7lAAlLSIlG+gBu+jZS07mgCDZ89O8upeaY9AEezy6kSH95vpaV5qAG7KWk307eqUALzTaRKdv8ugBeaKTfS80ASpT+aiooAlopm+nb6AJHeoXT599P5qLf89AEyUOlCVIj0AR7KkRKclSbPnoAbsp0dO2U7ZQAlFSolO2VYFV4aESrWyhIVoAWnolN3r52ypkoAdsqSOipEoDUbsoRKfU1AakWynbWqWlSgNQRKakPz1JTkqCQSn0qVIlAEOypkSnbKkoAj2UbKnooAh5p8dTeStO8ugBqItDwrTo6kSggr/Zvam+TVvmk2UAQ+TQiVY2UbKAG7KNlTbKbQBGiUtPR1pty7Rws6UADwtsqGFG31chfzEp2xaAIajeFpKtJbVMkNHMBXS2qbyam8uiggakNOooqAGUU+mUAFHNFLso1LKdz50jrsby0/uU7yakmh8yo9k1ADfmg/iq9HVNIW/jq4ieXRqBmu61HvqHfQj1kaklOR/kqKnx1Udw1JeabRRVkjNiyffod/Lp9RfxNRqA7zKaj0nNHNGoEsL/ALypqoo/76rdOJA+j+GmVL/BVAV9/lpTd/mU53qKgBXprvUklQvQA2n0yjzKCwo8ymUUAHNPX7lN2U6OpkBG9QulWqbspagV3SneXU3y0nNGoET/ALum76kdKNlGoEVLvprpSUAFFO5ptACJS0UyrAl5pHeo/MooAdvptN31DNMtBWpNvp1VUepN9Aakm+jfUaPTfMoDUm303f5dQo9NeagNSR5qaj1HvpaAHUUzfTfMoAm30nNReZRQBLzUVFMoAlSm0yjmgAptFRfx/eoAlopklHmUAPplDvUe+gCTy6Kj303fQAPUm+q++m76AJt60b/kqHfRvoAkjo3/AD0ymb6AJnemc02igB3NMem+ZR5lADd9JRzRzQAc0x6fzRzQBFUe+pJKryUASeY1H8VJTuaAG0U7moqACimU+gBu/wAuo/8AWU56XmgBE/d0vNNpnmUAPopm/wAymVAD/MqN6NlLzQAz+OnbKWn0ACJRUnltTkSrAhqZEpKfQAeXRT6KAGU5Ep2yl5oAbSJT6KAH05KaiVN8tACc0+Ojy6kSgASpKalOoAfSJTZKEegCWik301HXfVgR7/8ASatI9ZP2z/SdiL5lXkmX+NWjegC7UqPVPe1OSZo/vrQBd5oqp9p+ddlWJpvkVKA1LCP5lPqhDcrG+x2+erCTUBqWo6kSod6x01Jlk+Sgks0+OqM00kf3Fq1DN5iVAFmn1TuXaOHfU0M3mJQBYSn1S3+XNVpH+SgCzUT3K79lU/OaB6c/7yrIIYZvLvJErUR65+Z2gvIpf+ANW1DN5lBZaSpagSpKggfRRRQAU7mkSloArXNv5j76heb5GierE26Sm/2etAE1t+8hWpvJqrbJ5DslX6AIvmgqTzlof50qrZ/vKAL1Nej/AFaVV+adKggsb6a03l1RmhaNN6UQzNdQ/wC2lWWWkuW/jWmzTLsp1tJ5lR3lt5ibqAJoXqWq1g/yVYk+5UyAaky76fUEMfmLTndpKWoEzuqJv3U5HWRPkqjMnlp/sUWb+WmyjUDLSpoUpuypErI1HUIn3qd/q6j3tI7VUQ1JaZRHTvlq9SRtR/xUtM/1b0agPp/8NRpUmz5KNQIf+Wy1ZqJP9ZU/NOICpUtMjp9UQV6VEpeaVKAG7KjmqR6joAipP4KHptBYUUIlMoAfRTd9N30ASUyn1G71kAvNM3rUMz1G71WoFjzKa71TeampNT5Rl3mm1Ak1LSGS76WoaTfQGo7fRvplFWGom+m+ZQ/7ym7/AC6AHSVVd6keouaAFSneZRRJQA3fUtQ81U1LWLXR9Nub29n8i1t42mlf+4ooAveZTOaqaVqtrrmlW2oWUvmWtxGs0T/d+U1boAOaTfTtjUbKAHeZTOaY9LQA7mioqEegCWiopKl5oAY/+3S07mk2UAQvTfLaptlN8ugBrpTKlqPZ5dADXSoXqZ3rPv7+3tdryzxQb22L577d7UATPNTt9RpDSUAS76bTd9Z9/wCJNN0q8sbK9vorS6vm8m1hkf5pWH92j4gNLatSbKNnl0PQAlRPXH/Ej4mW/wANYfD73Ft9r/tbVIdL+/t271dt1dg/+sqpQcUpW0YuYaj1JWD4t8W6X4H0r+09VnaC18yOH92m5nZ22qtbSbZEV0b7676OV2vbQeo5/wB3Sc15xc/FdYPjZB4Ee28tJrFbhbmTdueQ72+WvRkSqnTlTtzLcUWpC802k2LXO+NvH+h/D2wtr3XbxrSC4uPs8TxwtL823d/DUxi5PlSuwlLlOid6aj15HD+0/wCCbp5fsn9s3ez/AJ4aa1dNonxg8L6w6p9sl0x/7mpQtBWssPVj8USYzjLqdw9V3qRHjnRXiZZEf+OP5qPJrAshjpz1I9QyUAS81FTf4Kj30APo5rwr4afEXXvE3xR8dXst3FJ4N0/UP7LVLqbyvs/l/wAUdd5f/GbwfYvs/tdbt/7lqjS11Sw1SLta5HMjuEprvXDw/FJtURm0zwrrl2n8M0iLEr1xvxX+M3irwP4etri38KwWl1fX0djBNd3itsZ6IYWpNpdfUJTUT2inbK8P0e/+NkG3+0LHTZ/m/wCfmNa9q0f7dJpts+oRRR3u396kD7l3VNbD+y+0mEZ83Qk2tR5dWPLoSGucsh8mhEq1sqPy6AIXSnInz0tPoAZT6dso/wBW9ADfLqXmm0uygBeaTZS0UAFFPooAclLSJT+aADmnx0yigB9PplSJ8iUAOSnUzmnx0AFQvG0ibKs0yOgAo8upaKAM54VjuV/26tOiyUXELSJUfkySP95tlWBatf8AUpUzv8lRwp5a0OnmUAR2CLHDUiP5czb6ETy6JIfMoALrbPt2ff3fLV6F/LqnDCsdWkoDUc83lzb3qPf++V0qx5dOSGgNQSZZE+9U1snyU1LZatIlBJG8PybKjh3RpV3moE++yUASJD5n36ckPl1C+6P50q1C/mR0EEezzKbs/uNU1Hl0AZOq28kkO/zWjdG/5Z1ehTei1Ns8ypkTy6AK/nSRv861eR6j2VYSgCWik30tQA7mijmigBdlO8un0UAJs+epqZzT6CAqnbQtG7VcooAKqujR1apnNBZQd5JPk205Lby/uVY+WpeaAKEyNv3J+7epkdnhb5KtbFoRFoAy7B286tJ0aqOzy5v+BVoQvUyAbCnlpTXT599TUylqAzZ5kbVR2SQTNsX5K0ear0AUNlSIlLT0rI11GUzy6fRVRDUZ5dFElFXqSFN2U6iOjUBlWOag31PzRqBF/q3qRKjb79PqyCWnJTfMpyUAQvQlD7aalADnqCpXeq70AO31HT6ZJQWHzUyn0ygA5ptOptTIBHqF3paY9LUCvc3kdrC0ssqxonzs9eLp8b9c8aXlz/whWgrd6RbyeT/at8+1ZWH/ADzq5+0tqt5B8Or6ysm8t76SG03/AOy7bWq5rHh5vDPw90fwf4cVYL24h+zrNs+WJdu6eavVw1OEYqc1dt28ku5lO97J7Hn+ifGbxJ8V9e/4RfT1Xw95O5LrVY/m3sP4Ya1NY+DmpaVptzd2/iHVpNRRWdfMuW+dq5fwZ4Pm0v4war4fiupY7XT7GG406H+H7v3m/wBrfX0tYOusabBcOvzuvzf71duKqRw8l7JaMzpw50+fc8l+D/xdvL68/wCEf8SrLBeo2yC5nTbvxXt0deN/GbwB/atmut2k8sGo6YrTQeR8u/H96vSPA2sf8JH4S0rU3+/LCrtXBiVCcVWpq1/zNIXi+SRuSVC71NVO8fyIWevPNx29ab51fK9z8fvGGlfFrXPBVpBFqWqXdxvsftW5orePbu+VUr0rTfCXxU1x/tGq+OLfSUfa/wBm0rTV+T/gT13PCyik5tJMyVTmvZHr/NI/yJXC2HgzxFYyb38Y393s/wCe6LXVWH26SF01BopH/heD5d9c84KOzuaKT7GL4e8f6f4g1i+0fbLaapb/ADtbTpt3r/eWumrJfSrOe5W48pZJ0+7N/Elc34n+K2m+FdeXTL2K4/1e+W5j27Vo5OeVqaJ5uXdnb0Vyni34kaL4L8NrreoXPmWs21IEg+Zrhj91Y6j0HxxeaqkT3fhrUtNSb7vmbW+X/ao9jK17aFcyOomeuZ16/wBN1lbzR/t1rJdPGyS20cysyKf9msv4xeJ7zw/8NNeu9KWWPUUtW8h9n3GNeK3nwE1y68MeGrjwpqq2l7DD9ovNSndvPlkf/aruwuHjNKc5WMZzcdErnsn7Ot/NffCjSre4bfdWLTWkv4NXptfIHwQ8Aa1J4k8UaZqen3F2ljefN/xMmVdz19JaD8OtJgtt8ukLaPu+55zS08dh4UqjfNe4qM3KK0Ov5o5pltYQ2MKpbxJGlSbK8o6Cu6VHsqw9U7+8t9Ntpbi4nWCBPvTSPtVKAB68L+MfxR8ReB/HmgxWU6waPdxtDvnT91527+Jq9Im+LXg2B9j+KNLjf/r5WuX8VeKPAPi6zktL3U7DU7WZfmT71ehh4OE05wujKeq0Z0Hgz4lw65qq6JqFm2m635PnKn3opVH8UbV3fNfLGiarqHg68SLRNTtfFGg28y/ZbbUnaC6t/wDrnLXs3g/4zab4j1iDR7uxutJ1S4Zkihn+ZWx/dZa0xOEknz017pMKn2Xueg0+pEj/AI6XmvLNyvSvUmym0AQ7GqN6sO9QyUAVX3V82/tP6w194z+H3hS3aWR/tE2rXiQPtZI412rX0VqupWuj2Fze3sqwWtvG00s0n8KivDfgboNx8QtY8VfFjW7Zo59Z/wBB0eGT/l3skr0sDaL9rNaL8WzKp7ytE7T4G/FeT4zeG77U30z+zXt7pofv7ldaj+MfifxB4f8A7B0zw/A/n6nM1u15s3Lb/wB2s39k3R49N8DarFt/0q01a5t3f6NXrWsaJDrCRJKn3JFf/gSNuorclHEN2vEIXlBanldh4B+IkdnB9r8dSyXW35vLs1215zeeA9e8R/tM+HNE1vxDcala6ZpLaozxosWzLV9VPXkfgaFb79oz4iag/wC8ex0+y05f9jK+bWlHEStN2WiJlBaHqlwnl7q4Wb4x+CYEnZ/EthJ5LbG8t2b5j/u131zH5kLJXlPgD9n7Q/Aesaw+nqsml3zed9gnRW8qT/ZauGmqevtGaSvpY8t+NnxF8J+NPHnwm0+31q3u7W3177XefeVUVK+hrbxb4fvvni1ywk3/APTyteT+P/Cem3X7Q/wm09LOLyEh1G7ZNi/PiOvYk8H6TH9zTLP/AMBlrsxHsvZ00r7fqTG92eF/tmKupfDHSLS0lWSe41y0RfLr3qw01tN02xtP+WkNvHE34Ltryf8AaB0S3urn4aaekSRwTeKrff5fy/KI3r2x6xqS/cQXqVH4mfNfjzw22h/tY+AvEb/vINWjbTv9zYtfRjw147+0n5mlWHhPxGn3ND1qG4nf+5Gflr2RJluoVli+5Mquv+6aK8nOnTl8iY6NlV4a5nx1oOh+I9H/ALK16WDyJvupPMq/8CWuw2VxvjL4V6D481K2utYs/tb28fkq/nSRfLu3fwstc9OSjJOTsaS2IdKvPCej20Gn2+uaXG8Kqip9sj3cVvfY9Pvk+dre7j/4C1cnYfs/eB7F98Xh6z3/AN+Tc1dBpvgDQ9HeJ7TTLeN0/wBitKkobwk2yY83VGtbWcNrCsNvEsaJ91I/u056n5qB65Syu9QyVbqJ0oAqulQzN9lhllf/AJYqz/lV50qjqts11YXNujeX50MkO/6rtq4/EgPkv9l34Rab8SvD2r+IPEEtxd2r6tNtsN+2LzvvM1fU2ieCdF8Pw+Vp+mWton/TNK+f/gh4wb4H+CW8L634Y177amoXEzTWtt5sUua9e8E/GnRfGmsRaVb2mqabfTKzxQ6lbeVvUV62L9tOTlH4V2MIOPzO2+zLHXnfx78BzfEL4Y6rpVkv/E0h23dn/wBdo/mr0x0rx340+JNQvtb0P4f6FefZNU1zc8838UVuK4sOpSqqz2NJWsxvgz9orQ/E3h7SnSK61LxDNCv2zTbGHc8Ug+9XdabrfibVXV/7Ft9Ng2/8vU26X/vla8fsPh1Y/s+/E7wnd6OzR6Rr3/Ervknfdvm+8slfSWzy0rbExp09aaumTC/VkKI2xd/36SpqZXmmoyjmiigBiJUyJTdlOoAbso2U6igBuyjZTqaiUAJRT6a9ACU/y6hT79SPQA6nb6i5p8dAEtI9LzSJQBJUvNNooAXZUlRpTkoAkSlop3NAC76N9JRzQAVKiU2OpEoASnc02irAdzSbKXmigBUSpkqOOpaA1JqnhSo0Sp+aCR9SJUdPoIHVUuf3cyvVmmP+8SgCXmoLZ/Ldqjhm8j5HqvYJJHcy738xHb5aCzWqXmoEqfmggOaKKfQAVLTaXfQBIj0+okqfmoAOaRKXmkSgCSiOmVNQA7mlSk5p9ABRTKlSoIG1FUslM5qyxiJT+aOaOaACk30b6SgCpfzLA+92+SrEL1XvIfPT7tOhTy0oAtb6SmUeZUAPqGn0ygCvRSb6Xmsiwo5pEqN3+dqqIA70R0yir1AfTXp1Qv8Afo1AclT1WSn0agL/AB07zKr/AMaVMlOOwFhKd/DUO+lqiCJ3WmpTd607fQAPSUVFvoLEoo5ptADqOabSb6AJN9Q0+mVAD6r1LUbpQB5D+0JZtN4GubhF/wCPSaG4/Jq7zRLaO+02z1Xd5j3FrHtf+4u2neKtBh8QaVc2VwvmQTRsjJXm/wALfG0nhWaXwZ4jn8ue0/487md/lljr04Xq0OVbr8iJe7NeYaXo9vY/tCLKn+suNJkeWvUNB2x/breKLy0im+//AH81welIt18bJbj+C30X5X+rV6BDf2trYS3ss8UFq/z+dJ8q7aVdSly+gR6lXxb5Meg3zy7Y4Ehkdv8Ad21yv7OqSSfCuxd2aTfNNt/3d1cT4w8c3nx01JvA/gJmk07ds1jXtn7iKP8AiWOvetB8PWPhXQbHR7JfLtbSNYVp1F7HD8k93r6IlPmlfoiR0qrcw+YlXJqhrzzfU+dfHlhpPgv43+EPFF3ttN/mW8tzXpj/ABy8D+d9nTXop50/ggRmeuX/AGhPDy6loNnd/wDPpeRzV6ho/hvS9NRXsrG3g3rv3wQqvWvUnKnKjBzu2Za8zsYKfEjT7r57Sx1S7/652bVV1jxbqEmmyvaaDeb/AC/l8x1irtntlqjfwrJC1ckZwi9i+V9zyP8AZph1K48GXl7ey/668kTyfvdK7zW/CWn6rctcXFss77dleX3/AI8k+EPhLxZFaWaz3tpfRzQJJ93bOyLur262f7VpsFw6+W80Kvs+q104jmjP20dEzKna3J2Pk/4deEtQuv2lovDniO5e/wBE8PQyXek238Kb/mWvrzZXl+ifCK4j+Nkvjt7mKOySz+z/AGb+J22uteqSUYusqrhyvZa+oU48tzH1vS4dSs5be4i8xGXYyV5bHNr3wks50itm13w0m59n/Le3Wu61X4kaTo2q31pqE/2RLRV2/wATysV3fLXnevax4q+Nnm6F4Usbjw94auF8m+8Q3ybZXjP3lt1qsMpR0n8O4Ta6bmp8E9StdY8c+NruybzLW7W2uFf/AIDXs2yvO/DfwlXwW0X/AAjWoNpqJax2jeZCsu9U/i+b+KvQraFoIVRpWuHVfvyfeescVOE53g7rQIJxVmLRzRzRzXCb6kXl1h+J/DFr4q01tMvYluLJ/wDWpJ/HW/RVRk4vmiB4R4n+Dljod5Y/8I54T027/juprr5ti/7KtTrD4e+MtS3SvJpfh613fLbQWayy7a9w2LUtd0cbUso7sj2cTx7WPD2m/Dnw3eeIPFGvNHp1ou9n2Ku//ZVf7zVn/s/eDNS8TarefE3xBbNYf2hH5OhaVJ/y6Wn95v8AaarXxI8Mf8LN+Nngfw5qcXn+FNMhn1y5tv4biaP5YlavcHetqmIlGile8pfgjPk19CCovLqZ3pleSb6kD1HJUj01KAI3qN0qw9CJQB4j+0tba5rmg6Z4a0rSry/tdQul/tF7X+C3T5ttXrZPiNqujwafommab4I0u3hWGB5/386LXsEdtHJNv21b5rsjieWChy7EOGt7nzF8KPhXqGm+M/EvhzXdcv7vZt1GJ4JmgW4aT7zfLX0FomiWvhuwW1tPN2bt7PI7M26qepeEY7rxDBrEU8tpqMMbQ+dH/HGf4WVq3Pm+WjEV3WadwhFQG+XXl/w3tvsvxd+Jvmr8921hcRf7aiDbXqvNYV/4V02+1KK+uLNZJ4fuzfMrVjCfKpLuVLoatFFFYjPNte8MXV18fvBmupAz2tjpd+ks38KZ2KtelO9JzSPWk5uaXloGpzPjbwfH4xh0rfK0E+n30d9BNH/AyV0j03zKZU8zkkuwamF458K2/jTwlqeiXf3LuFko8B22rab4eg0/WNsk9jGtutzH/wAvCj7rba6CmUc75eToLlCjmijmpGM31G9T81X5oAOaimSrFM5oArf6ukqd0Wm0AQ7Grk/FvjC18M63otldzxWkF20jy3M77VRUWuyjrL1jw9Y64ipqFnb3caN8qTorVpDluufYNTznWPi7Yzv9i8JafceJdU/uRoyxJ/tNVj4Y/DfWoPE8/jDxheLd69NC0NrbQf6iyjP8K16JpWj2elW3lWltFBB/cgRVWtDfXRLEJRcKasn3I5O7IXSvIfH/AIJ8TWvxRsfGHhe2sLu6TTW05kvn27Pm3blr1+isadR0ndIpx5jyLQ/hR4i8VeKtM8R+O9Tiu30yb7RZ6Va/LBE1evPTqa9FSpKrbm6BGKiJzUUlOelrEYymv/rKkSm0AMp9MpUoAdRRRQAyn0UygB9MopXoATmiilSgA2U6iigB9KlCUvNAD9y0UzmigCdHp2+mUUASo9SI9V0qSgCx5lMptP30ASb/AJKb5lN303fQBJ5lHmVG9O/gqwJkpaiqXmgCVKmjqFHqwlAak0dOSmx0+gkdU1RJUtBA7mk2UvNFAETwrJQkKx1LSpQAJU/NNpUoAWn0yigB9FFElAEiVJUKVN5lAD6dzTadzUAFP8yo0paALHNFV6sc0AFFJvo30ALzRzTN9G+gA30O9NkplAE1Q0Uu+gBKKKR6AF5o5ptFADuaOaOabQBSd/np1R/6ypI6yLJEqN9u9qKa/wDrKAE5pUpOaRKrUBaSamo+96dNRqA2H/WU+mJT6NQGbPnp/NJH9+h6cQGu/wB2h3+Smv8Au5oqa/3KoCPfUiPTKWFKAHO9JzRzRzQAiUlFFACPTaKKAH0UyOnb6jUA2UtFMo1AbMnmLXH+LfhppPjK3aLULRZP9v7rJXa0ibauE5U3dOwHz7b/ALK7Wt/cy6f4x1nTbWZdjQxvu+X+7XSJ+zTpusXMUviXXtZ8QwJ92znudsX/AHyteweYtG+umWMrdyeSJV0HQdN8K6bFp+lWNvptjD92GBNtWJpt9Nmdqrx1yczk+aTKJn21DJT6qf6x6RWpxfxdtluPBmof7u+uw0R/+JDpn/XrD/6DXO/Ei28zwlqfy/8ALGug0pPL0fT0/uWsP/oNdcv4C9SPtFh5q43xn8S/DPgt4odd1q1015lZ1Sd/mdRXXTf6uvlP4i+DJvHHxy1C9t2i/tTRtPhuIIZ03RS4b7taYWjGvNxm7JBUk4LRFz45eOdB8R+EoItM+0SPqF5bbZpLOSJZVEm77zV6R42+PFj4O1WXTP7D1K7nTaivGm2KX/drynxJt+LHhjUJbSx/s3XtBkhe8tv9xt3y16V8TtVjvvg/fa3on/H7NZrtuf40/vV60qdOPJCSv/mc/M9WmXtK+LXiTUkilTwHeRwP93zLlVauy0HxJfa5uS40W403/bkdWWuL+AnjBvGnwi0zVbhfnTdb75P49leF/CGbxJ8VPid4s0S71e/g0jTLq4fZHM27du2rWf1WFTnVrcoe0cbdbn15/YlrO/mywLI9akMKwJsRfkrxHwzqWqfCvxzpHhy91C41bSNWZkie6fdLFIK90ryq1N0mtbpm0XzBTd9Opr1zGuonNM3056XmgNRiJT+aOaOaA1G0Ur0b6A1KP9iWsmpQXrwLJdQ7kif+5mr9Jvpu+gNRaid6SlegBOaTZTt9CJQAnNLsqWmeZQA+kemx0UAMo5pUqN3oAWmUU3fQA6mc0u+k5oAOabRRQAyoXqzUX8dACUUUc1BYUc0UjvQAlMpyU13oICSmc0rvSc1YETpRTnptABRTd7UlAD46KZRQAuykpHqOgCWjmovMooAdv+7RvqKigBkN1527/YbZT6gtv3by/wC9UzvQA7+OhKp7GkvPN3fw1aSZd+ygBzOsdJUF59xX/wBqpkegB2+m76bv8x6bQBLzSO9Q76hd5I5N9AE32z51Tb5e+pkes25m8xYnT+9VxHoAnp9Ro9SR0AEMyyfcqXms6wfy5p0/2quPMtADt9P5qLctOR6ALNFQecu/79OeagCZKWq0NzUnmUATfNR81V/OXf8Aeomm8uH5KALUdFUUvG/jqbe0aUAWJpvL20+qD3Czoy/x1NZv5iLVgXqclQ76kR6ALUNWEqrDVh3WNKA1JP8AVpRbTeZ/DUKXK/cepoZl3slAalpKlqlNc/Z031MkyyUElnmimb6clBAtPplPoAKclLRQA7mmPMsbqj0tI6eZQBJvWq8Ny0k0qP8A3qjd/LpsLrJM1AGhHUiVBzT46AJt9OR6r07YsiUAW+aKpb2gfbVjzKAJaXfUKTLUvNQBSv3k3Lsfy6tJJvjWo5ofMdXqOH+5QBb5opiUtADqKRKXmgA5o5ptFADuaOaiooAfTKKfQAUUUUAUEqSmU/5ajUsKa7/PTqjejUBeaOaOaOakBEqOan0yaq1AIal5qKOnPRqAJ9+n81Ev36fTiQRf6yaKprmH9zTU/wBYtSTVQEOxY6fRTI6CxlI+2nPSc0ANop3NHNADaZ5dPoqZAFFFFLUBlFFFGoA71Hvod1qCjUrUs7/9qo3eo99R76A1Jty0VDvpvmUBqTO9RpTfMpu+gNSvrFhHqtnLaSs2yZdjeXVzf8iolQUsNPmDUJkrzf4hfD3WtVf7R4U1C30LW5tqS38lt5v7uvT6VK0p1JUnzIUvePP/AIe/B+3+Hulam97qcuu69qzedqOpTpt3/wCyq1w/i34A6tqqXll4f8X3nhrSL7d9ss/syzq+f7te9O6019tdEcVUjLnvqyeSNkrHzbpevf8ADMvhix8NarZy6l4e86TbqsCfNuPzbWirzf8AZj+J2g+HPGHxG1vVWuLCDUJvOgttm6d6+rvG3gPS/GOm/ZdVtlu7Xdv2Sf3q8F/Z3+Hul6B+0D44t4rNZINPhXyPMT7jGvYoVqVWlUc17z38znnCUWrPQ9A8B+G9c+LHjmz8ceI9Il8NeGtJ3f2LpV1/r7hj/wAtpq9tp++oZnrxa1b2rWlkjaMeUZRzTN6013rnNdSXmjmoty1D51AalrfSVW86n0AP8yim76PloAdHRR5lN3rQAfx0bKSjmgBUSk5pHpKAHc0c0zfRvoAk3rUe+m+ZTKAJd9Rc0x5qbuWoAlpd60nNJxQAtFJvpeaAGPTak8xahd6AHUIlR76k/wBXQA16Sl3+XSUAHNI9D/7NLzQWNqJ6d5lQ76sgc9JRTPMoAKKKZzQAVNUPNPoAKH2xpUe+mvQBHNM29URaSkd/no8xaAHJSVFuWm76AHfNv+9UM3mf3qsJTfMoAr23mR3Mu9qkm27HqPf5lyz/AOzTn+61QA6F/kWq94/l3ls9SL9yo5kaR6AHXj/uakR2+Wq/+sTZ/tVMifdoAjh3faZaEmb7Sy0190czOlQ7GkfzaAJN/wDpn/Aamd1j+d6rp+8f56keGgCF0/0ZquQvUOz5GSpof3aUAS1L/BUaPTpKsCin7uaWpk3eZ89Gz5Kjfds2utQBNN/yyoeRo3T+5uqvNukdakf94lAEkz+XcwOlSXM3yKv+1VXZ867mqT/WUAWEem/aWjdqr7KciUAOuZvnidKsecs6ffqrsWOjy6sB2/5FTdVz7Suxd71ReGiG2oAm3tPViwfy3ZKakNSJC3nRPVgXt7VahqrDVxKAJo6Lj7lEdOdKA1G+T5iVHZu3nSo9WESneTQGpI/7yGqdm7Wi7H/eJVra1Hk0BqTQ3KyfcarSPVFIVjffVpHoJJkp9RUeZQQTb6N9Q+ZT6AJfMpu9pKTmjmgBmyq//L5VvmmeSKALCVIlQx1LzQBNTuaYlP5oIIrlPMSo1dpKs81FCnl0ATf8s2qnDctPG2xvkq1s+Rqqwp5HyPQA62uZI38qWpP9W61C+2Sje2ygC9TfmqNH8yOpEeoLHUeZTKKACn0zmlR6AEoop9ABRRHRQA+mU+onSgCqlLSolOqNSwqN6c70lGoBzSPS0x3o1Ab5lN8xZPnSo/OWSpqNQHQpQ9NhenPRqA3+KpeaYlOdKcSBKV6SiqAR6WlfbTkSgCu9JzUr1DsoLDfSUUygB9FM8yhN1QAR0UUyjUBHpu+h3qHfQVqDvUPnLTXmqrvXf96gCx51CPWbeara6bD9ou7mK0g/vzuqrVWw8VaPqT7LTVbOd/7kcytWnK7c1hGw70b6h8yjzKzGSb6clNSloAfU0NV0epaALKPUbzVDvptAE2/y6d5lU99TI9AE037xK4H4deCdQ0Px54s124W3jstTaNIP+er4ruHemvN5aKlbwqOmmo9dBSXNYvPNVeaTetVfOoR6zHqSQ/u6a81N86oZt1AA83mVlv4q02PXotHe+i/tR4ftC2f8W2tB90cdfM9/DcTfGzxxrfmvHPpP2Dyv90RpXZh6CruSvayMpz5bH1Aj1NVe2mWe2guE+5Mquv41LzXGaj46fUPNM30ASPNTXmqu9QyTeXQBoed8lR+dWb5zSPU3nUAXvOpu+q6f6umu9AFre1N3+ZUVO5oAXe1JSb6dvoAjmpvmUTPUVAFnzqjeZaj86od/z0AXEenPc1R30b6ALDzNTUm8yqrvToaALW9qd5lV3f5KbHN5lAFrzKbvqHf5dHmUATb6POqGoXegCxvqN6h8ynb6AJHqGmu9Nd6AJkpagSapKAHI9G+od9LQAUr1HvqPfQA59tQ7Pnps336a9QA6b7lNSk5pHegCwlLUCPUiVYA6U2n0iUAN8uipeaRKAI9nl07fT+aYlAEeyneXUvNFAEXl0VJspuygBqJUibd9LzSbKAF5pd9JzRzQBFJR5lO2U2SoAZS76Tmm0ALvpyVGiU+gCVKWoafVgPp3NIlWESgBqJU3k0JDViOgBqJUyJRsqREoAI6sQ1HsqSOrAmSpkqFKloDUljp9RJTo6CSXmjmjmigAqVKWlSgBafRRQA+nc0xKfzQQHNHNHNHNABzRRzT6ACOpEpKVKAJI6l5qKOnb6AH80UqUlAD6bsqWioIIPsq1DNDV2mSUAU4X+SrCVTf93c1aSgB9FNp3NABzRzTHeloAdRSZam76sCTfRvqHzKKAJt9JzUG+jfQWOoookrHUsZzT0T5KZzT6NQCoXpz0lGoECQr8tSSUU56kBsdNejzPLRnpOaAJYac9R0eZVxIHI/z0/mmQ1MiVQDKVKk2UJQBVkqF6mkqKgsKZT6hoAVEaj/V0lI9ADd9G+m0UAMqKapnqGSoK1KM26uP+IXjmx+Hvhi51jUP3nk/JFDH96WQ/dVa7CavFbzSv+FqfHW2srhfP8PeFoVuJ0/he4f7q110IKcuafwoTlyoj8K/CLVPiai+JfiHv33C77HRPuxWkZrW1j4B6LBC39jq+mz7dizb2avYpnrxX40/FHWNK1vSvBngmBbvxXqfztNJ9yyhH8TV0061arNKnovwsZtRS1Q6z1XWPhrcwWl7eNq2kP995E+aKtb/hfHg2TVf7Pi1dbuf+Ly/m2V5zc+IfGXhXUrPR/FDQa1Bq263gv4E2+VIaksPhLpPwy8SRO+nxT6XqCrbzzSJuaKb+9XX9XpT1q7+XUz5n9k+iLa5juraKWJlkR/nV46PMrzn4b3N14c8Q33he4dpLXb9os3k/u1H8dfE+qaP4Vg0rQv8AkPa5cLpdq/8Azy3/AHpK82WGftVTT3/I2vpc3PDfxa8P+LvFt54f0q5a7urRW8140/dcV2T18w/B/wCG/wDwrL4xrpVlctv+w73eT5vtDfxV9OPWmMw8KE0qbumkTTm5J8wb6N9eS/EzxtrWpeMLH4f+D9set3cLXF9qUn3dPt/73+9VG20e++Hvjzw5Emr3V2moTNbypdPuZ6mGFco80nZvUHPXY9r5o5pXSvGf2h/GGpeHNK0VNPuWtPtF8qSvH958VjRoutP2a3ZUpcquex1A9ZP/AAkMNj4Si1jUpVtIIbNbid/7ny7mrw/xz+1Q2hzaVb6P4Xvbu61aTZY/avl3r/e21pTw1So3GCvYHOMd2fQ0f36kkrgfhR8V9P8AiNYbP+PTW7f5Lqz/ANof3a7S/v7fSrOe7vZ4rS1t1Z5Zp32qiisZ0qkJOE1ZlKSkrpk9PdK8z8GfH7w3448Tro+mLeeXNu8i/nh2xXDD+7XqGyidOVJ2mrBGSlsyvMnyNXz/AOIbb+zfip4st/ljTVtD86L/AG2T5a9G8SfGPS9H8Q32j29jdak+nqv26a1+7b5rzv4sala/8JD4O8S27+ZZXC3Nvv8A9l1r1sFTnCeqsmjGo1Jb7HuHgyZrrwlosv8AftY61+axPh7DJB4D0FH+/wDY463q8mp/EZtHZFeZ/LTfTOaneoZqzGVXes+8maOFnrN8beJJvCulfa7TSrrWrp5FhW2tfvc/xV5v/wALm8RT3LW//Ct9Wkfd8r722/8AfTLXRToTmuZLQUmkc3pfx48SaPqstp4otrWwfzPlSdPKV1/2Za9S8N/FfSfEFzFbu32Sd/u+Y6sr/wDAq43VdV17xBbeVd/DlZ0/uT3MbVxKfC7T57zfL4J1zRfm+/ptzuWvZ9hQqx1VmcvNOO2qPqDf8lCJXleleCdesdPifRPFmqRwLu/c6lDu/wDQq1Pgt451LxwmvRXrWt3Hpl19kXUrVNq3DD71eRPD8qc4u6R0c+qTVj0hEqR6dspK5SyKipHSo6AIZqr72q06V8//ALTPxF8ReGbnw1oXhWJp9YvmmvpUj+95MVbUaLrTUEROXKmz3Tc1PrxDwZrfxI+JXhWz1W31PTdCS4/g+zMzJiuqtvh14qk+e+8cak77fm8hFiWtpUORtTkk0Sp82yPQmRv46jmfy0rmdN8H6tpv/My6lP8A9d9rVxvxCfVvF3xC0X4fxXzWmnTWbajqdzB8stwo+7HUwo88rJ6blOXKtj0K28W6PdaxFpUWp2r6i/3baN/mrdryDRPA2n2Pxd0xNPW3sNL8N2rPP8+3zbiVflX/AIClevJNDO/7qeKT/rm9FelGk1Z3uEJOV7ld3aub8B+P7Hx4mqvp+7/iX3jWMvmf3hXTTJ5ab68X/Znh0/Q/DfiOWW8tY3vtauZv3ky/3qcKXNSlPqgctUe3f6ymyVDbalYz/wCqvrWf/rnMrVNNXIWcj8TviXp/wv8ACsut6mssiJNHCsMH3nZ66LTb+HVbC2u7eVXguI1dXr5P/ac8Z3HxC8SWeiaPF9r8NeG9QhfVrz70TzFtvl19MeCfCsPg6waytG/4lzt50Sf88mNehUw6pUIzejZlGblJ9jfoqpreq2fh/TbnUNQnW0srdd8s0leWw/GDxB4m3P4U8LrPa7fludSm2rXLTozqJtLQpzUT1qSm7K4XwT4/1TUvEjeHPEen29hq72rXcD2r7opYw21q9AdPLqZU3B2ZUZKRDCvlvUm+nbKhdPnrMY7zKbvplcxrfxO8K+HPN/tDXrCB4W2NDHN5sqf8BTdVRg5fCrilJROoemu9cDYfG/w7qrqmnwatfJ/fgsG212lnfw6xZrcW/m7H/wCe6NE3/fLVUqc4bqwRalsxv2+3kuZbdJYvtSLvaHf8yLUteJeEvMn/AGt/HCf8sLfRbb/vorDXrmvaxa+HNHvtV1CXyLK0haaeb+4oqqlHkaW97ApGhvptfPulftXLqviq2R/DlxaeF7tmSDUpNzSvivcNB17TfE1gt7pl5Fdwf34/4P8AeqqmHqU0nJWRKmpbM1aRK878efGzw34D1KDTbudrvVH/AOXC1Tc6f71aHhX4teG/FT/Z7fUFgvfufZrr9027/Z3VPsanLz20DnV7XO4306OoX3U+sSyaimUIlADkp/NIlLzQAc0UUUAFPRKKKAI9nz0tTUUAQ0+mc0m+gAd6r76WjmoAbRRTuaADmionepk/eUAO+WpESnJDUyVYBClTIlCJUiUAJzT6KKAJEqSOo0qegB3NPjpqU6gCXmn1ClSfwUAOjqxHVeOpkqw1J6KRKclBJIlPpiU5KAJKZRRQBNRTKKCB9O5ptO5oAOaKfRQAVIlR1IlAC09HplFAE6PUlVU/1lWEeoAlpnmU3fSUEE1Mkopr0AR/LS0UUAFJvpaKAGUUUVYD6KZHRQAyiijmgA5o5o5qKgssf6uod9R72oRKx1LJEqx/BUKU53o1ATmoqc702pAI6c9NqOagBaSPbsWhKdsoAa7/AL5U/wBmnfNTdi+cr0vNOJBLClTI6x/PVXzvLeL/AHqkd/MStAJvOWSnfwVBS/w0BEhd6hkpz1FQWFFFFABTadRQBFRUvNNoAieo3SrNQPUDiZepfu4WrzP4D23+meOL1/8AX3GrNuf6LXqV/D+5rzn4Of6Lr3jbT3++moed/wABK13Uv4UyZ7o9A1K5W1tpX/uLvrzX4aeD5INS1PxXqreZq+rM23/plDu+6telalCr20u9fk2/NXyj4k1i18XWeoa9qt5qU9680mnaLommzeV83/Aa6cHRlVjJJ2RM5qNjvvii6+I/id4O8Jaf+8vUul1G6/6ZQpXrHi3RIdY0q8tHX7614f8ACX4b+JvgW8/iPXV/t261ONft38U9ov8Ad3V7Fc/ErwzPoMuoJqtvGiL9yR9rbv7u1qqtFxcI03dL8yYPdvS55rea3cQeJ/AF7L9+aZrGV/p8tdN8Y7C8gfRdbtImnfRrr7Q0P99fu1534nvG0Ob4fPqbeXP9qk1SdP4kUtur6A01Jtc0eC9u4mjku1877NJ/yyU/dWtq/wC65KliYe9dHiuj+JtN8XfHLw1e6JL9r32s32r+9F/stXt2t63p+h2bXGoXkVon9+SvNfHPw38H+Gba58QXE6+GrpFb/T4H2s9bnw303UvGnw6gm8SxeelwzeR9qTbLLb/wtItc+I5KsY1FstCoXi2meN6b8bPDPhX4x+KtQtJf7dutTt4be1hsfmZ2H8NepfD3wrrniDxCvjXxhEsF1tZNO0eP7top/ib/AGqr698E9P0280/VfDmn2um6vpknnReXCq7/APZauif4tafpVm0viCC40V4f9b5kLNF/vbq2qVI1Ir2C128yYxcW+dnYXl5Dawy3FwyxwQqzs8leF/tGWC+I/CWmaraN58FvcLcL5f8AGprj/jr+0zp/iDwZqGmeEtP1LUkmaOGfVZIfItUjLV7h4V0eHWPB+mXD/wClpcWqoqbNqou37qrWdOjPCKNeemoSmql4I2IYbHxN4bttnlT6dcQr8n3l2/3a8Z8Tw2elfGyz1jW5YrTTrTS5Es3k+VVb+KuyT4Y69ocMtv4a8UXGi2szb/JktlnVP93dWDq37MsfjG5W48UeI9W126T/AFXmP5Sp/uqta4epSpTcnPR/eE4yktFqcX4V8NzeGfBK+NbeKWC6m1RriDzPvPCZdtb37S3h5vFSeDNMt2aC61nUFhZ43/hMdd5pvwHW6vLP+2PEeqatp1pt8qwnf5eK9Kfw9Y3V/aXdxZxSPafPA8ibvK/3aqrjIe0jUi7tXFGn7rR5r8QvA1rpum6ZLo9osCaNNG8CQJ9xRXpFtfx6rp8d3btvR1q5eWyzoyOtcbdfDeGS8llsr690nf8AeS1m2pXmyqqtFKbs0b8vLsjz/fD8J/E/iG71iBv7L1mb7R9sjT7jfd2tXmtzbf8ACcWF1pmhWd1f6Jaa19uivNjLFbw7fmVWavoD/hS2i6lMr6w15rWz/n+uWlWu0h0GztdN+xW8CwWu3Z5MafLXoLG06Suld7eRn7Pm9CxCkccMSW6+XAkapF/u0PTbCz+w2yxJK0iJ/fqR68Q3IXSq7o1XP9Y9NdKAOD+IU3iC1WzTw5p9vfzuzea877ViWuNmsfilJNsiXRLRN335NzV7ckKyU7yV/uV1QxHs1y8qYnHme55PZ+EvHUaL9o8Q2e//AKZ21dJpWg69G6/a9Ti/7Zw12WyjZUvESkVynnPxp8QzeC/hdrmoW7eZepb+Ta/7c0nyrWh8HPAcfw5+Gug6Fu8ydIfOun/vzSfM1ZPx103+0vDGno6+Zaw6lbXE/wDupJXqHnLJtdPuP92tHLlw6j3ZP2ivsplSyUzmuM0G1A6VZ5pNlQQU/Jrxf4tae2h/Ejw94ze2a7tbG1ksZ0j+ZkV23bq9y2VRvLCO6++tddGr7KV7XE48yOR8DeMPCN1ZrFpWr2vztvWGR9rJn/Zau35rhte+FHh3WIdlxpFvI7/xxptb/vpa4nwr5ng74r6f4U0LxHdalA6tNeabO/nrbxj/AGq29nCreUXqu5PM42uj2ibbHuZ/3dfK/iHUvFHxN8Q3Pjjwur2mg6dusYHtflur2EN821q+mPG2lTax4S1zT7dvLnvrGa3V/wC4zx7d1eK+ANS8UfD34e6R4Xt/A95qV7p8LI1zJMsUT/NXRgvdTmtXtr2M6nvWT2O6+GPhLwrdaJFquj2azvcfPPc3X72fzP4lbdXQeNtN1T/hEdQt9CnWw1R49kE2z7jVz/wN8H+INDh8Q6x4gW1sJ9cuFmXSrX5lt9lenPDXLXly1dHexpD3o7WPAdH+DOueJktk8Yanf3bw2/kt5F+yxS/LR8DfhRoMGj61bvpVvIlpq00K+Z83yivfNlcn4M8PXHhy/wDEe/b9lvrz7XB+K/Mta/W5ShJXsT7NXRoQ6Va6ajfZ4Le3/wCuaKteL+M/HmqfE3Vbnwl4Hufslqnyan4k/hiX+KOH/ar3DWNNXVdNubV/uXEbQt/umvLdN/Zj8H6VbLFDbXmzd9z7ZJtqMNOjG86j1CalKyjscn8UfCvhHwH8CtT0TSrmzj+z+XN/rlaWWQN95q9c03xz4fnsLT/ib2e/yY9yecv92uH8Yfs5eE5/B+q29poq/ant5PKeR2Zt1dB8NPBmi3HgPQbj+yrPz3tY/NfyV3eYF2tXRUnSqUFdttMmMZRkcf8AtIWeoeNPCWg6Z4fvFkg1DVo7efy/m+U12Gva3oPwy0GD7R+7RI1itbOD/Wy4/hVa0vHmm6ta+GFi8L21n/aiSL5H2v5Yov8AaryvTf2fvE19ra6xr3ja4/tH+/Y23zJ/us1TS5JwSqSsl97KleL0WrOk+FfhLWtY8W33jvxHB9kuri3+yadpv/Pvbfe+b/aavVJv3dcLbfB9Y0X7Rr2uXf8A10vKvJ8JdFj271upP+ul5JWNR05u/MEYuPQ6j5aZUFh4esdKdfs8Cx/LVi53Rwt5S+Y+1ttchqV3j8xWR68z0r4A+GdN1Jbu3tpY/m37N+5aq7/it4gS52NpuhfdRfutsX+8v3q1NH8AeJvlfU/HGpXb/wByCFYq7IRdH/l5a5l8XQ9CttNjtYVRF8tKkdPLSsHTfDd5Yv8APrWpTp/00dWrpHSuOW+9zSJ4r8NNN+1ftFfF3Vf+eK6dYr/34Sq/7TLzarYeE/BUU/kJ4q1aO0nm/uQhkre+F0LaT8WvizaXDL59xfWl3F/txmCtj4r/AA6/4T+w094p/sGqaZdLd2d5s3eU1elzxVeLeyX6GNm4OxoWfw90XTbDTrK30+KCCxj8mBNn3FryXxno8nwT17T/ABHo7NBoNxdQ299Zxv8AKmf4q7K2v/ixHDsltvDl2/8Az2kdl31j6x8NPGXxNe2svGGr2cGiQzLcNYaOn+tYfwszVpRlySftJpxfzB6rRanJ/s96bpf/AAlvjqXUJV/tp9QbyvtT/N5P3l27q9U8W+A/DuuW0qXsVnHO/wB25+VWRq0PEPwl8P8Aia8W7u9PXz/+e0fyt/30tZafAHwvv3vBdSf7El5JUTr0pz9opNeQRhKKta5R+C3iS41W58Q+H7u8XUn0aZYYrmP+NTXpjwtvqn4S8E6T4LtZ7fSrGK0SZt8vl/edq2HRa4K84zm3BWRtGLiinspKsvTdlYDIuaOafT6AIkp1FFABR5lMooAfTKOaY70ANqN3qSq8z+Y+3+BKgCXmjmmf6xKqzbofnSgCxDN5m6iSs/TbnzHn/wB6tDy6AKsyNHcxS7v9itKFKp3X+perSfw0AWoXqN7zy7xUqCq0zyRur0AbW+nb/LqrDN5myib/AFi1YF5JlkqTzKz3fy/nSpIZvPoA0oalqtC9D3Pl0AWkelqos3mUPeNv2JQBejqTfWb9v8urG+rAtI9TI9V0epEegCwj1Mj1VR6kR6A1J6ej1Cj0+gksc0xKb5lPoAdRTadQA9Hp9Mjp9BA7mijmk30ALU1Q0+OgCXmijmjmgAqVKbHT6ggTZT+aKKACjmjmjmgA5ptFI9AC0yiigA8uiiirAKa706mc0AHNHNHNHNABzUD06o3oAclS0iJQ9Y6mwtI702mv/rKkB1N30lHNAC76jmdpHp/NMd6rUByUvNMSlo1AKdzTaKUSBZP4aHekpHpgN86rCP8AJVKpYassfTKfUNABRT6ZQAUUc0c0AHNJspeaRKAB6jkp9FQBWuYfMSvI7+//AOEA+K8WoXH7vS9ZjWGV/wCFZBXsmyud8VeGLPxNYS2V3F5iP/441ddGooN3WjFKPMjUvLb7VbbP4HWuP8AfBbw34Dv21O3gafUdzOs077vKz/drmdN17xV8K/8AQtTs5fEOgp/qrmD/AF8S101h8b/CN8nz6n9kf+5dI0VbctWCcabvF9ibqVrndXNss6Vyt54G8O/bP7VvdMs99p8/nSQr8mPm3Vl6r8dfBelJvfXIp/8AYtUaVq4m/ufF37QVz/Y+n2N14P8AA27/AE7Urr5bq9X/AJ5x0UaNS95e7EJSVu5k+FdBb44eP9a8YOr/ANg2KtY6Y8n8bf3q9Me2+IE8P2eK50uD+D7TIm5q7zRNB0/w5o9npWmWy2mnWkapFDVzy6K2M55aLRbExhyrzPM9K+CdjPqsWseKLyXxRqMPzxfav9RF/uxV6RNTnpr1yzqSnuzSMeUpzQrJXkf7RvhK+8VfDfUdM0/77bX2f31DbttewP8Au65vVbldV1hdHt2Xz0jWa6f/AJ5R/wDxTVWHm4TU10B+8mmfJPxs8Tt4x+F2i2Xhr7PaadaXEKajbbNsqMNixba988N+A/FEej6fFL4luLCCG3VFhtUWvI/jB4Gs/F3xpsdC8KKv9opYyXGrPB92LHzReZXrWm/HLRfD/hW2t/Ef2q01e0h8mW2jtmZnx8vy19JiLyoQjS1b37o44fG7kfgnxt/aXxO1Xwkmq3V//Z8a+bM+355Pvba7bx58RdD+GWmxXutztBBNJsXYm6vDf2ZrabWPip4x8S3ttLpP2uRri2s7r5ZXWRqy/wBu3xJZyeHtI0JLzy9U+0fa/J/2RXJLBwnio0ultS41JRpt9T1TRPjrdXX2PUNT0FrDw9fbfIvN+5kz91mr2K2dZ0V0fzEdd6vXzTpXi2Hxx8NPDngzw1Yy6lq81jDbz3MafuLLH3mZq+lNKsF0rTbO03eZ9nhWHf8A38LXFjaMKTXLoy6cnLd3JHSipHqOvKOnUKZT6KA1G7KhqTfUdADKV6Ep3l0AN30lPooAKZRRQWUNY0qHVbNre4XzIHXYyVJpts2m2EVv5vmJCuxat0x6vmAbTOafTKggSP7lLzRzRzVgPrJ8SQ3U+j3MVlL5d06/K9am/wAukoA80udB8ceJna3u9at9Jsv+oan7166z4e/DfRfhzZzpplt/pVx8895J808rf7TV0COqU7zq2daUlbZC5UOmRahS2jjenO9G+sRkr/wVE9N30tABTadzTagBlNd6bv8AnpeaAEm/eI6Vk6ToMOlXkrW7SwJM29od/wAlaz06GruwHeStG1al5qvUAPqN0paR6AIKgdKteXUbp89WBVSFY/4adsqeoaAGf6ulp+xaSgDGufD1jPrC6hLbRSXSfdm/iStSpeaOaAIkhX5vlpyIsbr8tP5pUoASlSkooAV3qGn1DQAc0Uc0c0AJspeaOaOaAG1F/HU/NRUAFMp9RvQA16huUae2lRJWgd1ZFeP+CnPSc1AEFs8lrpsXmy+e8MfzTSfx4qGzmWSFXqab95GyVVsE2Q+V/GlAFyqcyeY/z1ZpdlAFG2haO4Z60Eejy6k2UAQzJ56VYSnIlO2UANqredFq7THRZKAGwv5dO3+ZNR5dNSgCeotNf73+9UvNJGipVgWLa5+fZUzuuyqPkrvWjYz/AH2oAcl4sj7Kmd/32+q7wrJRtk2bEerANVuZLVImSLzPm2NWpZzLJDFVPZ5ifPRpq+Rui/uNQBsI9T1SSpkegC0j07zKip3NAE6VJ5lV46l5oDUlSn1XqVHoJLCU/mq9PoAkR6Xmoqd/q6AJvMopnNPjoAmSko5pEoILPNHNRU+gB6Ufx0nNHNQBY5o5qKnPQQG+lqGn0ANekoo5oLCijmjmgAopHpeaAFemU7mm1ZAm+h6bRQAyjmlemUFkvmUzmk2UtZSLHo9ElMpXqAE5pN9R07fVagCUb/npaZRqA5KWik2UagN/ip9JspaUQE3/AD0tMqWnqQV+aWGnOlOhSrLI3em76kmqKgB3NJvpKVEoAWjmikeoAXmjmjmm0AKlLTaTfQA+keGmo60PMtBWpC9mslZd/wCDNH1T/j70y1n/AOukK1sJNTt9aRnKOzAxbDwLoOnfPb6VZxv/ANM4VroF+5UO+jzqUpTlu7kk1HmVD51N85qgrUkd/MpKhooDUV68r1vwl4yvtY1dNE1e10W11Rl8252bp0ULt+WvVN9COsf8Nb06jpN2REo8xyvgD4XaL8OdHey0xWkurj57y/n+ae4b+8zVvf2DY79720Uj/wB+RKub2kp3mUnVnJtt6hy8pxvjD4dWPiZ1m3S2l0n3bm0fayVwupfs/eHdK8Pa5L5Dalq99azQ/b9SfzZeVr2moL+1+1W2z+/WtPFVINJPQORdjyv9kLTV034G6Qm1fP8AOm3V7NJWL4M8K6f4H8PW2j6YrfZYWZ/3n9523VrM6yVnXn7WpKfcmEeVJC81FJTXem76wNdReaTfTd9N8ygAkoqPfTt9AEtFQ0u9aAHUeZUO+jfQA6P79LzUXmUUASb6N9JTJKAHPTfLoooAPLqOZGqxv8tKh30AV03VIlPo5oAZvo30tFADKfTKfQAUUUzzKAH0yjzKKAI9lOSko5oLFdKdHTd9JzQA+mUm+koAXfUdOd6jegB1Nek5o5oAi8yimc0VZAUU2l8xaAF5pHem71qN3+egCTfTkeoOafQBLzUXnLTd9MoAld6ZzTN9P5oAOaOaio8ygCWjmoN/mUb6AJt9QvULvTd9AEm+mu9N30yoLCkem0+gCGq0ieW6ulWaikoAkhmWSrCVT8mrEdAEtFHNPoICn0Uj0AOSlpm+jfVgP5ptFO5oAKOaKOaAClSkp/l0AFSJtqOn1YEtN2bLnelJzT0egC1DU0dVUerCUATJUyVClTJQA/mpUeouafQBLzT46ip1AaljmimJT+aCR9PplPoARKmqNKWgB9SJUdOSggfzT0emc0UATU7moql5qACn0zmn+ZQQFMp9RvQAtHNNooLHc0m/y6SigB3NRU+mUAFPqGn1ZAUUUUAMo5pXplBZLRT6TfWOpY2mvQ9NepASmeZT6id6rUAd6Eeq7vQj0alak9TVBDUzvRqSN3/OtPqJP9ZUtGoCJ9+pHqFHqXmn1IE2U7/VpSc0n8NEiyF6Tmn0zmiICbKWm0/fRIBOabRRSAR6WmVG70FakjvULvUbzVXmvF3UDiTPM1G+qf2nzKo3/iHT9N+S71C1tP8ArpMq1pGMpFG0j07fWPput2Oq/wDHpeQXfy/8s3Vq0EqOWQFzf8lN8yod9P5pEEqUtRb6a70ATb6N9V99N8ygCx5lMpm+m+ZQBLzT/MqKigCXzKKipnnUAWt9HnVTd65vxD8QtF8M6rp+maheeXdXf3U/2fu7mq4xcnZK4HVPNRvqFKdUASb6SmU+gAplPqGgB7vTd9JRzQAjvQm6l5ptADuaKbTuaACijmmPQA7fS81FT6AH76Tmm07mgAo5o5o5oAOabTuaKAGbKa71LzUXl0AMop9MoLCjmjmjmgA5o5pN9Nf/AFdAC0iUtMoAKZRRzQAc1F5lMooAKf5lM5pHoAbv+ejfUVKlADqbvpKbQA7mjmm0VZAU7moqfQA7mm0iPQ+2gA2UtM8yiSgBr1G702mUAP8AMqPzGpaY9QWN8ym72pKKAH+ZR5lMptAEtFMooAKKKKAG0vmNS80mygBeaej0zml2UEEm9qN9RUUAT76Wq2+nI9AFrzKfUCVJQBLzRzTadzVgFPpnNFAEqJ5lGyhKkSgBuypESpeaOasB8dWI6hSpEoAmSpI6ZzT46AJkp1RpUlAEvNPqFKkSgNSWlSkp3NBI+n1DU1ADqKOaRKAJ6KZHRQQSJS802igsljqXmoo6dvWoIH80c0c02gBd9LzRzUUlAB5lHmUyigB9HmUyigB9PplFAB5dFMoqwH0UyjmgAptI9RUAWKOaXZSVjqa6iJQ9JSO9GoakLvUbvUvNVLl1j+ejUNTP1XVbfSrZri4bYiVH4Y1j+3NPlu9vlp5nypXnfjDUJtY1Jokdf3PyRJXdeBtHbR9BVHbzHdt7Vlzal8uh0HmNVnmqyJVmtdSNRI/v1PUSf6yp+aNTIbTuabRSiAu/5Kd/BUe+m7/kqpFjXqGnO9NoiAUUUykVqPd6ZzRzRzQGoze1Qu7U56qzP5aUwK9/eR2kMsssqwQIu9nk+6leB+PP2llt7+LSvBmlNruozSeTFcyf6p2/2f71Xr+a++P3ja50Syna08DaHN/xMZo/+X2b+6tdJpvgnTfCvxd0q9+zRQad9ha0s02fLFJXtUaNGh/HV5WvYwk5T+B2RyNn8HPiR48s1uPGfji60nzv+YVo6bdlXP8AhkXwrs/e3OrXc3/Pae83NXvW/wCelrm+uVfsaL0K9jHrqfOUPwT174c3lrceEtVb5N3yT12XhL4wTR6l/YniiD7JqP3PtMf3a9SmRZK8V+PeseH7Xw9eafLqdhYau6q6+Z80qf8AfNdEK31tqFSN2+q3JlD2S5k7I9s30tfPHwi/aW0G60FdP1u8ljvbf5ItkO5nWvQv+FzaTJ/x76frN38v347Bq5KuEq05NNGkKkZLc9G3rTd9fPvxd+NOrWvhK5l0rw9q1oiSR7ryfbBsXdXTeHvGHxA1jR4HTw9YQO8a/PdXLfPR9TnGmpt2uT7RXsekeIfEmn+GdKn1PU7yK0srdfmmkrj0+NmlyWC3tppGrXdk/wB2aO227v8Aa+avJ/ivpXjrxj4k8GaFrF5psFld6hva2gTd8yf3q9ST4RXF98mp+Ib+7g+55Me2Ja6Pq9CnTTqS1ZPPKTdkd9omsW/iDSoNQtW/cSrv/wBpKu1neHvD+n+FdKi0/T4vIgStCZ/LSvMna75djfUdvpK8eufFvjjQ/El5cXdn9r0jzG8hIIf4f9qvXoblZ4Ypf76q9VUpuna7vcSfMPo5pjvUVYjFd/kavnHxN4b/AOE8+N/iPzf3k+maLClmn9xpG3V9EP8AdavHdKtl034/anv/AHf9p6Orp/tsjV6OCfI5PqkZVFzWPUvA2q/2x4S0q7dv3/kqkv8AvJ8tbtcZ8NP3dnrlptb/AEfVJv8Avl/mrs646itNo0jsgoopUrIYlHNFHNACPSUx3qF38umBNT6800H45aD4gv2t0ivIESZrdbmSH91uFehWdzHdLvilWRP78daTpzh8asKLUtmWtlLzRzRWQw5pj0/mkegBqUO9LUTvQA6n1AlOd6AJN9P5qslSR0AS80c1FT6AHc0c0c0c0AMemolFEdADOaY9PpjpQWRVNTPLqN3+9QA7fSc0zfTXegCWopKdvqPfQAlFFHNADHqN6dRQAzmk30vNHNADaKKKAGUeZTd9R76sgdvpvnfPUbvTKgCfzqb51RUiUASedTXumqOmvQWHnU17mkqJ0agCT7ZVG+8SWOlJ5t7eW9on9+d9tZfi3xJa+DvD19rGoN/otou//fb+Fa8r8JfDOT4lW8viXxgrTz6h89tYfw28NdNOmpJzm7Izb1stz2621KG+hilt5Vngf7rxvuV6m86uR8E+ErPwHpstlbzvHZPJviSd/uf7tdUlYziot2ehpEm30tFFQAm+n81z3jDxnpfgfTYr3U5WjgeaO3Xy/wC89b0L+YivT5XZMCRKSk3+WlHnUgFopEm8yjfQAtFVk1K1kvJbRLmKS6Rd7Q7/AJkqzzTAfUNzMsMMsrt5aIrO3+6KmqvqVmupabc2m7y/tEMkP5rtqY7oDxnUvEni74jX6p4fnbw9pCR+ctz/ABXHzOtN03xh4w+GuvaZaeML6LVtBvpPs6X+za0TH7u6rHgnxb/wrnSovDXiPTLyOexZkW8gh82KWMt8rVH8SL+4+KmlQaJo+lXHkTXCv9vnTasWK92MVKXI4rk7/rc5HtzX1Pbkp9RWaNHZxI7fcVUqWvEOgf5lcvonj+x1zxJqeiIrwajYt9yT+Nf7y10teRfGnw9N4ce28e6JF5eqaTMs0/l/8tY/uturqoRjUk4y3e3qROTiro9gjqxHWXoOq2/iDSrPU7J/MtbuNZov901qR1hsWSJUkdRVLHSAl5p9R7KmSgA2VIlJT6AJEqSOo0qZNtWA/mn0zmigCdKclRpT6A1LHNHNRU5HoJJEqTfUO+loAmoqGigCylJTaXfQBJT6gd6js5vk+eoAuI9SVClPoAf5lO31FRQQS76jd6dTOaADmjmm0VADqKRHqSrAZRS76SgBXqFZmj+R6EuY5PkRqfVgFFQ0ju1AEzvUVM3015lj++1BZoU16keoua5ytQ5pHpKR6A1IXrF165+y2Er/AOr2LWs71yvjOZo9Hudn39tOQ4nK+A9N/tK8lu5W8zZ/6Ea9QRNiVxvw3s1tfDyun8cjV2kP7xKmJT3HIlWnSo0/d1YemZyK6J5ci1I9Cffoeq1MxsdFMp9GoDU3bF3tR/BTqZRqAx6iqamVZYyjmiigrUOaOaKXZQGpDJXmvxy8Zt4L+Huq3dv/AMfTx+TB/vP8tekPXjf7QkK3Vn4ct5V8yB9Yt91dWFSdWN9iJ+7FnXfBfwMvgD4aaVp7r/pUy/a7x/780ldNqWmw3yKlxF5mxt61rbFjSqtzu2VlVqOc3N7sqEVFJHP+JPFWk+DrBr3W9Qt9NtU/jneuFs/2k/BOpagtvFfXWzdsW5ktmWKquvfDdvHnxLl1PxBZ/a9IsYYUs0kf5d33mrk/2hNV0PwroMHhyy+xwavqc0aL/D9nj3fNI1d9GhTm1Ddv8DOU5RTeyPoKGZbqFZUbzEdd6vHXmvxE+Ceh+PJmu7iDyNX27Ir+D/WpXdeD7nS5/DenxaVfRX9rb28cSzRv6LtrYSGuSMpUKl4OzRo7VF7yPmW8+HV94D1jwnqd3tu3sbryZbn+KVT/ABSV9IJZrInyfcevMf2hJvI8HwIu/wA+a+t0ir1azRo7C2R/4I1rrxVWdWlCrPczpxUZNI8p/aB02OT4b6qn/XP/ANCSvStFhh/sfT9n/PvH/wCg1x/xotlk+Huuf9ca6zw2/meG9Kf/AKdYf/Qa55S/2depX2zzf4u7tN1vwnrCfcsdSj3f7r16drGt2Ohw/aNQvIrSH++77a4X4621v/wrfXLi7ZY0tLdrhX/2k+Za87+DPhLUvjZokHjjx2zT72aHTtNj+WBIY/l3NW0YKpQU5uyRndxm0up75pusWOuWy3Gn3MV3B/fjfctcb8ZviR/wrnwZPqESrJevItvAkn3dxrB8KvD4D+J0/h9IvI0vVo/Otf7qSCvOf2n/ABJH4y1Wz8JaJbNqV1pki32o3MH3bRRTw+FTrxT1juKpU5YN9T3zwTqFxrnhLStTvUWO6uLdZmqTxb4km8Oab9ris/texvmTft2LUng/WNP1jwxp9xpkqyWvkqmyP+DC/dovNSs7rUn0xJ1kvdu9oY/m2L/tVxyio1Hpobx2WpH4Y8Yab4usPtGnz+Zsb96kn3krPvPiRotrfyWiXLX90n3obVPNrw34zW19P45tvDngqJrTV3tWvtWmgfb/AKP91Vr2L4S2eiz+DLG40q2WBNuyX+95g+9uaumphoU4Ko9mYxm5NrsVfFXxdXwzo/8AaF3od1GjtsiSR1VpWP8ACq14P8UfEnxCsb/TPHD6Ra6F5LfZLWHf5ssXmfxSV7l4n0q1vvij4VuNTZf7OsY7h4Ek+79oOxVZq6L4heErfxd4bvNMdf8Aj4j+X/erooVKdFx929yZwlO+uxyvwZfxRY+J9a0zxLLZ3c81vHfNNa/x4/d167XjHwT1668QeIJ4pl8ufRrFbG8/25N1ez1x42Nqr0saU/hClSkpUrgNRKY9PptAFaaZbWFpXby0Rd7PWG/ifSb6z32+p2siP/H5y1a8Yalp+j6DeXGqzrBp23ZK8nv8teJ6lqXwrnk+dftb/wAKRwtXbh6PtFezInPl6mTc7fhf4qvtV0W5s9S0S7bfeaV9pXcjH+Ja9Q8E/FTwjrG37PcrYXT/AHoZ/lri9N0HwLff8e/hq6kT+/8AZq2rb4Y+E9VudkXh5oH/AL+zytlenW9jOKjUvdGMeaL0PXobyGf54pVk/wCub7qsb68jf4RW+lPv0zUbzTURfv8AnfLWb8NPG2tax4+/sfTNTbxLpdvu+3X+z91F/utXnfVk4udOV0u5pz2aTR7fRSOjb6bXAajXqu9WHqvNVgeY/Ff4nX3gPVfCtpaeVI+rakto8MiffWvTndo68N+Lmmrqvxm+FNo//QQmuG/Ba9E+LvjNvh78Pda12JVkureH9wkn8cjttWu6dP3aaitWZc2suyOsS8j8zyvNXf8A3N9WIXavmHSvgtrWj+G4PEeu6reT69NtuLxI3b+NvurXoFtqWsfDLWNPiu76XUtEuJPs7PdP/qqp4NW9yV2Eaj6qx7FR5lY/jPxPZ+C/Deoa3qDeXa2MO9v9v+6ted+FdH8aeMbBdY13VZdJ+0Lvg021+XylP3d1csKLcXOTsjRy1tY9Ye5XzNm5aWuE1v4b6fdWbI8t1577f9J85t1Q+D9YuvDmtweGtTvGu/tC77W5n+9x/DVexUouUHdoObleqPQaKf5dM5rkNBN9Ru9Q6k80dnL9n2+f5bbfM/vV4vYfF3xV4ZuZdP8AFHhyW/dPnW8037jrXTRoSq/DujOc1E6r4dfFGbxp4t8X6PLbRQJo19JbwPH/ABqjbW3f7Vd89fO/7PfjnTdNh8bXF7bXkd1ceJr2bZ9m+eLfJ91q940TxPpvibz/ALFK0jw7dySJt2ZrpxdD2VSyVkrGdOfNFanD/wDCeXX/AAvJvCTy/wCivpa3Cw7P4vn+auo8YeKtN8F6LLqeqz+XAn8H8Tt/s1wej6as/wC1Fr166/Pb+HbdF/GR66rxn4Jj8XeIdIe7/eadaLI7Q/323JtpThTjKF9FYIuVmcvbfGm+1KFbu08HapJp38M1d94V8Q2virRINTsm/cS7k2SfeVh95WrP8W6xpvgPw3eaxe/6i0j+VP77fwqtZfwE8Mal4c+G9t/av/IR1C4m1GWH/nl5n3VqZxhKm5xVv1Ki3GVr3O6el5qV0qN64DYjeo9/z1PzUUlAEb1H5lS81Ud/npgSb6Hda8zfSvHE6Mj65Fb72b99HD/DVyw0fxJa/wCt8RtO/wD00hWup0eVfEjPn8juvMrj/iv48m+HPgbUPEEVn9v+yeXuT7vyltu6uks5m+xxfaJYpJ9vzPHXB/H7y5/gt4z3/c/suapoxUqsYtaBLZly3+Kmm3Gt+GtNSJt+vWv2uCbeu1Pl3ba2vGHi238I2C3EsEt3PM2yC2j++7V87+GNP8jx58Ckl3fPpcz19Ia9okeqzae8v/LpcedXVXoQo1I9UzOE5TTOFs/i7fQX+nxa34auNJtb6ZbaK587d8x/vV6hsrwPWPFun+PPG2kRXF4ui6Do959ob7VuVruQfd/4DXvVneW+pWyXFpPFdwP92aB9yVniKaglyqzZVN819R/NNp1HNcBsV6imq09VZqYHifxd3eNPiL4O8Do3+ivJ/al8n+yle0Q2ywIqIvl1478M1/4SP9oHx/qsv7z+zI49Oi/2M/8A7qvaLmaG1TfK3lpXdiPc5KfZJ/NmNP3rvueH/ErQZviB8YLHw1e3NxBpcOitcRJB8u+YyferpPhq/iTwzeN4X11m1K1hj32OsfxOv/POSrnxX8K32qppXiPQv3evaMzPB/01jP3o2qTw98RdP8TeG7zVtv2S60yGSa+sJPvRMi7q2bdSlGMVdfkyUlGTN6/8baPpusW2lXF4v224bYsKfM1bklfNfh74S33i7SoPHdvqTWHiXULhtRimj+6iu3yrXpHw6+J15quqt4Z8UWf9meIYV3xP/wAsrtf7y1jUwyivcd7blQqfzK1znf2orBvEGm+ENFSVo31DWFTf9Fr2qzRoLOBH/gjVK8n+PH7vUvh3ev8Act9ej3fiteuP+7qan8GnEqPxMjm3VH+8k+/XJ+G/idp/irxtr3hy3gbz9GVfNm/heuw3rs31yuDg+Vo0jJSGolOd1jT52WOuX8DeP7Px5balcWkflpY3klp/vYrmfiX8K77xNfy6np+tXVo7r81tv3RcLW1OmvaclR2M5SdrpXPK/AHj+1j/AGnvFkt7qEUFlNDMkXmP8vDJXrXj/wCN+k+EdBubjT54tS1FGVIof4dxr5z/AGbPCsfiP4qa/LqFtFd/ZI9jeZ/eMleyfH7w9p+m+G9Fit7aK0+0axbo2xK9mvRofWI032OSMpqDaPbNHvJrrTbOWVVjmmhV2SP+BjVi81K302Hfd3MUCf35H21VtnjgeNN38Oyvnvx54wj1j4/ad4fu1+36RNMtj/spJtryaGH9tOXZXOmU+RLuz6CttV0vWP8Aj3vLW7f+4jq1aFtbLGn3a8r8W/BO1utPll0TdpOowx74JoP7wrgfhR8fprXRNcl8RtLPq6XUdvFZ/wB+Sto4V1YOdGV7EupytKasfTHnLGnztTkfzK8D1XRPGHj/AEe81PW75tJtUt2misIPl/h/irvPgPrF1qvwr0G4u28x3h+/WVTD+zhz3v0BT5na1j0Sob/TYdVsLmyuIvMtbiNoZU/2Su1qm85flTdUvNcsZW1NTxz4D3Nx4Rv9c+Hmps0k+mTNcWLyfx2717NXjfxItm0P4u+DPEdo3l+czWk/+2pr17ztm2u3FauNT+Yyp6Xh2JkmWnfaVjqNNtO8uuI1LENzHO+xGqbfWH5Pl39bCUAWkepEeqqVIj0AWN9LUSU6OrAt06q9So9AE1SI9Q7/AC6PO8ugNSa5fy03pVVHkk/ipz3K1VTbG/3qA1Llt5m9t71c86s+G5XfUzp5lAalzfS1Q+aOj7TJQGppU3fTYXpKA1Fe6j3qm6iz/dpWa9mu9nqxZv5aVAal57lY6m+0LsrNhfzHZ6Ll2j20BqannUJMtZ/mNJG+ymwpsT/boJNTfUck3l1D5lN3+Y9BBYSamzP/AAo1Qzf6ltjVXRPkil3UAaCU57ny0qPf+5qu7+YkVAEj36xuvy/fqZ5vkrN1VF/cP/GjU538tKsCO3RoEV93z7q0N/yVTVFk2vVrZ8lADoX8yOm3M3l0Q7tuyofl/joAcnyJVe6276tb6q3X36DXU2Hf5Kj8ym7/AJKj31lygTedUPneZczp/cVaWmO/ztSAbNXI+Of+QPPXWPWH4is2n02dE20pFrch8GJ/xIYK6K27Vy/gabzNH2P+7dG2V00NImRNuapt9Q0R0C1JvO+enO9V9/z0+q1JHpRvpOaVKNQHUzmpf4Kio1AR0puyn80c0ARU3ZUtMkoK1DzKZzRRzQGox68l/aEsG/4Q/wDtBPv2N1Dc/k1et1ieKtHh1jSrmylXzEuI2Rq6aFT2dRS7ETXMmi5oOqw6xoljexNvS4hV6tTfvEr57+HvjO6+DOsN4P8AFbS/2RNJv07Uv4a96trmG+hWW3nWeB/uvG+5a0r0XTlfdMISuvMy7y5WC5gt0+/cSbF/D5q521+Evhv+3r7XbvTIr/VLv7011+92L/sq1aXjTwvJrltE9pctaajbtvgmj/gauVfxD8RNGdbd9FsNaT/n5gfa1aUYSa9yVn9wSa+0jlfiL4PtfhfbXnjDw5K2ivafvp0jf5Zf9nbXs3g/W5PE3hLStVmi8h7u3WbZ9a8d8Q/D3xd8WLlZfHGp2fhfwbbtvbSrV/mlx/FM1Ta98V9Q8cXi+CvhJbee6R+TPr0ny2tpGPl+WuydF1oqN7tbvpbzZjzqLbtoaXiF4/iV8YNK0K3Xz9O0Fvtd+/8AD5n92vanSuX+Gnw0sfhl4e+xW8rXd6/z3l/J964krq+a8/E1IytCGyNIJ6ye7OE+K9t5/gbWk/v27V0Xh6z+y6DpkX9y1jT/AMdrP8f2cmpeFdTt4l8x3hZFStrTUb+zbPevlv5K7v8AvmsZS/dpeZp1MfxV4Vs/GOj3OlagvmWNxHslT++tXtK0ez8P6PZ6ZpkC2mnWkKwwQx/wKK0eabWfO7ct9BnJeLvAdj4utvs97E3yfOs0b7WRv9lqj8K/DfQ/A+lS6fo9isCTNvnf7zSt/tNXXSVG9V7SpbkT0Fyo8t1v4LeH7q/n1Ddeabv+eX7LctEtO+FGpeGZ7XV7Lw1bNAljNsnmk+9K1XPFvxU8I6VeLpN7rVv9qeTZ9mj3S7G/2tteL+FfjNpfw58T+OLeWzur+6l1L5Ug2qqYr1KdGtWpO6bZyucISTNzxJ8K/FWsfFfXtQ0SVbSDXrW3tJ9Skf5rSFPvbf8AaavdvDHhiz8HeG9P0TT1b7LaR7F/vP8A7TV5j4e+Jfirxlpq3fh3wvawI8mzzr68/wDQVVVruPD8PjiS5i/tifRo4N3zJaozNtrPEe05VCo0rfeaQ5buS1uamseHrXWLdre7gWeB65t/hcuxrS31XUrTTn+9bRzV6B/q6Erz41JR+Fm2hwdt8KNP0dN+iS3Gi3W3ZvtX+/8A71bmm+G9Sg2fbdevLv8A2PlWukp9Eqkp/E7hyorJCsH3KfT6ZWQwooooAparpUOqw/Z7iJZ4P7klU4fCum2vzxWNvA/9+OFVrZp9XGcoq0WIqw6esabKw/GfiSz8D+HbzW73/UW6/c/idj91Vro65L4l+D28aaPbWW7y/s91Ddr/AHHaNt1aU2pTXPsDvbQ5FPAfij4owrceK9QbSdEm2uuiWPy71/uyNXqXhjw3pvhHSotP0yzisLVPuwx1c025mns1e4gWCf8AuRvuqx5lVUrSn7u0SYxRXmqFEq1/rKjkrmLKcz/PULpVrZ89Hl1YHi+rW39sftOeHE/g0zR7i4/4E7ba6z4zeCZPHngm50qJvLd5I7hf96NvMWpNV8I3Vv4/g8UaeqyTw28lpLC/y71Nddpv2y6TfewRQf7Eb7q7J1Lck09iOTe/U4P/AIWW0cMFvqvh6/8Atv8AcgTcvFYut2fiT4sa3pWnppH9i+Hobpbi6ubr/Wvs+baq17ElnHvX5avQosaVSxKi7wjZg4cys2cX8V/BMfj/AMGX2iO3lpcbX3x/wMjblrnbDxV4s0OGK31Lw9/aSIuz7TYv83FeqPtkqF4VrGNbljyNXW5XLre9jzObxz4gvvksvCF1vf8A57vto8GeANc1LxbF4r8UTxefbwslnYQfdizXpmxY6k875Kr6xypqCtcnl7sr7PnprpUm+kriLIHSqb6bH9/bWjUW+mnYDyf4LaUum+IfibZOi/8AIea7X/dlj3V6tDbLAjbNtcv/AMI9NpXi251vT9u+7hWGe2k+7Lj7rV1CO3kpvXy3rqr1Pay5+9hQjyqxw8Phu4tfi1PrqL5kF3pq2kv+wyNuWumub+1gvPKlnijfy/O/ePt+WtDb8++uL8YfDHSfGOtwahqEEsjww/Z/3bsquu7dU8yqNc72Dl5fhOT+LvirwbrmjrpV1O2rP5yzJbab80u4VvfBZ/Elx4evLjXftEEDzbLG2u/mnSMf3q6rQfBOj6HCqafp9vaf9c0rcRFjTYlaTrR9n7KC0JjF35myu9QyVYqKuI2IHqOpn/d1X30ARvXnvxIfxh9ss4vDjLHY7f37/L5tei1F5K799a058kk7X9SWuZHlOlfC681XyrjVdT1T/ckua6K2+EuhwOrvBLO//TSZq7yOnb1rWWInLyJ9kjk/+EM0u1dfKsYo9lcH+0nttfgP4q2L9+GFPznRa9ieud8ZeFbPxj4bvtEvVb7Ldqu78G3LSo1OWpGc9kDj7rSPEfGGmt4f+JHwPRF/494/sjf9+0r2DxD420XwzrFtp+p30VpPNC1wvmfd2httY/i34Y3Hibxb4A1NLzy00G4aWXzPvS/Ltrttb8K6brF5BLd2dvdzw/IryJu2V1Vq0Kqhd3tf8yYxcb2PLde+Jfh26/c6fpVx4lun+6kFt8v/AH01a3wW8Mapo9trWoarbRaa+p3CvFpsH3beMV6FbaPa2sapFBFH/wBc0qZEWOsZV1yOEFo+5UYO92xOar1O9R1xamhHsqr/AB1ZpNlCvcD5p+G/ja38B+Lfild3sTT3txrUdvBbR/elk+evdNK0243/AGvUpfPvX/79Rf7K1863Ola1p37Rvii00RbeS686PVPs11911K16wmiePPEHyXur2+kx/wByxSvextKMnGakldI46MnFNW2O+1jxDpvh+z83U7yK0T/po9eLpCvj/wCK66ho9jLBoL2M1pqNzIm1bveu2u+0n4RaTYzLcXXm6tdf37p91dxYabDap8kSxpXBCpChfk1bNuVztc8h8PTeJPhXYLoVxpUuu6Jb/JZ3kH+tSP8Austc34/hvPiNf6L/AGPoepWGqWl5DMt5InleVivoi5SOShIY46FiuWXPy6g6elr6HnPxm8N3HiPwHfJaL/ptjJHfWv8AvRtuqbTfi1od94PXXbi8WN4bffPbb/3u4L92vQHRfuVy83wr8N3Vy1xLpFvI7s275KiFSEoqNRbalOLvdHhv7OWq2d14z8aaneyraajqFwrrDO+392fmr1b4hePLfStKubLTJ1u9buI2htYYPm+Y1ta98IvDfiDa1xpkW9V2K8HyslWPD3w60Xw46vZWKxv/AH/vNXTUrUJz9pZ9NDOMJxVjy39nXUrHQ/BjeHL1lsdet7iR7qGf5d+W+9XrmpeIdP0q233FzF8n8Eb7meofEPw30PxH897p8Uj/AN/7rVX0H4aaLofz29iu/wDvyfNXPUnRqS9rqmUlKKS6HhPwZmh+GXjnxj/bdndWMGp3XnWtzIny+XXqHxCsLf4qeBr6LRP9LurGaO4tX/heRPm216VNoNrdJslgWT/rpUlhpUNinlQxLGm77iVpUxCnNVUrMFT0t0PLfD/xR0nUtHtpdV36TqK/JPbSI3yMK8LttY03Svjl/aGoNcf2ImoSX0V/5Lbdz19hTeHrGd9720Un/AKr3PhXTbpNj2lvJ/sbK2oYqnR5rR+IznTlO2uxy9z8YPDMdnvtL77fO6/LDAnzPXkPwZ+DNwnjPV/Eut2PlpcXH2uxT+4xr3628GaTYur2+n28b/8ATNK2obZY6xWJVKDhRVrlezcmnN7GXqWnrfaPeWiffmhaH81rh/2fnWPwBFpT/Je6ZNJbzw/xJhq9M2LvrJh8K6fY+JLnWLeBY727jVJ3j/irljUXs3CXU0lH3kywn/Hyz/3Wq09z8lGzy6jfaiM7ssaJ87PWGozxv4wXPmeMPBNl/rJ3vN//AI8le0PtkSvF/CsLfE74qXnihF/4lGmf6JZ/7bD+KvbETy9ld+IlaMKfVL8zKnq2+4InmJTvmjqRKd8tcBqVY38y5rUSs1E/0lnq8jrVgT1NUCPTkdaALCU6o0paALHNKj1X307zKsCw7/JRC/mR1Ck1NR/IegCx5dN8mpEen80AMhhqaOmc0UASvTY6ZSb6ALCPUbu1N305HoDUj8xnqbZ5iUtO5qAIrZPLqaZPM2U3+KptlADUhWjyVqTzFpaA1GfZhUifu6SigkfTdi/cqWmUEDv4KjkhXfvp0dS80ARSJ5myo7lPu1Z5qC8RpIaAG+T5fzpVhNrpUcO2RFqOF/LmZKCyzzUDoslS0j1YEaU7atMp9ADUo31Hv+SjfWJRJvpsn36XmmO/z0Fh81U7+Fp4WSrtM2eZRqBxfhu5bSten0918tHX5Xeu287y65PxPo8k/wDpFu3lvD89XvDesNrFmzyr5bwtsasohI3kmp9RR1LVkCpTqbvod6cQ1BHqRHqNKkR6Yajt/wAi0lMT7q0UBqFPplFAaj6ZTKXfQGolHNFKlAaiVFND5iVYoqw1OZ8SeC9N8TWDWWp2a3cD/wAElecw/BbVPDNzLN4U8R3Wmp/DbSfNFXtNKldEK84LlT08yJRUjxV4fjBa/Ii6Hfp/fk+WmppXxe1b/W32k6Tv/wCeabq9s2LUiVt9a/ur7ieTzZ4jbfs93niO583xr4lv9ag/58438qKvXPD3hvS/CWmxWWlWMVhap/BAm2tJ6irGpiJ1FZvTy0QRgoivUMlS80zZXIakLpS1NTuaAIqKfTKAK8leR/tA+JNU0rRNM0/T7xtJg1S6W2vNSj+9bwmvYea4L4taJD4g8MS2VwvyXEkKN/sfNXXhZRjVi5K6IqJyi7Hlet/C7R9H1LwZ4a0S2893vFvp7n7zeTGu5mZv9p60vhX4StbH4u+OIru2ikeZo7uJ5EqPwxpWrfB3xnbRXs/9taRq00enWs07/v7f/ZrsPGHhvWtH8TweKPDkC3d8i+TPbSfL5q17U6zt7Pm0a387nHGH2rbFz4o/EWP4Y22ixW9n9rutQuGhVPuqiou5mruoZvPs4Ljb9+NXr5t+Ivgz4nfF6/sbu70iz8PaXpLM8VtHc+bPcMa9E1L4qaxa6P8A2ZpXgfUpNXSPyYkk+WBMLtVmauOphVKEFFpy66msaj5ndaHmdh8TvF3xG+KOueBItQ+wJY3lzuuYPlbyw3y16F4PudY8B+P9M8NXuqy6zZatDI8Dz/NLFIi7q+ffhRfeJvBf7QOtXGp6D9r8Uah53+hwTKq7pPmr6k+GPgDWv7bvPGfjOW3k164j8mzsLX5otPh/ur/tNXbjqVOikrJJxW27ZhRk5etz0LZ8lJU71XevmdT0SKiijmjUA5o5o5ptADqKbRQAu+l5ptKlAB51O31G6UIlAEiPSUzfRvoAfRTN9G+gCTYtOpnNJvoAsb6b51Q76bvqwLCPTfMqPfTd9QBNTXeo99Nd6AHb6bRUb0AO/wBZSUqU6gsZRT46KAG/6ukpXehHoAlqGl30ygBlMoo5oAgeoVT56sSVHs+egBuyo9i1PzUVADUeko5ooAR6jpz0tADuaTfUdFADt9RUUUAHNRVLzSbKNQIdlOqTZQiUageE/HLRLzwj4z0D4i6VF5n2Ffs2op/fhNewaDqtjr+m22oafKs9rMu9XrQv7CHUraW3uIlkgddjJJXkq+APFHw5uZX8GX1vJpDtvbSr75tjf7LV388a9JQk7SX4ox1g290z1x9tMrgrDx/rlqiprHhO6jf+KaxfzVrrNE8Q2viDd5UVxbun3knh21xypyiaRakaWzzKa9T0x0qNShnNKjtRspKkB8l40aVGk0klLT6ADzmoSamvRsoAm+0x+tH2qP8Av1X2UbKXMBM9ysdN85qj2VJ5dHMA7zvk+7TUuqPLqPZRzAOeZd9O85ajdKb5NMBzzL/eryXx14nvvH9/L4S8NN5cD/Jqepfwov8AdWtjxJf33jS8l0TQpWtLJJNl9qv/ALLHXWeFfCVj4csIrSyg8tP/AB52rphal70tWYu89OhY8MaJZ+H9KttPtIljSFdlbVQ+TRvaOsXLmblI2Jk20VDGjSfO9TUgDy6dsp/NMegB/NFMR6WrIJ0f56k31DDUyJQAlLvpuxt9TbKsCRKk+WSodlSR0AOT939ynJc/7NLzSbKAHedR5xpOaKAF+am7PMp2ykoATZUkdHl1JsqAG/N/epyO1JUqJQA3e1T81F5dO2UATeXR5dOSn80BqRb3/vUec392peaOaA1FR6d8slMpNlBJJR5yx/xVH5NGwUASPcrRuajy6PLoArwv5D/N9yo7bdJfyS/wfw1ceGo0tvLoAsPUdHzVG83l0ASVH5y72Td89DzLVHZ/pLS7fLegrUlp1NpU21BsLT1+/UbvRH9+ggs80jpTd9G+gCF08ym21nHBu2L9/wC9T6ej0EDkSpNlNj+/VnmpArbPLoepJv4aZzVagHNPR6ZzRzQA+imUUBqTVE9Sb6a+2gNSPfRvp2xabsoAEejfRsFO+WgBOaKKKA1H0eXRT6A1IvmpKKVHWgNQ30lLsWmUBqK9LzTN9G/56AHb6a9NojoAKKfTPMo1AKw/FWlSarpstvby+RP8rq/+0K36Z8tOM+Vphqef+DPhjfQeIG8R+KNV/t3VEXZZps2wWi/7K/3q754VkqRHpaqdSVV3YoxSInhX5U21DNZr81W6Y33Kz5hnzL4hto9K/a98K3e1tlxZqn7tP4vnjr6g/grzfUvhv/bHxQ0HxX9pWNNJhkTydnzPmvQvMruxVZVY07PVIypwcXLzY13qGSnO/wAlQ764tTUHejfSU7mpLG0UVE9VqQS0zzKZTaCxd9OR6Tmm0APR6HeoafQA9HqN38ulplADt9G+mptooAk30tNp1AC76bv+ejfS80AJvo31HT6AFd6SmSUeZQBIj0tNpHegCTfUe+o3qPfQBa30I9QpTv8AVpQA+meZTOaRKAJKbvpu+h6AF5o5pPMWmvQA2SmUrvQlACc02nc1FQAP+7pvyyU6Smc0AHNHNHNNoAKZT6KAGUzmn0UAN2UlPplAD6KKbvoAdULpUm+k5o1Ai8laETy6l5o5o1AOaikqR6jqOYBlP8uin0yxlFFFQA+mUUUACJT6KKAE2U/mjmjmggZsajZTt9RvN/AlAB5dTbKhR6loiBUs9KhsU8q3iW3gT+COtBEqKn1YEj1BUu+m04gEdFFPpgOopm+pEoAbspeaKVKsgkRKmRKhSpkegCREqSo99LQA+n0U7mgBUpKKVKAHU+mVLzQA2n7KTmn0AHl0eXT6dzQBF5dPp3NHNACbKkplPqAH07moqfQA7mjmjmkSgNReaKKfQSFFPp3NABzRzRRVkCbKXmlSnUARvUdWKhegsjdKhmqWopKCtSKiokejfUGw6pkqFU+epn/1lBBLTJKZRQAUu9Y/kpu+mv8Afo1ILG+hJqh30tSBL53zrT+arD761MlAC0m+lpNlVqA/mm0UUagL5jUvNHNHNABzSb6bvoSgB2+l5ptMoAk30b6gp9AEm+m76bTd9AEiPQlNplAErvS1DRQA93plFPoAZSpTKRKNQH02mO9EdSBJv+SjfUbvUO+gC151G+qu+jfQWWPOo31V86m76AJ6TfUfmUUAOeam+ZR8tMoAfRTKR3oAHeo/MqvczeWm+vO/gb8VG+Lfh68vZYFtLq0uPJlSOtVTlKLn0RPMrpHpXnU1LlZPuMslc7481CTSvB+uXcTNHPDY3Dq8f3kYRvXmv7HmlNa/BmzuJZZZHvppJmeStI03Km6nRE8/vJHudFMorA0H0UyigB9IlLSJQAbKfzSb6b81AD+aOabTPMoAc9LTKZQBNRUW+mo9BZJJTUpu+loAVN1Nenb6TmgBtMjp9J533floAkSh6PtMdJQQHNRTP5EO928unO9Z9/C10iJu+TdQWXEejfVdPuUlBBP/ABU13qnvkkffupu/56NQLnmU3fVV3qFJvLejUDS8yiq6PUP2lpHb5vkT5Fo1At0c1US5/v05LnzKNQJ6ZVOa5k3t81SJNQBYoqGa58tN9V/OaS5X5qXMBeoqN3qOG4Xfsp6gWKhSbzEp2+qNs/l0agX+aqJI32mWpvMqrH/x8vUgTO9N875N9Dp5lV9ipMsW7/b2UAXkf5KbDc+Y7VHN+7haqdtN5c3/AAGo5gNWmeZVX7TRNcx2qNLNKsaJ955KCyen1Cj+ZT6AH0yil30AOplFHNABT6ZzS76AJaKi31X+2LvoILG+qb7o5mqbzKjd6gCZHqTzqzZr+O1Rnlby0rg/E/xy0Hw5M0SS/b3T73kOtb06VSrpBXJclHdnp3nVMj15r4S+Luk+Kr/7Eiy2l7t3rDP/AB/7tdx9s+SpnCVJ2mrMIyUtjS30vNVFm8ypPOWiJRNvo31HRvWOr1Alp6PVXzvk306GbzEoAtI9Pqo9z5dTI9BBbp3NVt9NearAvR1LzWd9vaNKqvrkML/vZVjR22L5j/xGgDeR6l5rOhuY5P4qtI9AFhKSkSloAlSn802igB1SpUXNP8ygCRKEeod9DzLHQBPSpWe9+0e75asQ3PmJUAT0+od9P5oAfRTKXfQBLSpSUiUAPp9R76cj0BqS07mq9T76CQ30vNHNFPmAVKHf5KSmTP8AOtUA1JvMSioYf4qfQArvVV6sPVV3oK1I0Sm7KsbKdsqDYdCnlx01/wB3NTqjmf51oIB6Sk31HvoAn5qLf860U3f++o1Am2VJHUe+lqSBXp1Mf+Cn0AOSn1Xp8dAEjusaM7/cqnp9/HqVstxFu2P/AH6tP+8qKgCxzTHpaZ5lADKfTKVKfMA6mUc0zfTAkSnVFSb6AH0c0zfRvoAfzTN9LRQA7mmb6WmUAPpN9NooAKZU1Rb6NQEo5oo5qSyKSvIfG37TPhPwd4kbQv8ATNW1dJPJaGxh+5J/d+avWrz/AI9mr491j4RTaH+1JoOt3s/2vTtc1RrhYf7jBa78HTp1ZP2nRGNRyilY9+sPidrGpOrxeCdXjT/po6rXVaP4qh1W5+z3Fncabdfww3X8dbyW0cf3FqGbTYbqaJ3X54W3rXLKUJbKxpZ9yR/uV5e/hvxBY/E7+27e+uJNIeNvNs9/y7q9QuXWNGd2rJ8Pa3p/iOwa90yfz7Xcyb6IScLysDSlY0kmWRFf++tO31xPxX+J1n8K9Hs9QvbaWeCa4W2/d/wV5n8Pfjlr3ibXtPvdQsYrTwvqczQwPW1PC1KsHUS0M3UjF8vU+hN9JSeW1Ruyx7ndvLRPvPXIbEvNI9ZNt4q0e+ufs9vqtnPP/cjmVqwbz4l2Nj8S9M8GPBLJe31r9oWb+FPv/L/45VxpSleyJ5o9zqL/AP1NeA/snWa6P4h+KWlf8++sbF/3RJNX0Fcp5kLV4X8B7aSD43/FlP4Eul/Wu7D/AMCrH+tyJ/FE9I+LSN/wrfxR/wBgu5/9EPWH+zHbfZfgP4Q/27eR2/7/AL103xUh8z4deJU/v6Xc/wDot6wf2cnX/hRvhD/YtZP/AEY9VH/c36oj/l6vQ9GemolDvTfMWNNztXnHQO2tRQn7ynbKAG0U7ZTfLoAKKPLp2ygBtHl0+igBlQv/AKun1FNTA8rh+N8cHxmvPA97AsCeWrwXP+0V3fNXqleB2GlQz/tb6glxAs8E3h9X/ef3gyV798sddmIpxhy8i3SM6cnrzDY6k3147+zn4z1bxxpviq71Odp/s+tTW8X+wor16uepTdKXJLdGkHzq4+iq1zeR2sLSyyrBAn3nkfaqU3TdStdVhW4tJ4ruD7m+N9y1mWXeaikqR6NlLUCu6VG6NHV3mmOlGoFNPM3/AD075am2VG8Pz0agNpr1Jspro1GoFF90b1X+0/OzvV6aGvn/AMZ39x408Z65o93rjaLp2nyLbxW2/b5vy/eaunD0HXk1eyRhOfIe7faF2VDu+fe/7tEr5r+GnxRuvCPiq+8KS3Vx4lR1/wBB8v8Ajb/eavSNb8O+IPF1hPca7c/2bpcMLTf2bYv9/C/8tGrpqYJ0p8s3ZGcanMtFqekabrFnrFs1xp95FdwIzIzwPuXcKmh/dpXmv7M1s0fwlsZf+e11cuv/AH8216c9cVWn7Ko4XvY2hLmSkV3/ANZRvasW58c6DY62ulXGq28eovt2w1vbKxlFx3QaGXqtz9ltp7h/uQxtM34Vz/w0+JFv8SvDzataQNBsmaFkrqtVtvP028X+/DIn/jteF/sYbpPAGvI/7zydamSuqFOMqE59VYzlJ8yie8Pukh2U7Z916kdKakyybtjLJsbY1chYJct/GtQ72km3pU3l0IlAA8zRpUKTLsVKbcuuz5687sPjHpeseM4NC0qKXUndtktzH92KrhTnO7SvYbko2uelfNVezvGnuZ/u7EbZXL+P/iFp/gPTfOvWaS6m+SC2g+aV2qv8NPH1j40S8it4JbS6t/8AWwyVXsZ8ntLaBzq9r6neb6qu/wDpi/L/AA1Y2tUfk/Purn5ihsz+YlVbCP7z1ceGo9nl1BZI6fJXmf7QjzR/BbxQ6N5ckMcbr+EiV6V51cD8dYfM+Dniz/r13/kyV14X+NH1MqnwM1vg5qTax8L/AAvceb57/YYUZ/ou2uxrjvg5Z29j8LvCqW6+XA+l203/AAJ40auxqcRb2srbXCGyCkem0VzFD6TfVd3WNGd28tEqnpuvabqUzRWl9bzzJ95I33NV6gatFUNV1W30fTbm9u5fLtbePfK9VfCviS38XaDbaraK0drcbtqSfe4bbRyu3NbQP7ppTTeWlVf4KmmTzK8D/aM8bXnhzXvB2n2k8sHnXkbt5f8A10Ra2oUXWnyIznPkVz3ZJvMenf6x6IY/kV6d5Nc5oeO+Nt3ir4tf8IvezywaXb6X9rW2j+X7Q1dBYfCLwzBCv/Eqt6ufED4aL4u1LTNYtLyXTdb0/ckV5B/HGf4WqjbaJ48gfym1qzkT/nt5PzV60Z80FyTtY57crd1c5f4xaVZ6HZ+H309Vt9UTUIUtfLr2J90nlVyulfDeGPVY9V1W5l1bUE+68/3U/wB1a7ZIa58RUVSMY3vbqaQXK2+46FPLp0z/AHaPJpyQ1x8xoSb/AC0qOGh4Wk+SpoYfLSrAp6lujh3pWD4t+Iui+ALO2fVZ2j875FSP5meuovLbz4WSvGfijo/9j+PNI1jVbOW/8PPZ/Z2dE3fZ5N27c1dOGpxq1LT2MZtxXunpWg+KtN8Y2EGoaVcrd2rt/wACRv7rV0UL/JXy/wDD3xJoPwy+M2oafZarbyeF9ctWuIP7sUw+bbXqni345eH/AA5pUtxaTtqU/wDCkCfLursrYOdOaVNXTJjUVtWepb6hhm8zdvrL8MX99qvh6xuL2BbS6mhV5YY/4KdqWpWejwq93OsCPXDyu/KamlN9z5K8B/ax1WbR/CukXcUrR+TqCzN5ftXtWla9Y6xpX9oWl5FJa7mRpt+3Ywr59/a017TdV0fSLKK+t5/30nm+Q+7YtelgaTliIxkjCtJch9JWbrdbbiL7j/Or/wCya2krwP4P/Gy1vvh1oMSaZqWpajb2sdvP5cPy7o1212ngD4r3njjxJc2SaL9ksrRminm37mRqxq4SpByk1oio1IysepI9SI9QpQ9cJqWqKro9Sb6AJPMo8yqP9q2v29rLz4vtu3f5O/5ttTedQBbqtc/c/wByo3vFjT71c/4k8W2fhzTZ9Q1CfyLKGqjFydoi5ja85br7n3K0LZPLRawfD2pW+uaVZ6nabo4LiNZl8z5WretnWSFamUeUIliOpeaijp9QMXfS81F5lFGoEyPRvqPfUL3Kx/fZY6ALlS81jQ69YyXn2T7ZF9q/547/AJ+a1Ids6K6UuYCWpqZHUvNMiQ2nc0c0c0EhzUDf65an5qB/4Xq4lldPvS1Jvqq7+X86N/FUjv8AP8lBWpJN9yq7v5dRzTNG6o9QzP8APElAGrTuagR6N9QbEtVLl/LuVT/ZqR7mqrv5k1AE1FM5pEoIJKjfbI9SR01v9ctKQDqmSoalpAPo8umu/wB3/eqWggiehHpKKACjmiigB8lMqV9tRUAHNHNI71HQAfNTKfTKrUAoo5o5oAKXfTKTfQA+imJT+aACk30lO5oAOaOaOaKNQH013pKOaksOabTuaOaAGOnyV4P8b9es/Cvj/wAE6ndrLOlvNI+yBNzV71sryfXtKXXPjl4ailXzEsbWa4rvwVozbeyRjW96Nkb2lfGTQdRtvNf7VaP/AM8ZLZmb/wAdp03xRt5/k0/RdX1L/rnbeUv/AI9XbJYQx/P5S0fZhWPNR6RHaXc8b+J3iTxxP4A1zUIrOz8NWsNnNN+8/f3T/L91f4Vrsvgt4bXwr8K/Dlj/AMt3tVuJ3/vs/wA1aHxI8PN4j8E6vpkS/PcWskK1oeD93/CJaQjwS27w2scLJJ97ci7a0nUUqCjFW1FGHv3PF/2xkhk+EV9FL/HNCkT/ANxi1O0HwZ9q/Zy8PRW6/wClW9jHcRf7yfNXrHjPwHpfj+wXTNYtvtdl5izND9K2ksLexsIrS0gWC1hjVIkj+6iitoYpQoRpJap3JlT5pOXRmL4G8Qx+KvCtje7vn8tUnT+5IK898VW158V/H994PS8lsPDWjQxzai8Hyy3cz/djrqrnwNqGk3l5d+HNQ+wPdtvlhkTdFurh08K/EDwjrer6rp95Z3c+rNG915abfufd21VGMOZzi0n0v0ZM72SaOg1v4P8AhvTdElTT4F0V0X5byN/mT/aZmrxPwNqmpeLv2ovDSOzTvY6X+/mk/jVPO+avWrnSvF3iC2VLixXzv4rm+m3Kn/AVrP8ABPw3k+GXxO/4SW9uZdS/tOza0uryT+CTduX/AIDXbTqRpUpqcryasZuHM04qyPbpk+SvEfgJC0nxU+MV3/B/akMP5b69w3rPDvidXSvH/wBniHz9V+J+ppu8i78TXEK/7fl15VH+FU/rqdEt0eneIbP7dpV1b/8APaNk/Na8t/ZXuZJPhRFZS/6+xvJrdq9gvIfPhZK8LsLbxN8K/E/ip9E0NtatdZk+0QJG+1YpjWlH36M6V9Qn7slIuftP/EW88D+DLGy0q++ya3rN4tuv95If4mWtT42JJpvwZ1O0i1P/AEqGzjRbnf8ANKybKw/AHwN1TUr+88R/EW8XXdbu1ZFtvvRWimt7WPgb4bvtz3FtLP8Ae2pPMzKldEfq8OSF7tfiZ++7u2503wl1WTXPhp4a1CZt89xYw+b/AL22utryb9mbVVm8AXWj/wDLfRr6a3ZP9ktuWvXPLrhxMOSrJG1N80UxnNFUNe1uz8M6PeanqEvl2tpG00r/AOyKp+DPFtn488PW2t6fu+y3G7b5n3uKx5Xa9tCuZX5Ta2UtPoqCiNEpeafRQBXm/dpXjNt8OvF2h63qup6Z4xl/4mNw1xLDdW3m/wC6te2bKhe2WtadRw2JaUj5dsNN8YWv7Q+yXWrefVJtHb/SY4flSPclerX/AIM8Ra5bNb6r4ovPsrr8yWKeRvqromlfbv2jdc1D+Cx0WO3/AOBSNXq022NG2L89eliMS+aNktkc8ae58f8AgzxtefDLw94j8OeDLb7Xevq1xMryfN5UMcfzNX054J17/hLvB+kax8u+7t1dvL/vfdauT+F3wch8F2euXF2y3+o6nMzyvs+5Gf4awdEvPFXwrhudBsvDza7pfnM9hNG+3ylP8LVripUsU37P4l+JNPnpb7FX4rXP/CY+P4PBlxqDWGg2Nj/amo+X8vm4+6rVqfstI0ngC+uE3fYptSm+x+Z/zzFeS+KvAfjzxH42bxR4g0/yNL1PbaXlhpT/AL1LcKlfSXhLxP4VsdHs9M0yeLTYLePYttInlbarEqMMNGnDW/4E07yqub0Os8umU+GaG6RZYpVkT+/HT68HU9Eho5p9MqQG0U6jmgCKmVNRQBA6VyOseA9F1i/a7vdMt7if+/InzV2VYfirW4fCuiXmpXEUs8Fuu9kgTcz1dOUov3HqQ7W948L+KPh6z0343/CKLT4FtJ5r6Tf5f/PNNjV7R4whaDwlrjp9/wCxzbf++a858B+HtU8efFH/AIWBrdnLpsFjbtaaZZyfeTP3mr2LVbNbqwubd/uTRsjfjXpYirZ04t3cd/vuY046Sfc4P4J2C6b8JfC6f37NZv8Avv5q5X4neLdU1jW28JeH7xdN8lVfU9V/591P8K10WlWHizw/4bttC0+Kzj+zxrFFfyfwRj/Zrx3Uvg/4m0rx5fanewS+LLK+ZbidN/lfNW9CnTnVlUnJdzOblGKjFFHWPCWl654k0XQvB8FxqWopeRzXmq790SKPvbmr6s+VE/2EWvK9E8Q6ppVvBb6V4FltP+unyrWP8VNe8fT+BtXlSxt9NtUj3y+X80u2nWhLESjC6SXpcmNqSbtc1PFXxmhk0rU30SJZ4LfdC1/P8sTt/s/3q4P9h+8+1eBvFCfxprTO34rVH/hBtJ1jRG0zTNQuPEuqPHsg8v5YLfNbHw38K3X7OfjO8ia2ur7w1q1rHumtU3eVcpXZUoUaeHlTpv3n+JMJS5lKex75rczWOlahdp/y728k35LXiv7Itzda54J1rW72dp31DVJP9Z/dRa2vEOseJvip9s0rSrFtF8NTLslv7pNssq/xba5n4S383wFTWvCWt2N5JpaXjXGnXkEO5WV/4a86FFRoSh9p29bGra5k+h0nxs+Kl18NdY8IJFKqWt9ebLzzP+edesJtnjV0+4671evEfE/hK4+O/i3TJdQ0qWw8NaYrOvn/ACyysa6Dw3Z+KvhkkulRWzeJdIT/AI9XkfbLF/s1FShT9nFJ2khxk7t20MP9pDxbqGj2Gi+H9HZk1HXJmt66D4UfDGz+GPhtUT9/qLx77y5/vtWD4n+C2sfEK8XWtY1VrDV4WV7H7L920UV0Fn4e+IUdn9kfXLN/l2ed5PzVs+SNGNKE0u5KvzubRyfwr0ez8TW194w1u88++e8mTfO67bdQ1aXwl8vXPiv4v1jT1/4knkx2kT7NqyyfJuZaz9L/AGZpI0vPtuvXX+kSecyQfKu412nhj4Rf8Iy7Jaavfxwf3N9XUqUOWcVO99PImClpdbHoXl0eXVGz0TyH3vc3E/8A10etPmvAkd5A6VD5dXNlN2VIFHZXA/HiaGD4P+KkllWPfa/L/wB9JR8VPA2veJ9Y0qXStcl02ySNknSOvAfjl4P8QeA9Ha91O8l1rTnVYWuZ3+4xavYwOGhOpB89mclabjF6G1efGDULX4LeGrTw5BdRpb2NlbXV/wDd+bai7Vr6i01JJNNtndvn8ld1eM6D4Gt/HH7M2i6fZMvnzaPbvE8f/PZI63Ph18bNFuvDFtb63K2k63YqtvdWc6fNuHy7lrTFQjUi/Zx1T17hCXK9XuU/ij421bw/8UfAuj2U7R2t9M3np/z1rtPipqU2j/DfxHd27NHPDYzOrx15j42s9U+Jvjbw54g8NWLQf2DIzrNfJtW4z/DXfaroniDxxo8+maqtvptlcLslSD5mes3Tpr2V7K24Jv3vM8117xDqnjHQfAvhLT7yX7Vq1nHcX15/EkYWjxn4Dh+HPirwBd6E0sd7NqS28/z/AOtjqb9nLwfrGm+J9e/t2CXfpKrplq8ifK8Y+bcteieKNHXVfi14aS4X/RbSxmuIP+u26umpOFGq6cH7qX3kRi5Ru9zL/aN1JtH+F186fcmmjhb/ANCroPCWh6l4V8B/Yolin1G3WZ4kk+67Fty1a+KPgz/hPPAGr6Im3z7iFvIf+5IPu1zvw6+LWn6loMVp4gnXSfENiqw31tdfL8w+XctcCvPDpQV7M15VGd2Zf/CVfEqP7/hfTf8Av9XgPxRufF3jj42aDZXelW9pqlp5My20b7l2o27dX1BqvxFtZ4fs/hyBtd1F/kXy0/dJ/tM1eS3HhXUvAfxp8J+Lddn+0JqzSWN1c/w28j/dWu/CSUG3ypO3zZjOPNbW6NrxV488daHc+HtPuPsFpdazcLbxeQm5k+ZK9o1LUIdH0q51C7b9xbwtNK/+yK8x+Mdsum/Ej4YahcbY7JNQkt2f+4x2Mtd58SIf+Le+IU/6h83/AKDXHWpxqKnaNr7/AHmkbxctdji9B/aK8G6x8n2m4tPm2f6VDWtqXxd0HSo1lliv5LXcqNc/ZtqpmvD/AIOaP4b8VfArVU1DU7OC9lvLm43yOqy28n3Vr1TwlpU3xY+AjWUreZezWrW6XP8Afkj+61dFTC0qT8k7GcKk5F744eMLjwzoNtp+mf8AIU1Ob7PB5f8AdrP/AGe/EmqXWm654c11mk1fQ7zY3mffeN/mWsv4UfaPihrdjrGqwfv9BsY7Fkk/5+/uy1vaxbf8Id+0D4e1BIvLsfE1jJp07/w+dH80VROnBReHtqtSlJyan0PWESnbKfT68U6iPZUiJRTkqwDZUc1tHOjI6+ZHU9efeG/jHofibUryK0nt4LW3+9NPMqs9a06cppuKvYmTUbczPNfj98PdPtfGHw51i3s7eNH1iPTrxI0+/HIyLWp8XfDFrHc+DNCsoIoEu9SV2+T+FKteJ9Q/4Wx8QvC9ppSyz6Jod19uurnZ8ryBty11XxX8PahP/wAI54g0y2a/utDuvOa2j+9LGa9uNacfZwm9Umcjipc1l2O6s7by4VSvNbOax8Y+IdV1vUNv9l6S0lpF5nt95mrUtvi018ipZeGtUkn/ALk6eVsavH4dN1jwz4quYvFsF1YeFNQumu1+yfMqMW+7JUYXDuPM5aP8RVJbW1R6N8GfDFvrngnXE1C1/wCJdrOpTXcVt93ZH8irXA/G/wAGaH4O17wglvp9vaWrySPK9e3WHj/wza2cX2S8WdNuyKG1hZq8z+OVnrHjTStI1v8AsV49L0O+juJYZPmnlh3JurfCzmsRzvRBOK5LLVo7b4J+El8M/DHSLfyFguvsvnMn+0fmqH9nvTYY/Dd9Kn35tQuHauq8JeKrfxHeQf2PtuNISFt1zs2/N/Cq1yNgmsfB3xVrCJpVxq3hTUJmu4ntfmltJD95dtc7lKqqkHo2aaRt2R61ct9ltpZf7kbPXkf7PfjDUvGP/CUPqF412kN8vleZ/BlfmVa6abxbrXiawaLStDaBLhWT7Tdv8qV538H/ABJpfwkTVfDXihv7N1SG8kuN+z5bhX+6y0qdF+wmrXl+ISfvLXQ5v4tW3iL4Q+PNBfw5r159l1y68lbOR92xt1fUFt+8hV68B8eTah8TfFXh/XdC0qW707Qbj7Rsk+X7Rn+7XpFh8RdQvoVisvC9/HP/ANPXyqjVeIhKdKGmq3Jp2i32PN9e1VfCv7SF5e3s/l2UOkyXDP8A7PyVDN4n+JHi3RL7xXo94um6XFuuLWwkTd5sYrj/ANo3wlrVrqWla7dz+ZPrO7Tp/L+7Fn7q19LTWEPhXwNcpFF+5sbFoVT/AGUXbXbUdKnClKKTb0MUnJyV7W1MHwT4tt/Gng/T/EsrLaQTQ750/hiYferym2v7X42fFr7JcT+XoOmR+dbWcny/bf8AarnV8Q33/CsYLT7HLYeF4bhUnm+79oZ2+6v+zXTQ23hHxNpulXH/AAl9npur6ev+hzWL7fKpxwqouUu+1ugcznY+iLCwWCFYkXy02/crShRUSvC9E+PzaPfwaZrrW+tf3dS0r5t/+8te5PNHBC0rt+7Rd++vAr0J0WufqdkJp7E1ElU9H1W11zT4r6yl8yB93z/SrlchZxfxd16+8M+ANV1DT28u6h27Xra8N6q114Ysb29/cP8AZVmn3/wfLuauf+M00MHgadLj7k11bp+bV0WpeTa+EtQd1/cQ6fM7f7ojrLqyzL+G/jy18f6beXFu3z283kslU/GeieJNSuZYtMnt7SCbb/pMn8C/xLtrjf2YNB+w+G77UHX55rqRFf8AvxjZXqXj+w1bVfBer2mhSrBq80OyB5Kn4olfCz4r+M3iG10P4ivb6fO12jqvmvav/wAtg33o6+4vBKTR+G9MS4aWSdLWPc8/3nbb/FXzLZ/sc/2xo+/Vdalg1d4/uRorIkldt+yd4z1iew1fwZ4jlefVNGbfBNI+5nh3bWVv91656d4y16lT20PoPmjmik3rv2V36nLIWin0yjUkR6hdfMWp+abTiBUS2WNaHhWSrElM5qjSJmTQ1HsbfVq67VFQMXdRuooqDYjpo+WSiigCbdS7RRRQQPjqOZf3y0UUpASVMn3KKKQCM22kRqKKADdRuoooIH7aNtFFACPTMmiigBlR7zRRQA/bTdoooqgE3UbqKKAGvS0UUAFFFFABk0ZNFFABRk0UUpdBx3DJoyaKKZQqUbqKKkBHauKtrdZPi4k7csNOYCiiumj9r0In0O43U6iiuYsY60+OiioAKTbRRQA3aKTyV30UVYDvLHpUMkKTfeWiigBZl2W+BwKxvCnhvTvDVneJpsBgF1dPdy5bdulf7zUUVd3Yg3N1Rx26rJuoopFis22qOoSeVCpI3bzt44P50UVpBLcnoeL/ALP7G0+LHxVsV5ha9jl/Gved1FFdWO/jX8l+RlR+E8q/aEha+8K6ToocxQaxq1raTMOSEY5IFekaDoNj4c0uDTNMgW0sbWLbHEnSiiom37GK8x/bLr0baKK5Cw3UlFFADKKKKYHLeENES38ReIdTMjSXF5cJGcj7qJ91RXV7aKK0k25aljai+xR0UVmAj28f92qcmkWdzJultonP+5RRTuwL0cSRRqqrxRtoorMsbto20UUAG2mbaKKAEem7qKKADdUM0K3Ee1ulFFACwxi3T5aU/MnNFFAEX2dKbJapvooqgF+ypUM1jFJG6uu8N60UU7gVdM0Szss/ZraKDzPvbEq5PaxtIuRRRRKTEEFmi9KjksImflaKKLsCxBbqvSke3Wiipuxi+QnpTvs8X92iikAvlCk20UUAQbRSbaKKgA203bRRQBE8YrzD9pC3im+DPihJEVl8uH/0elFFdWF/3iHqjKp8DOO/ZwupNA1QeEo28zTZdIt9STPBjkaNM49q9quPC+l3l+JpbKCSeP7skkYZqKK7swbjWuupnT+A0o7dV6VL5Kr0oorxzoEW3WGTcvWlkhVmVjRRQMXbWBrHhDRdYuvNv9Mtrub/AJ6OnzUUVVOTWxBf0/Q7LR4PKsraK1j/ALsSbap+NvBemeMvD0mi6nD5trcAHK8MjD+IUUUQqS573K5Uee6l8H11zQY9E1PxDqV9p1oRLCkj/OpT7vzVqwfBm0vJIBrGtaprVrD922upvkoor1PbVOTc5eWPYf8A8KN8EnV5rlNCggmkfc/kkojf8BBr0HS9OtdJsUhtYFggj+5HH8oWiiuKpVnP4mbQilsSWel21nPK0UMcZnPmS+Wu3c1UfF3g2w8WWFvb3ytvguIru3mj+VoZV6MtFFZQk+a5Rpld1LtoorMA20tFFWBLtrgr/wCDPgzUNW+2voVvFcb926H5aKKunUnD4XYmcU9zsdP0O00q3S2tYY4IF6LGu2tbyV2UUVU2UV/sqUTWMU0e2Rd4ooo5mBDZ6RZ2LNHFbRRrv3fu021dSBaKKrmYBZ2sVo3lwoqL9KtSW6tRRUkDI7dV71BqWh2GpeX9stILvb/z3jDUUVVNsCzZ2cFusaQxLFGv8K1L5C0UUrsDO8QeGdK8TWa2mp2Md3ArfaEV/wCGROjVrW8KrHtooo5nyoClNoVhqNrJBNaQSWs33oJIwy1hyfCfwju3/wDCO6b5n977MtFFNVZx2ZPKjU0/wXo2ltvstOtbOT+9BAq1wPx28WXnh3Q4dKssRvqEnkPcf3V9Av8A9eiiumhJ1KqctQ+yd54L0mHQPDtjp9v/AKuGLbuPVq3d1FFclR++yjzD9oRv+Ldux5K3lv8A+hV2WpIJvAOoZ+7LpM2R6Zgoorl6svocp+z7GsXw3sUTICzzLyc8l859q9GuJ9txFGASz/xMc4/DFFFEdiupwvxO+JUvgLSpLi3sUupx0MshC/kBXk/7MtufEPxK8V+Kbp832wRbQOP3sm5z9c0UVy8zdQ0Wi0Pqb+Cm7qKK9CJwhuo3UUUwDdSUUUFjKheiirKKt12qvRRQB//Z)\n",
        "\n",
        "\n",
        "\n"
      ]
    },
    {
      "cell_type": "markdown",
      "metadata": {
        "id": "V0HQkCe1IIaa"
      },
      "source": [
        "# Practical Questions"
      ]
    },
    {
      "cell_type": "code",
      "execution_count": null,
      "metadata": {
        "colab": {
          "base_uri": "https://localhost:8080/"
        },
        "id": "FWVxtNQEIFcG",
        "outputId": "b970be94-95e3-478d-edcc-8fb71fdc124e"
      },
      "outputs": [
        {
          "name": "stdout",
          "output_type": "stream",
          "text": [
            "enter the elements 4 5\n",
            "4\n"
          ]
        }
      ],
      "source": [
        "#1.Write a Python function that takes a list of numbers as input and returns the sum of all even numbers in the list.\n",
        "\n",
        "def sums(l):\n",
        "\n",
        " sum=0\n",
        " for i in l:\n",
        "  if i%2==0:\n",
        "    sum=sum+i\n",
        "\n",
        " return sum\n",
        "l=list(map(int,input(\"enter the elements of list as space seperated \").split()))\n",
        "print(sums(l))"
      ]
    },
    {
      "cell_type": "code",
      "execution_count": null,
      "metadata": {
        "colab": {
          "base_uri": "https://localhost:8080/"
        },
        "id": "xo9HpmPEGM-W",
        "outputId": "20488670-a598-4f42-9ebc-62240e77b45a"
      },
      "outputs": [
        {
          "name": "stdout",
          "output_type": "stream",
          "text": [
            "enter stringhello\n",
            "olleh\n"
          ]
        }
      ],
      "source": [
        " #2. Create a Python function that accepts a string and returns the reverse of that string.\n",
        "def string(strs):\n",
        "  reverse=\"\"\n",
        "  n=len(strs)\n",
        "  for i in range(0,n):\n",
        "    reverse+=strs[n-i-1]\n",
        "  return reverse\n",
        "strs=input(\"enter string:\")\n",
        "result=string(strs)\n",
        "print(result)"
      ]
    },
    {
      "cell_type": "code",
      "execution_count": null,
      "metadata": {
        "colab": {
          "base_uri": "https://localhost:8080/"
        },
        "id": "GdFVyPQDxE_N",
        "outputId": "b0285a34-a396-4b07-fce0-5845d546d201"
      },
      "outputs": [
        {
          "name": "stdout",
          "output_type": "stream",
          "text": [
            "enter the elements of list as space seperated 5 6 7\n",
            "[25, 36, 49]\n"
          ]
        }
      ],
      "source": [
        "#3.Implement a Python function that takes a list of integers and returns a new list containing the squares of each number\n",
        "def squares(lst):\n",
        "  h=[]\n",
        "  for i in lst:\n",
        "    h.append(i**2)\n",
        "  return h\n",
        "lst=list(map(int,input(\"enter the elements of list as space seperated \").split()))\n",
        "print(squares(lst))\n",
        "\n",
        "\n"
      ]
    },
    {
      "cell_type": "code",
      "execution_count": null,
      "metadata": {
        "colab": {
          "base_uri": "https://localhost:8080/"
        },
        "id": "IrnCEJes1puq",
        "outputId": "6ab37f97-cba0-4dec-9cf7-0fbf1656c7bb"
      },
      "outputs": [
        {
          "name": "stdout",
          "output_type": "stream",
          "text": [
            "1 is Neither prime nor composite\n",
            "2 is Prime\n",
            "3 is Prime\n",
            "4 is Not prime\n",
            "5 is Prime\n",
            "6 is Not prime\n",
            "7 is Prime\n",
            "8 is Not prime\n",
            "9 is Not prime\n",
            "10 is Not prime\n",
            "11 is Prime\n",
            "12 is Not prime\n",
            "13 is Prime\n",
            "14 is Not prime\n",
            "15 is Not prime\n",
            "16 is Not prime\n",
            "17 is Prime\n",
            "18 is Not prime\n",
            "19 is Prime\n",
            "20 is Not prime\n",
            "21 is Not prime\n",
            "22 is Not prime\n",
            "23 is Prime\n",
            "24 is Not prime\n",
            "25 is Not prime\n",
            "26 is Not prime\n",
            "27 is Not prime\n",
            "28 is Not prime\n",
            "29 is Prime\n",
            "30 is Not prime\n",
            "31 is Prime\n",
            "32 is Not prime\n",
            "33 is Not prime\n",
            "34 is Not prime\n",
            "35 is Not prime\n",
            "36 is Not prime\n",
            "37 is Prime\n",
            "38 is Not prime\n",
            "39 is Not prime\n",
            "40 is Not prime\n",
            "41 is Prime\n",
            "42 is Not prime\n",
            "43 is Prime\n",
            "44 is Not prime\n",
            "45 is Not prime\n",
            "46 is Not prime\n",
            "47 is Prime\n",
            "48 is Not prime\n",
            "49 is Not prime\n",
            "50 is Not prime\n",
            "51 is Not prime\n",
            "52 is Not prime\n",
            "53 is Prime\n",
            "54 is Not prime\n",
            "55 is Not prime\n",
            "56 is Not prime\n",
            "57 is Not prime\n",
            "58 is Not prime\n",
            "59 is Prime\n",
            "60 is Not prime\n",
            "61 is Prime\n",
            "62 is Not prime\n",
            "63 is Not prime\n",
            "64 is Not prime\n",
            "65 is Not prime\n",
            "66 is Not prime\n",
            "67 is Prime\n",
            "68 is Not prime\n",
            "69 is Not prime\n",
            "70 is Not prime\n",
            "71 is Prime\n",
            "72 is Not prime\n",
            "73 is Prime\n",
            "74 is Not prime\n",
            "75 is Not prime\n",
            "76 is Not prime\n",
            "77 is Not prime\n",
            "78 is Not prime\n",
            "79 is Prime\n",
            "80 is Not prime\n",
            "81 is Not prime\n",
            "82 is Not prime\n",
            "83 is Prime\n",
            "84 is Not prime\n",
            "85 is Not prime\n",
            "86 is Not prime\n",
            "87 is Not prime\n",
            "88 is Not prime\n",
            "89 is Prime\n",
            "90 is Not prime\n",
            "91 is Not prime\n",
            "92 is Not prime\n",
            "93 is Not prime\n",
            "94 is Not prime\n",
            "95 is Not prime\n",
            "96 is Not prime\n",
            "97 is Prime\n",
            "98 is Not prime\n",
            "99 is Not prime\n",
            "100 is Not prime\n",
            "101 is Prime\n",
            "102 is Not prime\n",
            "103 is Prime\n",
            "104 is Not prime\n",
            "105 is Not prime\n",
            "106 is Not prime\n",
            "107 is Prime\n",
            "108 is Not prime\n",
            "109 is Prime\n",
            "110 is Not prime\n",
            "111 is Not prime\n",
            "112 is Not prime\n",
            "113 is Prime\n",
            "114 is Not prime\n",
            "115 is Not prime\n",
            "116 is Not prime\n",
            "117 is Not prime\n",
            "118 is Not prime\n",
            "119 is Not prime\n",
            "120 is Not prime\n",
            "121 is Not prime\n",
            "122 is Not prime\n",
            "123 is Not prime\n",
            "124 is Not prime\n",
            "125 is Not prime\n",
            "126 is Not prime\n",
            "127 is Prime\n",
            "128 is Not prime\n",
            "129 is Not prime\n",
            "130 is Not prime\n",
            "131 is Prime\n",
            "132 is Not prime\n",
            "133 is Not prime\n",
            "134 is Not prime\n",
            "135 is Not prime\n",
            "136 is Not prime\n",
            "137 is Prime\n",
            "138 is Not prime\n",
            "139 is Prime\n",
            "140 is Not prime\n",
            "141 is Not prime\n",
            "142 is Not prime\n",
            "143 is Not prime\n",
            "144 is Not prime\n",
            "145 is Not prime\n",
            "146 is Not prime\n",
            "147 is Not prime\n",
            "148 is Not prime\n",
            "149 is Prime\n",
            "150 is Not prime\n",
            "151 is Prime\n",
            "152 is Not prime\n",
            "153 is Not prime\n",
            "154 is Not prime\n",
            "155 is Not prime\n",
            "156 is Not prime\n",
            "157 is Prime\n",
            "158 is Not prime\n",
            "159 is Not prime\n",
            "160 is Not prime\n",
            "161 is Not prime\n",
            "162 is Not prime\n",
            "163 is Prime\n",
            "164 is Not prime\n",
            "165 is Not prime\n",
            "166 is Not prime\n",
            "167 is Prime\n",
            "168 is Not prime\n",
            "169 is Not prime\n",
            "170 is Not prime\n",
            "171 is Not prime\n",
            "172 is Not prime\n",
            "173 is Prime\n",
            "174 is Not prime\n",
            "175 is Not prime\n",
            "176 is Not prime\n",
            "177 is Not prime\n",
            "178 is Not prime\n",
            "179 is Prime\n",
            "180 is Not prime\n",
            "181 is Prime\n",
            "182 is Not prime\n",
            "183 is Not prime\n",
            "184 is Not prime\n",
            "185 is Not prime\n",
            "186 is Not prime\n",
            "187 is Not prime\n",
            "188 is Not prime\n",
            "189 is Not prime\n",
            "190 is Not prime\n",
            "191 is Prime\n",
            "192 is Not prime\n",
            "193 is Prime\n",
            "194 is Not prime\n",
            "195 is Not prime\n",
            "196 is Not prime\n",
            "197 is Prime\n",
            "198 is Not prime\n",
            "199 is Prime\n",
            "200 is Not prime\n"
          ]
        }
      ],
      "source": [
        "#4. Write a Python function that checks if a given number is prime or not from 1 to 200\n",
        "def is_prime(num):\n",
        "    if num <= 1:\n",
        "        return \"Neither prime nor composite\"\n",
        "    for i in range(2, int(num**0.5) + 1):\n",
        "        if num % i == 0:\n",
        "            return \"Not prime\"\n",
        "    return \"Prime\"\n",
        "\n",
        "for i in range(1, 201):\n",
        "    result = is_prime(i)\n",
        "    print(f\"{i} is {result}\")"
      ]
    },
    {
      "cell_type": "code",
      "execution_count": null,
      "metadata": {
        "colab": {
          "base_uri": "https://localhost:8080/"
        },
        "id": "m2JDz3KG47EV",
        "outputId": "9fd03bf6-7755-4590-b01f-0cba09c18ee0"
      },
      "outputs": [
        {
          "name": "stdout",
          "output_type": "stream",
          "text": [
            "[0, 1, 1, 2, 3, 5, 8, 13, 21, 34]\n"
          ]
        }
      ],
      "source": [
        "#5.Create an iterator class in Python that generates the Fibonacci sequence up to a specified number of terms\n",
        "class FibonacciIterator:\n",
        "    def __init__(self, n):\n",
        "        self.n = n\n",
        "        self.a, self.b = 0, 1\n",
        "        self.count = 0\n",
        "\n",
        "    def __iter__(self):\n",
        "        return self\n",
        "\n",
        "    def __next__(self):\n",
        "        if self.count >= self.n:\n",
        "            raise StopIteration\n",
        "        result = self.a\n",
        "        self.a, self.b = self.b, self.a + self.b\n",
        "        self.count += 1\n",
        "        return result\n",
        "\n",
        "\n",
        "\n",
        "fib_list = list(FibonacciIterator(10))\n",
        "print(fib_list)\n"
      ]
    },
    {
      "cell_type": "code",
      "execution_count": null,
      "metadata": {
        "colab": {
          "base_uri": "https://localhost:8080/"
        },
        "id": "jZDY48yB6yS5",
        "outputId": "efc0e314-4903-4060-9216-ecc21adea556"
      },
      "outputs": [
        {
          "name": "stdout",
          "output_type": "stream",
          "text": [
            "1\n",
            "2\n",
            "4\n",
            "8\n",
            "16\n",
            "32\n"
          ]
        }
      ],
      "source": [
        "#6. Write a generator function in Python that yields the powers of 2 up to a given exponent.\n",
        "def powers_of_two(exponent):\n",
        "\n",
        "    for i in range(exponent + 1):\n",
        "        yield 2**i\n",
        "\n",
        "\n",
        "for power in powers_of_two(5):\n",
        "    print(power)\n",
        "\n"
      ]
    },
    {
      "cell_type": "code",
      "execution_count": null,
      "metadata": {
        "colab": {
          "base_uri": "https://localhost:8080/",
          "height": 73
        },
        "id": "eNKOyHAW5aVC",
        "outputId": "64cf9474-9b3d-4590-d304-b9e091f90bd0"
      },
      "outputs": [
        {
          "output_type": "display_data",
          "data": {
            "text/plain": [
              "<IPython.core.display.HTML object>"
            ],
            "text/html": [
              "\n",
              "     <input type=\"file\" id=\"files-b4879c51-0740-4988-8384-b06b691d5a85\" name=\"files[]\" multiple disabled\n",
              "        style=\"border:none\" />\n",
              "     <output id=\"result-b4879c51-0740-4988-8384-b06b691d5a85\">\n",
              "      Upload widget is only available when the cell has been executed in the\n",
              "      current browser session. Please rerun this cell to enable.\n",
              "      </output>\n",
              "      <script>// Copyright 2017 Google LLC\n",
              "//\n",
              "// Licensed under the Apache License, Version 2.0 (the \"License\");\n",
              "// you may not use this file except in compliance with the License.\n",
              "// You may obtain a copy of the License at\n",
              "//\n",
              "//      http://www.apache.org/licenses/LICENSE-2.0\n",
              "//\n",
              "// Unless required by applicable law or agreed to in writing, software\n",
              "// distributed under the License is distributed on an \"AS IS\" BASIS,\n",
              "// WITHOUT WARRANTIES OR CONDITIONS OF ANY KIND, either express or implied.\n",
              "// See the License for the specific language governing permissions and\n",
              "// limitations under the License.\n",
              "\n",
              "/**\n",
              " * @fileoverview Helpers for google.colab Python module.\n",
              " */\n",
              "(function(scope) {\n",
              "function span(text, styleAttributes = {}) {\n",
              "  const element = document.createElement('span');\n",
              "  element.textContent = text;\n",
              "  for (const key of Object.keys(styleAttributes)) {\n",
              "    element.style[key] = styleAttributes[key];\n",
              "  }\n",
              "  return element;\n",
              "}\n",
              "\n",
              "// Max number of bytes which will be uploaded at a time.\n",
              "const MAX_PAYLOAD_SIZE = 100 * 1024;\n",
              "\n",
              "function _uploadFiles(inputId, outputId) {\n",
              "  const steps = uploadFilesStep(inputId, outputId);\n",
              "  const outputElement = document.getElementById(outputId);\n",
              "  // Cache steps on the outputElement to make it available for the next call\n",
              "  // to uploadFilesContinue from Python.\n",
              "  outputElement.steps = steps;\n",
              "\n",
              "  return _uploadFilesContinue(outputId);\n",
              "}\n",
              "\n",
              "// This is roughly an async generator (not supported in the browser yet),\n",
              "// where there are multiple asynchronous steps and the Python side is going\n",
              "// to poll for completion of each step.\n",
              "// This uses a Promise to block the python side on completion of each step,\n",
              "// then passes the result of the previous step as the input to the next step.\n",
              "function _uploadFilesContinue(outputId) {\n",
              "  const outputElement = document.getElementById(outputId);\n",
              "  const steps = outputElement.steps;\n",
              "\n",
              "  const next = steps.next(outputElement.lastPromiseValue);\n",
              "  return Promise.resolve(next.value.promise).then((value) => {\n",
              "    // Cache the last promise value to make it available to the next\n",
              "    // step of the generator.\n",
              "    outputElement.lastPromiseValue = value;\n",
              "    return next.value.response;\n",
              "  });\n",
              "}\n",
              "\n",
              "/**\n",
              " * Generator function which is called between each async step of the upload\n",
              " * process.\n",
              " * @param {string} inputId Element ID of the input file picker element.\n",
              " * @param {string} outputId Element ID of the output display.\n",
              " * @return {!Iterable<!Object>} Iterable of next steps.\n",
              " */\n",
              "function* uploadFilesStep(inputId, outputId) {\n",
              "  const inputElement = document.getElementById(inputId);\n",
              "  inputElement.disabled = false;\n",
              "\n",
              "  const outputElement = document.getElementById(outputId);\n",
              "  outputElement.innerHTML = '';\n",
              "\n",
              "  const pickedPromise = new Promise((resolve) => {\n",
              "    inputElement.addEventListener('change', (e) => {\n",
              "      resolve(e.target.files);\n",
              "    });\n",
              "  });\n",
              "\n",
              "  const cancel = document.createElement('button');\n",
              "  inputElement.parentElement.appendChild(cancel);\n",
              "  cancel.textContent = 'Cancel upload';\n",
              "  const cancelPromise = new Promise((resolve) => {\n",
              "    cancel.onclick = () => {\n",
              "      resolve(null);\n",
              "    };\n",
              "  });\n",
              "\n",
              "  // Wait for the user to pick the files.\n",
              "  const files = yield {\n",
              "    promise: Promise.race([pickedPromise, cancelPromise]),\n",
              "    response: {\n",
              "      action: 'starting',\n",
              "    }\n",
              "  };\n",
              "\n",
              "  cancel.remove();\n",
              "\n",
              "  // Disable the input element since further picks are not allowed.\n",
              "  inputElement.disabled = true;\n",
              "\n",
              "  if (!files) {\n",
              "    return {\n",
              "      response: {\n",
              "        action: 'complete',\n",
              "      }\n",
              "    };\n",
              "  }\n",
              "\n",
              "  for (const file of files) {\n",
              "    const li = document.createElement('li');\n",
              "    li.append(span(file.name, {fontWeight: 'bold'}));\n",
              "    li.append(span(\n",
              "        `(${file.type || 'n/a'}) - ${file.size} bytes, ` +\n",
              "        `last modified: ${\n",
              "            file.lastModifiedDate ? file.lastModifiedDate.toLocaleDateString() :\n",
              "                                    'n/a'} - `));\n",
              "    const percent = span('0% done');\n",
              "    li.appendChild(percent);\n",
              "\n",
              "    outputElement.appendChild(li);\n",
              "\n",
              "    const fileDataPromise = new Promise((resolve) => {\n",
              "      const reader = new FileReader();\n",
              "      reader.onload = (e) => {\n",
              "        resolve(e.target.result);\n",
              "      };\n",
              "      reader.readAsArrayBuffer(file);\n",
              "    });\n",
              "    // Wait for the data to be ready.\n",
              "    let fileData = yield {\n",
              "      promise: fileDataPromise,\n",
              "      response: {\n",
              "        action: 'continue',\n",
              "      }\n",
              "    };\n",
              "\n",
              "    // Use a chunked sending to avoid message size limits. See b/62115660.\n",
              "    let position = 0;\n",
              "    do {\n",
              "      const length = Math.min(fileData.byteLength - position, MAX_PAYLOAD_SIZE);\n",
              "      const chunk = new Uint8Array(fileData, position, length);\n",
              "      position += length;\n",
              "\n",
              "      const base64 = btoa(String.fromCharCode.apply(null, chunk));\n",
              "      yield {\n",
              "        response: {\n",
              "          action: 'append',\n",
              "          file: file.name,\n",
              "          data: base64,\n",
              "        },\n",
              "      };\n",
              "\n",
              "      let percentDone = fileData.byteLength === 0 ?\n",
              "          100 :\n",
              "          Math.round((position / fileData.byteLength) * 100);\n",
              "      percent.textContent = `${percentDone}% done`;\n",
              "\n",
              "    } while (position < fileData.byteLength);\n",
              "  }\n",
              "\n",
              "  // All done.\n",
              "  yield {\n",
              "    response: {\n",
              "      action: 'complete',\n",
              "    }\n",
              "  };\n",
              "}\n",
              "\n",
              "scope.google = scope.google || {};\n",
              "scope.google.colab = scope.google.colab || {};\n",
              "scope.google.colab._files = {\n",
              "  _uploadFiles,\n",
              "  _uploadFilesContinue,\n",
              "};\n",
              "})(self);\n",
              "</script> "
            ]
          },
          "metadata": {}
        },
        {
          "output_type": "stream",
          "name": "stdout",
          "text": [
            "Saving lj.txt to lj.txt\n"
          ]
        }
      ],
      "source": [
        "#7.implement a generator function that reads a file line by line and yields each line as a string.\n",
        "#first uploading the file which going to be read\n",
        "from google.colab import files\n",
        "\n",
        "uploaded = files.upload()"
      ]
    },
    {
      "cell_type": "code",
      "source": [
        "def read_file_lines(filename):  # No changes needed here\n",
        "\n",
        "        with open(filename, 'r') as file:\n",
        "            for line in file:\n",
        "                yield line.strip()\n",
        "\n",
        "\n",
        "\n",
        "filename = 'lj.txt'  # Use the EXACT filename from the upload\n",
        "\n",
        "\n",
        "lines_list = list(read_file_lines(filename))\n",
        "print(lines_list)"
      ],
      "metadata": {
        "colab": {
          "base_uri": "https://localhost:8080/"
        },
        "id": "bhxkW1OYP_X3",
        "outputId": "10b5df0c-fb78-4178-9a70-3a47cb776c99"
      },
      "execution_count": null,
      "outputs": [
        {
          "output_type": "stream",
          "name": "stdout",
          "text": [
            "['MY name is sri.', 'Iam pursuing artificial intelligence and data science']\n"
          ]
        }
      ]
    },
    {
      "cell_type": "code",
      "execution_count": null,
      "metadata": {
        "colab": {
          "base_uri": "https://localhost:8080/"
        },
        "id": "QYa_0xtH9qDc",
        "outputId": "bad61593-11f2-4866-a124-e520cbf7ed81"
      },
      "outputs": [
        {
          "name": "stdout",
          "output_type": "stream",
          "text": [
            "[(3, 'a'), (2, 'b'), (4, 'y'), (1, 'z')]\n"
          ]
        }
      ],
      "source": [
        "#8. Use a lambda function in Python to sort a list of tuples based on the second element of each tuple.\n",
        "list_of_tuples = [(1, 'z'), (3, 'a'), (2, 'b'), (4, 'y')]\n",
        "\n",
        "\n",
        "sorted_list = sorted(list_of_tuples, key=lambda item: item[1])\n",
        "\n",
        "print(sorted_list)\n",
        "\n",
        "\n",
        "\n"
      ]
    },
    {
      "cell_type": "code",
      "execution_count": null,
      "metadata": {
        "colab": {
          "base_uri": "https://localhost:8080/"
        },
        "id": "nDlL4kXB-p4F",
        "outputId": "016292b2-77a1-40f6-cc4a-ca45ba178cc6"
      },
      "outputs": [
        {
          "name": "stdout",
          "output_type": "stream",
          "text": [
            "[32.0, 50.0, 68.0, 86.0, 104.0]\n"
          ]
        }
      ],
      "source": [
        "#9.Write a Python program that uses `map()` to convert a list of temperatures from Celsius to Fahrenheit.\n",
        "\n",
        "\n",
        "def celsius_to_fahrenheit(celsius):\n",
        "\n",
        "    return (celsius * 9/5) + 32\n",
        "\n",
        "temperatures_celsius = [0, 10, 20, 30, 40]\n",
        "\n",
        "\n",
        "temperatures_fahrenheit = list(map(celsius_to_fahrenheit, temperatures_celsius))\n",
        "print(temperatures_fahrenheit)"
      ]
    },
    {
      "cell_type": "code",
      "execution_count": null,
      "metadata": {
        "colab": {
          "base_uri": "https://localhost:8080/"
        },
        "id": "ysSSTIHK_rYt",
        "outputId": "62d2e559-b8f4-40ad-e983-22fc5b99dbc1"
      },
      "outputs": [
        {
          "name": "stdout",
          "output_type": "stream",
          "text": [
            "Enter string: jayasri\n",
            "String without vowels: jysr\n"
          ]
        }
      ],
      "source": [
        "#10.Create a Python program that uses `filter()` to remove all the vowels from a given string.\n",
        "def remove_vowels(text):\n",
        "    vowels = \"aeiouAEIOU\"\n",
        "    return \"\".join(filter(lambda char: char not in vowels, text))\n",
        "\n",
        "input_string = input(\"Enter string: \")\n",
        "result = remove_vowels(input_string)\n",
        "print(\"String without vowels:\", result)\n"
      ]
    },
    {
      "cell_type": "code",
      "execution_count": 2,
      "metadata": {
        "colab": {
          "base_uri": "https://localhost:8080/"
        },
        "id": "S8GUtyVJ2yk5",
        "outputId": "63c31500-816d-4b79-da25-9b82a1f4d09c"
      },
      "outputs": [
        {
          "output_type": "stream",
          "name": "stdout",
          "text": [
            "Name: Alice\n",
            "Age: 25\n",
            "City: New York\n",
            "Hobbies: reading, hiking\n",
            "Other Information:\n",
            "  occupation: Teacher\n",
            "--------------------\n",
            "Name: Bob\n",
            "Age: 35\n",
            "City: London\n",
            "--------------------\n",
            "Name: Charlie\n",
            "Age: coding\n",
            "City: music\n",
            "--------------------\n",
            "Name: David\n",
            "Age: 40\n",
            "City: Paris\n",
            "Hobbies: painting, singing, traveling\n",
            "Other Information:\n",
            "  favorite_color: Blue\n",
            "  pet: Dog\n"
          ]
        }
      ],
      "source": [
        "\"\"\"\n",
        "11.Imagine an accounting routine used in a book shop. It works on a list with sublists, which look like this\n",
        "\n",
        "Order Number   Book title and author                       Quantity       Price per Item\n",
        "34587           Learning Python, Mark Lutz                       4               40.95\n",
        "98762           Programming Python, Mark Lutz                    5               56.80\n",
        "77226           Head First Python, Paul Barry                    3               32.95\n",
        "88112           Einführung in Python3, Bernd Klei                3               24.99\n",
        "\n",
        "\n",
        "\n",
        " Write a Python program, which returns a list with 2-tuples. Each tuple consists of the order number and the\n",
        "product of the price per item and the quantity. The product should be increased by 10,- € if the value of the\n",
        "order is smaller than 100,00 €.\n",
        " Write a Python program using lambda and map\n",
        " \"\"\"\n",
        "def describe_person(name, age=30, city=\"Unknown\", *hobbies, **other_info):\n",
        "    \"\"\"Describes a person with various details.\"\"\"\n",
        "    print(f\"Name: {name}\")\n",
        "    print(f\"Age: {age}\")\n",
        "    print(f\"City: {city}\")\n",
        "    if hobbies:\n",
        "        print(\"Hobbies:\", \", \".join(hobbies))\n",
        "    if other_info:\n",
        "        print(\"Other Information:\")\n",
        "        for key, value in other_info.items():\n",
        "            print(f\"  {key}: {value}\")\n",
        "\n",
        "# 1. Direct Call\n",
        "describe_person(\"Alice\", 25, \"New York\", \"reading\", \"hiking\", occupation=\"Teacher\")\n",
        "\n",
        "print(\"-\" * 20)  # Separator\n",
        "\n",
        "# 2. Call with Keyword Arguments\n",
        "describe_person(name=\"Bob\", city=\"London\", age=35)\n",
        "\n",
        "print(\"-\" * 20)\n",
        "\n",
        "# 3. Call with Default Arguments (age and city will use defaults)\n",
        "describe_person(\"Charlie\", \"coding\", \"music\")  # Here age and city are not provided, so they take their default values\n",
        "\n",
        "print(\"-\" * 20)\n",
        "\n",
        "# 4. Call with Variable-Length Arguments (hobbies and other_info)\n",
        "describe_person(\"David\", 40, \"Paris\", \"painting\", \"singing\", \"traveling\",  favorite_color=\"Blue\", pet=\"Dog\")\n"
      ]
    }
  ],
  "metadata": {
    "colab": {
      "provenance": []
    },
    "kernelspec": {
      "display_name": "Python 3",
      "name": "python3"
    },
    "language_info": {
      "name": "python"
    }
  },
  "nbformat": 4,
  "nbformat_minor": 0
}