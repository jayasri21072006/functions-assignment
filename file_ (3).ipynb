{
  "nbformat": 4,
  "nbformat_minor": 0,
  "metadata": {
    "colab": {
      "provenance": []
    },
    "kernelspec": {
      "name": "python3",
      "display_name": "Python 3"
    },
    "language_info": {
      "name": "python"
    }
  },
  "cells": [
    {
      "cell_type": "markdown",
      "source": [
        "\\\n",
        "\n",
        "1. What is the difference between interpreted and compiled languages?\n",
        "\n",
        "Compiled Languages:\n",
        "The source code is translated into machine code (binary) by a compiler before execution.\n",
        "The resulting executable file can be run independently.\n",
        "Examples: C, C++, Java (Java is a little of both).\n",
        "Typically faster execution due to direct machine code execution.\n",
        "Interpreted Languages:\n",
        "The source code is executed line by line by an interpreter during runtime.\n",
        "No separate executable file is created.\n",
        "Examples: Python, JavaScript, Ruby.\n",
        "Generally slower execution due to the overhead of interpretation.\n",
        "Easier debugging.\n",
        "2. What is exception handling in Python?\n",
        "\n",
        "Exception handling is a mechanism in Python to deal with runtime errors or exceptions that disrupt the normal flow of a program.\n",
        "It allows you to gracefully handle errors, prevent program crashes, and provide meaningful error messages.\n",
        "It uses try, except, else, and finally blocks.\n",
        "3. What is the purpose of the finally block in exception handling?\n",
        "\n",
        "The finally block is used to specify a block of code that will always be executed, regardless of whether an exception occurred or not.1\n",
        "\n",
        "It's commonly used for cleanup actions, such as closing files, releasing resources, or ensuring that certain operations are always performed.\n",
        "4. What is logging in Python?\n",
        "\n",
        "Logging in Python is a built-in module that provides a flexible framework for emitting log messages from your programs.\n",
        "It allows you to record information about the program's execution, including errors, warnings, and informational messages.\n",
        "It is used for debugging, monitoring, and auditing.\n",
        "5. What is the significance of the del method in Python?\n",
        "\n",
        "The del keyword in Python is used to delete references to objects.\n",
        "The __del__ method is a special method (destructor) that is called when an object is about to be garbage collected.\n",
        "It's used to perform cleanup actions specific to an object, such as releasing resources. However, relying on __del__ is generally discouraged because it's not guaranteed to be called immediately when an object becomes unreachable.\n",
        "\n",
        "6. What is the difference between import and from ... import in Python?\n",
        "\n",
        "import module_name: Imports the entire module, and you access its components using module_name.component.\n",
        "from module_name import component: Imports specific components from the module directly, allowing you to use them without the module prefix.\n",
        "7. How can you handle multiple exceptions in Python?\n",
        "\n",
        "You can handle multiple exceptions using multiple except blocks, each specifying a different exception type:\n",
        "Python\n",
        "\n",
        "try:\n",
        "    # Code that may raise exceptions\n",
        "except ValueError:\n",
        "    # Handle ValueError\n",
        "except TypeError:\n",
        "    # Handle TypeError\n",
        "except (ZeroDivisionError, IndexError):\n",
        "    #handle multiple exceptions in one block\n",
        "except Exception as e:\n",
        "    #handle all other exceptions.\n",
        "finally:\n",
        "    #cleanup code.\n",
        "8. What is the purpose of the with statement when handling files in Python?\n",
        "\n",
        "The with statement is used to ensure that resources, such as files, are properly managed.\n",
        "It automatically handles the opening and closing of files, even if exceptions occur.\n",
        "It simplifies code and prevents resource leaks.\n",
        "9. What is the difference between multithreading and multiprocessing?\n",
        "\n",
        "Multithreading:\n",
        "Multiple threads run concurrently within a single process.\n",
        "Threads share the same memory space.\n",
        "Suitable for I/O-bound tasks.\n",
        "Can be affected by the Global Interpreter Lock (GIL) in CPython.\n",
        "Multiprocessing:\n",
        "Multiple processes run concurrently, each with its own memory space.\n",
        "Processes do not share memory.\n",
        "Suitable for CPU-bound tasks.\n",
        "Bypasses the GIL.\n",
        "10. What are the advantages of using logging in a program?\n",
        "\n",
        "Provides detailed information about program execution.\n",
        "Helps in debugging and troubleshooting.\n",
        "Facilitates monitoring and auditing.\n",
        "Allows for different levels of log messages (e.g., debug, info, warning, error, critical).\n",
        "Can be configured to write logs to files, consoles, or other destinations.\n",
        "11. What is memory management in Python?\n",
        "\n",
        "Memory management in Python involves the allocation and deallocation of memory for objects.\n",
        "Python uses automatic memory management, including garbage collection, to handle memory allocation and deallocation.\n",
        "It abstracts away the need for manual memory management.\n",
        "12. What are the basic steps involved in exception handling in Python?\n",
        "\n",
        "try block: Enclose the code that might raise an exception within a try block.\n",
        "except block(s): Specify one or more except blocks to handle specific exceptions.\n",
        "else block (optional): Specify an else block to execute code if no exception is raised.\n",
        "finally block (optional): Specify a finally block to execute code that always runs, regardless of exceptions.\n",
        "13. Why is memory management important in Python?\n",
        "\n",
        "Efficient memory management prevents memory leaks and ensures that programs run smoothly.\n",
        "It allows programs to use memory effectively and avoid crashes due to memory exhaustion.\n",
        "It reduces the programmer overhead of manual memory management.\n",
        "14. What is the role of try and except in exception handling?\n",
        "\n",
        "try: The try block marks the section of code where exceptions might occur.\n",
        "except: The except block(s) specify how to handle specific exceptions that may be raised within the try block.\n",
        "15. How does Python's garbage collection system work?\n",
        "\n",
        "Python uses automatic garbage collection to reclaim memory occupied by objects that are no longer in use.\n",
        "It primarily uses reference counting, where each object maintains a count of the number of references to it.\n",
        "When the reference count drops to zero, the object is deallocated.\n",
        "It also uses a cyclic garbage collector to handle reference cycles.\n",
        "16. What is the purpose of the else block in exception handling?\n",
        "\n",
        "The else block in exception handling is executed only if no exceptions are raised within the try block.\n",
        "It's used to execute code that depends on the successful completion of the try block.\n",
        "17. What are the common logging levels in Python?\n",
        "\n",
        "DEBUG: Detailed information, typically used for debugging.\n",
        "INFO: General information about program execution.\n",
        "WARNING: Indicates potential issues or unexpected events.\n",
        "ERROR: Indicates errors that occurred during execution.\n",
        "CRITICAL: Indicates severe errors that may lead to program termination.\n",
        "18. What is the difference between os.fork() and multiprocessing in Python?\n",
        "\n",
        "os.fork():\n",
        "Creates a new process by duplicating the existing process.\n",
        "Available only on Unix-like systems.\n",
        "Child process inherits the parent's memory space.\n",
        "Can create issues with threads.\n",
        "multiprocessing:\n",
        "Provides a higher-level interface for creating and managing processes.\n",
        "Cross-platform compatibility.\n",
        "Creates separate memory spaces for each process.\n",
        "Easier to use for complex multiprocessing tasks.\n",
        "19. What is the importance of closing a file in Python?\n",
        "\n",
        "Closing a file releases the resources associated with the file, such as file handles and buffers.\n",
        "It ensures that data is written to the file properly and prevents data corruption.\n",
        "It avoids resource leaks and allows other programs to access the file.\n",
        "20. What is the difference between file.read() and file.readline() in Python?\n",
        "\n",
        "file.read(): Reads the entire contents of the file as a single string.\n",
        "file.readline(): Reads a single line from the file, including the newline character.\n",
        "21. What is the logging module in Python used for?\n",
        "\n",
        "The logging module is used for flexible event logging for applications and libraries.\n",
        "It provides a way to record information about the execution of a program, including errors, warnings, and informational messages.\n",
        "22. What is the os module in Python used for in file handling?\n",
        "\n",
        "The os module provides functions for interacting with the operating system, including file and directory manipulation.\n",
        "It's used for tasks such as creating, deleting, renaming, and moving files and directories.\n",
        "23. What are the challenges associated with memory management in Python?\n",
        "\n",
        "Reference cycles can prevent objects from being garbage collected immediately.\n",
        "Memory leaks can still occur if resources are not properly released.\n",
        "The overhead of garbage collection can impact performance."
      ],
      "metadata": {
        "id": "t7gVRRQuGun_"
      }
    },
    {
      "cell_type": "code",
      "source": [
        "# Question 1: How can you open a file for writing in Python and write a string to it?\n",
        "def write_string_to_file(filename, text):\n",
        "    \"\"\"Opens a file for writing and writes a string to it.\"\"\"\n",
        "    try:\n",
        "        with open(filename, 'w') as file:\n",
        "            file.write(text)\n",
        "        print(f\"String written to '{filename}' successfully.\")\n",
        "    except Exception as e:\n",
        "        print(f\"An error occurred: {e}\")\n",
        "\n",
        "write_string_to_file(r\"C:\\Users\\Jayasri t\\Downloads\\DSA RECORD - Copy.docx\", \"text\")#u can use any file name"
      ],
      "metadata": {
        "id": "-Z8spA67Se_j",
        "colab": {
          "base_uri": "https://localhost:8080/"
        },
        "outputId": "c383a474-1b9a-4c41-d044-88d5d449ddb6"
      },
      "execution_count": 1,
      "outputs": [
        {
          "output_type": "stream",
          "name": "stdout",
          "text": [
            "String written to 'C:\\Users\\Jayasri t\\Downloads\\DSA RECORD - Copy.docx' successfully.\n"
          ]
        }
      ]
    },
    {
      "cell_type": "code",
      "source": [
        "# Question 2: Write a Python program to read the contents of a file and print each line.\n",
        "def read_and_print_file(filename):\n",
        "    \"\"\"Reads a file and prints each line.\"\"\"\n",
        "    try:\n",
        "        with open(filename, 'r') as file:\n",
        "            for line in file:\n",
        "                print(line, end='')\n",
        "    except FileNotFoundError:\n",
        "        print(f\"Error: File '{filename}' not found.\")\n",
        "\n",
        "read_and_print_file(r\"C:\\Users\\Jayasri t\\Downloads\\DSA RECORD - Copy.docx\")"
      ],
      "metadata": {
        "id": "fGwE7tTMSqeb"
      },
      "execution_count": null,
      "outputs": []
    },
    {
      "cell_type": "code",
      "source": [
        "# Question 3: How would you handle a case where the file doesn't exist while trying to open it for reading?\n",
        "# (Handled in the above function using try-except FileNotFoundError)\n",
        "\n",
        "def read_and_print_file(filename):\n",
        "    \"\"\"Reads a file and prints each line, handling FileNotFoundError.\"\"\"\n",
        "    try:\n",
        "        with open(filename, 'r') as file:\n",
        "            for line in file:\n",
        "                print(line, end='')\n",
        "    except FileNotFoundError:\n",
        "        print(f\"Error: File '{filename}' not found.\")\n",
        "\n",
        "read_and_print_file(\"filename.txt\")"
      ],
      "metadata": {
        "id": "NPunFuTPUOgj"
      },
      "execution_count": null,
      "outputs": []
    },
    {
      "cell_type": "code",
      "source": [
        "# Question 4: Write a Python script that reads from one file and writes its content to another file.\n",
        "def copy_file(source_filename, destination_filename):\n",
        "    \"\"\"Copies content from one file to another.\"\"\"\n",
        "    try:\n",
        "        with open(source_filename, 'r') as source_file, open(destination_filename, 'w') as dest_file:\n",
        "            for line in source_file:\n",
        "                dest_file.write(line)\n",
        "        print(f\"File copied successfully from '{source_filename}' to '{destination_filename}'.\")\n",
        "    except FileNotFoundError:\n",
        "        print(f\"Error: Source file '{source_filename}' not found.\")\n",
        "    except Exception as e:\n",
        "        print(f\"An error occurred: {e}\")\n",
        "\n"
      ],
      "metadata": {
        "id": "PlsnXO7TT5do"
      },
      "execution_count": 4,
      "outputs": []
    },
    {
      "cell_type": "code",
      "source": [
        "# Question 5: How would you catch and handle division by zero error in Python?\n",
        "def divide(a, b):\n",
        "    \"\"\"Handles division by zero.\"\"\"\n",
        "    try:\n",
        "        result = a / b\n",
        "        return result\n",
        "    except ZeroDivisionError:\n",
        "        return \"Error: Division by zero.\"\n",
        "\n"
      ],
      "metadata": {
        "id": "ovmJ14oVYn-p"
      },
      "execution_count": 5,
      "outputs": []
    },
    {
      "cell_type": "code",
      "source": [
        "# Question 6: Write a Python program that logs an error message to a log file when a division by zero exception occurs.\n",
        "import logging\n",
        "\n",
        "logging.basicConfig(filename='division_error.log', level=logging.ERROR, format='%(asctime)s - %(levelname)s - %(message)s')\n",
        "\n",
        "def divide_and_log(a, b):\n",
        "    \"\"\"Divides and logs division by zero errors.\"\"\"\n",
        "    try:\n",
        "        result = a / b\n",
        "        return result\n",
        "    except ZeroDivisionError:\n",
        "        logging.error(\"Division by zero occurred.\")\n",
        "        return \"Error: Division by zero.\"\n"
      ],
      "metadata": {
        "id": "SrCTffdurs2g"
      },
      "execution_count": 6,
      "outputs": []
    },
    {
      "cell_type": "code",
      "source": [
        "# Question 7: How do you log information at different levels (INFO, ERROR, WARNING) in Python using the logging module?\n",
        "import logging\n",
        "\n",
        "logging.basicConfig(level=logging.INFO, format='%(asctime)s - %(levelname)s - %(message)s')\n",
        "\n",
        "def log_levels():\n",
        "    \"\"\"Demonstrates logging at different levels.\"\"\"\n",
        "    logging.info(\"This is an INFO message.\")\n",
        "    logging.warning(\"This is a WARNING message.\")\n",
        "    logging.error(\"This is an ERROR message.\")\n",
        "\n"
      ],
      "metadata": {
        "id": "T-ixbvktrszD"
      },
      "execution_count": 7,
      "outputs": []
    },
    {
      "cell_type": "code",
      "source": [
        "# Question 8: Write a program to handle a file opening error using exception handling.\n",
        "def open_file_safe(filename):\n",
        "    \"\"\"Handles file opening errors.\"\"\"\n",
        "    try:\n",
        "        file = open(filename, 'r')\n",
        "        # ... process the file ...\n",
        "        file.close()\n",
        "        print(f\"File '{filename}' opened and closed successfully.\")\n",
        "    except FileNotFoundError:\n",
        "        print(f\"Error: File '{filename}' not found.\")\n",
        "    except Exception as e:\n",
        "        print(f\"An unexpected error occured: {e}\")\n",
        "\n"
      ],
      "metadata": {
        "id": "CGDSi1AErsw4"
      },
      "execution_count": 8,
      "outputs": []
    },
    {
      "cell_type": "code",
      "source": [
        "# Question 9: How can you read a file line by line and store its content in a list in Python?\n",
        "def read_file_to_list(filename):\n",
        "    \"\"\"Reads a file and stores lines in a list.\"\"\"\n",
        "    try:\n",
        "        with open(filename, 'r') as file:\n",
        "            lines = [line.strip() for line in file]\n",
        "        return lines\n",
        "    except FileNotFoundError:\n",
        "        print(f\"Error: File '{filename}' not found.\")\n",
        "        return []\n"
      ],
      "metadata": {
        "id": "GGR-0AEcrsup"
      },
      "execution_count": 9,
      "outputs": []
    },
    {
      "cell_type": "code",
      "source": [
        "# Question 10: How can you append data to an existing file in Python?\n",
        "def append_to_file(filename, data):\n",
        "    \"\"\"Appends data to an existing file.\"\"\"\n",
        "    try:\n",
        "        with open(filename, 'a') as file:\n",
        "            file.write(data + '\\n')\n",
        "        print(f\"Data appended to '{filename}' successfully.\")\n",
        "    except Exception as e:\n",
        "        print(f\"An error occured: {e}\")\n",
        "\n"
      ],
      "metadata": {
        "id": "91z07MA-rssQ"
      },
      "execution_count": 10,
      "outputs": []
    },
    {
      "cell_type": "code",
      "source": [
        "# Question 11: Write a Python program that uses a try-except block to handle an error when attempting to access a dictionary key that doesn't exist.\n",
        "def access_dict_key(my_dict, key):\n",
        "    \"\"\"Handles KeyError when accessing dictionary keys.\"\"\"\n",
        "    try:\n",
        "        value = my_dict[key]\n",
        "        return value\n",
        "    except KeyError:\n",
        "        return f\"Error: Key '{key}' not found in the dictionary.\"\n",
        "\n"
      ],
      "metadata": {
        "id": "kOs0AkELrsp1"
      },
      "execution_count": 11,
      "outputs": []
    },
    {
      "cell_type": "code",
      "source": [
        "# Question 12: Write a program that demonstrates using multiple except blocks to handle different types of exceptions.\n",
        "def handle_multiple_exceptions(data, index, key):\n",
        "    \"\"\"Demonstrates handling multiple exception types.\"\"\"\n",
        "    try:\n",
        "        value = data[index][key]\n",
        "        return value\n",
        "    except IndexError:\n",
        "        return \"Error: Index out of range.\"\n",
        "    except KeyError:\n",
        "        return \"Error: Key not found.\"\n",
        "    except TypeError:\n",
        "        return \"Error: data must be a list of dictionaries\"\n",
        "    except Exception as e:\n",
        "        return f\"An unexpected error occured: {e}\"\n",
        "\n"
      ],
      "metadata": {
        "id": "weqrnketrsnk"
      },
      "execution_count": 12,
      "outputs": []
    },
    {
      "cell_type": "code",
      "source": [
        "# Question 13: How would you check if a file exists before attempting to read it in Python?\n",
        "import os\n",
        "\n",
        "def check_file_exists(filename):\n",
        "    \"\"\"Checks if a file exists before reading.\"\"\"\n",
        "    if os.path.exists(filename):\n",
        "        read_and_print_file(filename)\n",
        "    else:\n",
        "        print(f\"Error: File '{filename}' does not exist.\")\n"
      ],
      "metadata": {
        "id": "ufhiNn63rslh"
      },
      "execution_count": 13,
      "outputs": []
    },
    {
      "cell_type": "code",
      "source": [
        "# Question 14: Write a program that uses the logging module to log both informational and error messages.\n",
        "import logging\n",
        "\n",
        "logging.basicConfig(level=logging.INFO, filename='info_error.log', format='%(asctime)s - %(levelname)s - %(message)s')\n",
        "\n",
        "def log_info_error():\n",
        "    \"\"\"Logs informational and error messages.\"\"\"\n",
        "    logging.info(\"Program started.\")\n",
        "    try:\n",
        "        1 / 0\n",
        "    except ZeroDivisionError:\n",
        "        logging.error(\"Division by zero occurred.\")\n",
        "    logging.info(\"Program finished.\")\n",
        "\n"
      ],
      "metadata": {
        "id": "S6YusmMmrsjW"
      },
      "execution_count": 14,
      "outputs": []
    },
    {
      "cell_type": "code",
      "source": [
        "# Question 15: Write a Python program that prints the content of a file and handles the case when the file is empty.\n",
        "def print_file_content_empty(filename):\n",
        "    \"\"\"Prints file content, handling empty files.\"\"\"\n",
        "    try:\n",
        "        with open(filename, 'r') as file:\n",
        "            content = file.read()\n",
        "            if not content:\n",
        "                print(f\"File '{filename}' is empty.\")\n",
        "            else:\n",
        "                print(content)\n",
        "    except FileNotFoundError:\n",
        "        print(f\"Error: File '{filename}' not found.\")\n",
        "\n"
      ],
      "metadata": {
        "id": "mBRNg18Irsg8"
      },
      "execution_count": 15,
      "outputs": []
    },
    {
      "cell_type": "code",
      "source": [
        "# Question 16: Demonstrate how to use memory profiling to check the memory usage of a small program.\n",
        "# requires the memory_profiler package: pip install memory_profiler\n",
        "from memory_profiler import profile\n",
        "@profile\n",
        "def memory_usage_example():\n",
        "    my_list = [i for i in range(1000000)]\n",
        "    return sum(my_list)\n",
        "\n"
      ],
      "metadata": {
        "id": "5GFXtmwDrsez"
      },
      "execution_count": null,
      "outputs": []
    },
    {
      "cell_type": "code",
      "source": [
        "# Question 17: Write a Python program to create and write a list of numbers to a file, one number per line.\n",
        "def write_numbers_to_file(filename, numbers):\n",
        "    \"\"\"Writes a list of numbers to a file.\"\"\"\n",
        "    try:\n",
        "        with open(filename, 'w') as file:\n",
        "            for number in numbers:\n",
        "                file.write(str(number) + '\\n')\n",
        "        print(f\"Numbers written to '{filename}' successfully.\")\n",
        "    except Exception as e:\n",
        "        print(f\"An error occurred: {e}\")\n",
        "\n"
      ],
      "metadata": {
        "id": "lvUhRK0Trsco"
      },
      "execution_count": null,
      "outputs": []
    },
    {
      "cell_type": "code",
      "source": [
        "# Question 18: How would you implement a basic logging setup that logs to a file with rotation after 1MB?\n",
        "import logging\n",
        "from logging.handlers import RotatingFileHandler\n",
        "\n",
        "def setup_rotating_logger(filename, max_bytes=1024 * 1024, backup_count=5):\n",
        "    \"\"\"Sets up a rotating file logger.\"\"\"\n",
        "    logger = logging.getLogger(\"rotating_logger\")\n",
        "    logger.setLevel(logging.INFO)\n",
        "\n",
        "    handler = RotatingFileHandler"
      ],
      "metadata": {
        "id": "iZPfC4tHrsaX"
      },
      "execution_count": 16,
      "outputs": []
    },
    {
      "cell_type": "code",
      "source": [
        "# Question 19: Write a program that handles both IndexError and KeyError using a try-except block.\n",
        "def handle_index_key_errors(data, index, key):\n",
        "    \"\"\"Handles both IndexError and KeyError.\"\"\"\n",
        "    try:\n",
        "        value = data[index][key]\n",
        "        return value\n",
        "    except IndexError:\n",
        "        return \"Error: Index out of range.\"\n",
        "    except KeyError:\n",
        "        return \"Error: Key not found.\"\n",
        "    except TypeError:\n",
        "        return \"Error: Data must be a list of dictionaries\"\n",
        "    except Exception as e:\n",
        "        return f\"An unexpected error occured: {e}\"\n",
        "\n"
      ],
      "metadata": {
        "id": "Ez8_O4gvrsYl"
      },
      "execution_count": 17,
      "outputs": []
    },
    {
      "cell_type": "code",
      "source": [
        "# Question 20: How would you open a file and read its contents using a context manager in Python?\n",
        "def read_file_with_context_manager(filename):\n",
        "    \"\"\"Reads a file using a context manager.\"\"\"\n",
        "    try:\n",
        "        with open(filename, 'r') as file:\n",
        "            content = file.read()\n",
        "        return content\n",
        "    except FileNotFoundError:\n",
        "        return f\"Error: File '{filename}' not found.\"\n",
        "    except Exception as e:\n",
        "        return f\"An unexpected error occured: {e}\"\n",
        "\n"
      ],
      "metadata": {
        "id": "bNcEPHmzrsWV"
      },
      "execution_count": 22,
      "outputs": []
    },
    {
      "cell_type": "code",
      "source": [
        "# Question 21: Write a Python program that reads a file and prints the number of occurrences of a specific word.\n",
        "def count_word_occurrences(filename, word):\n",
        "    \"\"\"Counts occurrences of a word in a file.\"\"\"\n",
        "    try:\n",
        "        with open(filename, 'r') as file:\n",
        "            content = file.read().lower()\n",
        "            count = content.count(word.lower())\n",
        "        return count\n",
        "    except FileNotFoundError:\n",
        "        return f\"Error: File '{filename}' not found.\"\n",
        "    except Exception as e:\n",
        "        return f\"An unexpected error occured: {e}\"\n",
        "\n"
      ],
      "metadata": {
        "id": "qbM-YqP3rsUv"
      },
      "execution_count": 20,
      "outputs": []
    },
    {
      "cell_type": "code",
      "source": [
        "# Question 22: How can you check if a file is empty before attempting to read its contents?\n",
        "import os\n",
        "\n",
        "def is_file_empty(filename):\n",
        "    \"\"\"Checks if a file is empty.\"\"\"\n",
        "    try:\n",
        "        if os.path.exists(filename) and os.path.getsize(filename) == 0:\n",
        "            return True\n",
        "        elif os.path.exists(filename) and os.path.getsize(filename) > 0:\n",
        "            return False\n",
        "        else:\n",
        "            return f\"Error: File '{filename}' does not exist.\"\n",
        "    except Exception as e:\n",
        "        return f\"An unexpected error occured: {e}\"\n",
        "\n"
      ],
      "metadata": {
        "id": "y16G5hlfrsSV"
      },
      "execution_count": 21,
      "outputs": []
    },
    {
      "cell_type": "code",
      "source": [
        "# Question 23: Write a Python program that writes to a log file when an error occurs during file handling.\n",
        "import logging\n",
        "\n",
        "# Configure logging to write to 'file_error.log' at the ERROR level\n",
        "logging.basicConfig(filename='file_error.log', level=logging.ERROR, format='%(asctime)s - %(levelname)s - %(message)s')\n",
        "\n",
        "def file_handling_with_logging(filename):\n",
        "    \"\"\"Handles file operations and logs errors.\"\"\"\n",
        "    try:\n",
        "        with open(filename, 'r') as file:\n",
        "            content = file.read()\n",
        "            # Simulate processing content (you can add your logic here)\n",
        "            # Example: print(content)\n",
        "        print(f\"File '{filename}' processed successfully.\")\n",
        "    except FileNotFoundError:\n",
        "        # Log the FileNotFoundError\n",
        "        logging.error(f\"File '{filename}' not found.\")\n",
        "        # Print a user-friendly error message\n",
        "        print(f\"Error: File '{filename}' not found.\")\n",
        "    except Exception as e:\n",
        "        # Log any other exceptions\n",
        "        logging.error(f\"An unexpected error occurred: {e}\")\n",
        "        # Print a user-friendly error message\n",
        "        print(f\"An unexpected error occurred: {e}\")\n",
        "\n",
        "\n"
      ],
      "metadata": {
        "id": "Iz312C6frsQK"
      },
      "execution_count": 19,
      "outputs": []
    },
    {
      "cell_type": "code",
      "source": [],
      "metadata": {
        "id": "xVWqY5OprsNq"
      },
      "execution_count": null,
      "outputs": []
    },
    {
      "cell_type": "code",
      "source": [],
      "metadata": {
        "id": "TRLphUYvrsLo"
      },
      "execution_count": null,
      "outputs": []
    },
    {
      "cell_type": "code",
      "source": [],
      "metadata": {
        "id": "gXPFL8RYrsGT"
      },
      "execution_count": null,
      "outputs": []
    },
    {
      "cell_type": "markdown",
      "source": [],
      "metadata": {
        "id": "rdr8ZQjpI097"
      }
    }
  ]
}