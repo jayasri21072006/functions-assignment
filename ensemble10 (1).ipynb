{
  "nbformat": 4,
  "nbformat_minor": 0,
  "metadata": {
    "colab": {
      "provenance": []
    },
    "kernelspec": {
      "name": "python3",
      "display_name": "Python 3"
    },
    "language_info": {
      "name": "python"
    }
  },
  "cells": [
    {
      "cell_type": "markdown",
      "source": [],
      "metadata": {
        "id": "H3UUDQKE0gUj"
      }
    },
    {
      "cell_type": "markdown",
      "source": [
        "Theoretical"
      ],
      "metadata": {
        "id": "D2oNugcR0tmO"
      }
    },
    {
      "cell_type": "markdown",
      "metadata": {
        "id": "9f504c6b"
      },
      "source": [
        "\n",
        "\n",
        "**1: Can we use Bagging for regression problems?**\n",
        "Yes, Bagging can be used for regression problems. It is called Bagging Regressor.\n",
        "\n",
        "**2: What is the difference between multiple model training and single model training?**\n",
        "Single model training involves training one model on the entire dataset. Multiple model training, or ensemble learning, involves training multiple models (often of the same type) on different subsets of the data or with different parameters, and then combining their predictions.\n",
        "\n",
        "**3: Explain the concept of feature randomness in Random Forest.**\n",
        "Feature randomness (also called feature bagging or random subspaces) in Random Forest means that at each split in a decision tree, only a random subset of the features is considered. This adds diversity to the trees and helps to reduce correlation between them, further reducing overfitting.\n",
        "\n",
        "**4: What is OOB (Out-of-Bag) Score?**\n",
        "In Bagging, since each model is trained on a bootstrap sample, some data points are left out of the training set for each individual model. These left-out data points form the \"out-of-bag\" (OOB) sample. The OOB score is the average prediction error of the ensemble on the OOB samples, which can be used as an estimate of the model's performance without needing a separate validation set.\n",
        "\n",
        "**5: How can you measure the importance of features in a Random Forest model?**\n",
        "Feature importance in Random Forest can be measured by calculating the average reduction in impurity (like Gini impurity or entropy) or the average increase in error (like mean squared error for regression) across all trees when a feature is used for splitting. Features that contribute more to reducing impurity or increasing error are considered more important.\n",
        "\n",
        "**6: Explain the working principle of a Bagging Classifier.**\n",
        "A Bagging Classifier works by training multiple base classifiers (usually decision trees) on different bootstrap samples of the training data. For classification, the final prediction is made by taking a majority vote of the predictions from all the base classifiers.\n",
        "\n",
        "**7: How do you evaluate a Bagging Classifier’s performance?**\n",
        "A Bagging Classifier’s performance can be evaluated using standard classification metrics such as accuracy, precision, recall, F1-score, and AUC on a separate test set. The OOB score can also be used as an internal estimate of performance during training.\n",
        "\n",
        "**8: How does a Bagging Regressor work?**\n",
        "A Bagging Regressor works similarly to a Bagging Classifier, but for regression problems. It trains multiple base regressors (usually decision trees) on different bootstrap samples. The final prediction is typically the average of the predictions from all the base regressors.\n",
        "\n",
        "**9: What is the main advantage of ensemble techniques?**\n",
        "The main advantage of ensemble techniques is that they can often achieve better performance and are more robust than single models, especially in terms of reducing variance and preventing overfitting.\n",
        "\n",
        "**10: What is the main challenge of ensemble methods?**\n",
        "The main challenge of ensemble methods can be their increased computational cost due to training multiple models. They can also be more complex to interpret than single models.\n",
        "\n",
        "**11: Explain the key idea behind ensemble techniques.**\n",
        "The key idea behind ensemble techniques is to combine the predictions of multiple individual models to produce a more accurate and robust prediction than any single model could achieve on its own. By combining diverse models, the ensemble can reduce the impact of individual model weaknesses and biases.\n",
        "\n",
        "**12: What is a Random Forest Classifier?**\n",
        "A Random Forest Classifier is an ensemble learning method that builds multiple decision trees during training and outputs the class that is the mode of the classes (classification) or mean prediction (regression) of the individual trees. It combines the concepts of Bagging and feature randomness.\n",
        "\n",
        "**13: What are the main types of ensemble techniques?**\n",
        "The main types of ensemble techniques are Bagging (Bootstrap Aggregating), Boosting, and Stacking.\n",
        "\n",
        "**14: What is ensemble learning in machine learning?**\n",
        "Ensemble learning is a machine learning paradigm where multiple models (often called \"base learners\" or \"weak learners\") are trained and their predictions are combined to solve a particular problem.\n",
        "\n",
        "**15: When should we avoid using ensemble methods?**\n",
        "We might avoid using ensemble methods when computational resources are severely limited, when interpretability of the model is paramount, or when the dataset is very small and simple, as the overhead of training multiple models might not be worth the potential performance gain.\n",
        "\n",
        "**16: How does Bagging help in reducing overfitting?**\n",
        "Bagging helps in reducing overfitting by reducing the variance of the model. By training multiple models on different bootstrap samples, it averages out the errors and variations that might occur in individual models trained on slightly different data.\n",
        "\n",
        "**17: Why is Random Forest better than a single Decision Tree?**\n",
        "Random Forest is generally better than a single Decision Tree because it reduces overfitting and improves generalization. Single decision trees can easily overfit to the training data, while Random Forest, by combining multiple trees trained on different data subsets and features, provides a more robust and accurate model.\n",
        "\n",
        "**18: What is the role of bootstrap sampling in Bagging?**\n",
        "Bootstrap sampling is crucial in Bagging as it creates multiple diverse training datasets from the original dataset by sampling with replacement. Each base model in the ensemble is trained on one of these bootstrap samples. This diversity in the training data for each model helps to reduce the correlation between the models and improve the overall ensemble performance.\n",
        "\n",
        "**19: What are some real-world applications of ensemble techniques?**\n",
        "Ensemble techniques are widely used in various real-world applications, including:\n",
        "*   Image recognition and computer vision\n",
        "*   Natural Language Processing (NLP) tasks like sentiment analysis and text classification\n",
        "*   Fraud detection\n",
        "*   Medical diagnosis\n",
        "*   Recommendation systems\n",
        "*   Predictive maintenance\n",
        "\n",
        "**20: What is the difference between Bagging and Boosting?**\n",
        "The main difference between Bagging and Boosting lies in how they train and combine the base models.\n",
        "*   **Bagging** trains base models independently and in parallel on different bootstrap samples of the data. The final prediction is typically an average or majority vote of the base models. Bagging primarily reduces variance.\n",
        "*   **Boosting** trains base models sequentially, where each subsequent model focuses on correcting the errors made by the previous models. It typically assigns higher weights to misclassified or poorly predicted data points. Boosting primarily reduces bias and can also reduce variance."
      ]
    },
    {
      "cell_type": "markdown",
      "source": [],
      "metadata": {
        "id": "eM99WR4v12Mj"
      }
    },
    {
      "cell_type": "markdown",
      "metadata": {
        "id": "94a347be"
      },
      "source": [
        "**21: Train a Bagging Classifier using Decision Trees on a sample dataset and print model accuracy**"
      ]
    },
    {
      "cell_type": "code",
      "metadata": {
        "colab": {
          "base_uri": "https://localhost:8080/"
        },
        "id": "7d764e5b",
        "outputId": "9290ed52-af0d-4746-a7b2-ddc5422b4f9b"
      },
      "source": [
        "from sklearn.datasets import make_classification\n",
        "from sklearn.tree import DecisionTreeClassifier\n",
        "from sklearn.ensemble import BaggingClassifier\n",
        "from sklearn.model_selection import train_test_split\n",
        "from sklearn.metrics import accuracy_score\n",
        "\n",
        "# Generate a sample dataset\n",
        "X, y = make_classification(n_samples=1000, n_features=20, random_state=42)\n",
        "\n",
        "# Split data into training and testing sets\n",
        "X_train, X_test, y_train, y_test = train_test_split(X, y, test_size=0.2, random_state=42)\n",
        "\n",
        "# Create a Bagging Classifier with Decision Tree as base estimator\n",
        "bagging_clf = BaggingClassifier(estimator=DecisionTreeClassifier(), n_estimators=10, random_state=42)\n",
        "\n",
        "# Train the model\n",
        "bagging_clf.fit(X_train, y_train)\n",
        "\n",
        "# Predict on the test set\n",
        "y_pred = bagging_clf.predict(X_test)\n",
        "\n",
        "# Calculate and print accuracy\n",
        "accuracy = accuracy_score(y_test, y_pred)\n",
        "print(f\"Bagging Classifier Accuracy: {accuracy}\")"
      ],
      "execution_count": 1,
      "outputs": [
        {
          "output_type": "stream",
          "name": "stdout",
          "text": [
            "Bagging Classifier Accuracy: 0.885\n"
          ]
        }
      ]
    },
    {
      "cell_type": "markdown",
      "metadata": {
        "id": "d2a76f49"
      },
      "source": [
        "**22: Train a Bagging Regressor using Decision Trees and evaluate using Mean Squared Error (MSE)**"
      ]
    },
    {
      "cell_type": "code",
      "metadata": {
        "colab": {
          "base_uri": "https://localhost:8080/"
        },
        "id": "31be39bc",
        "outputId": "f0c86f87-e12e-4e7b-84b8-9574921bad0d"
      },
      "source": [
        "from sklearn.datasets import make_regression\n",
        "from sklearn.tree import DecisionTreeRegressor\n",
        "from sklearn.ensemble import BaggingRegressor\n",
        "from sklearn.model_selection import train_test_split\n",
        "from sklearn.metrics import mean_squared_error\n",
        "\n",
        "# Generate a sample dataset\n",
        "X, y = make_regression(n_samples=1000, n_features=20, random_state=42)\n",
        "\n",
        "# Split data into training and testing sets\n",
        "X_train, X_test, y_train, y_test = train_test_split(X, y, test_size=0.2, random_state=42)\n",
        "\n",
        "# Create a Bagging Regressor with Decision Tree as base estimator\n",
        "bagging_reg = BaggingRegressor(estimator=DecisionTreeRegressor(), n_estimators=10, random_state=42)\n",
        "\n",
        "# Train the model\n",
        "bagging_reg.fit(X_train, y_train)\n",
        "\n",
        "# Predict on the test set\n",
        "y_pred = bagging_reg.predict(X_test)\n",
        "\n",
        "# Calculate and print Mean Squared Error (MSE)\n",
        "mse = mean_squared_error(y_test, y_pred)\n",
        "print(f\"Bagging Regressor MSE: {mse}\")"
      ],
      "execution_count": 2,
      "outputs": [
        {
          "output_type": "stream",
          "name": "stdout",
          "text": [
            "Bagging Regressor MSE: 9462.992186060874\n"
          ]
        }
      ]
    },
    {
      "cell_type": "markdown",
      "metadata": {
        "id": "e7d11bee"
      },
      "source": [
        "**23: Train a Random Forest Classifier on the Breast Cancer dataset and print feature importance scores**"
      ]
    },
    {
      "cell_type": "code",
      "metadata": {
        "colab": {
          "base_uri": "https://localhost:8080/"
        },
        "id": "00467a1b",
        "outputId": "d383accc-6ce7-4453-c626-f6534a2f737d"
      },
      "source": [
        "from sklearn.datasets import load_breast_cancer\n",
        "from sklearn.ensemble import RandomForestClassifier\n",
        "from sklearn.model_selection import train_test_split\n",
        "import pandas as pd\n",
        "\n",
        "# Load the Breast Cancer dataset\n",
        "breast_cancer = load_breast_cancer()\n",
        "X = breast_cancer.data\n",
        "y = breast_cancer.target\n",
        "feature_names = breast_cancer.feature_names\n",
        "\n",
        "# Split data into training and testing sets\n",
        "X_train, X_test, y_train, y_test = train_test_split(X, y, test_size=0.2, random_state=42)\n",
        "\n",
        "# Create a Random Forest Classifier\n",
        "rf_clf = RandomForestClassifier(n_estimators=100, random_state=42)\n",
        "\n",
        "# Train the model\n",
        "rf_clf.fit(X_train, y_train)\n",
        "\n",
        "# Get feature importances\n",
        "feature_importances = rf_clf.feature_importances_\n",
        "\n",
        "# Create a pandas Series for better visualization\n",
        "importance_series = pd.Series(feature_importances, index=feature_names)\n",
        "\n",
        "# Sort feature importances and print\n",
        "sorted_importance = importance_series.sort_values(ascending=False)\n",
        "print(\"Feature Importances:\")\n",
        "print(sorted_importance)"
      ],
      "execution_count": 3,
      "outputs": [
        {
          "output_type": "stream",
          "name": "stdout",
          "text": [
            "Feature Importances:\n",
            "worst area                 0.153892\n",
            "worst concave points       0.144663\n",
            "mean concave points        0.106210\n",
            "worst radius               0.077987\n",
            "mean concavity             0.068001\n",
            "worst perimeter            0.067115\n",
            "mean perimeter             0.053270\n",
            "mean radius                0.048703\n",
            "mean area                  0.047555\n",
            "worst concavity            0.031802\n",
            "area error                 0.022407\n",
            "worst texture              0.021749\n",
            "worst compactness          0.020266\n",
            "radius error               0.020139\n",
            "mean compactness           0.013944\n",
            "mean texture               0.013591\n",
            "perimeter error            0.011303\n",
            "worst smoothness           0.010644\n",
            "worst symmetry             0.010120\n",
            "concavity error            0.009386\n",
            "mean smoothness            0.007285\n",
            "fractal dimension error    0.005321\n",
            "compactness error          0.005253\n",
            "worst fractal dimension    0.005210\n",
            "texture error              0.004724\n",
            "smoothness error           0.004271\n",
            "symmetry error             0.004018\n",
            "mean fractal dimension     0.003886\n",
            "mean symmetry              0.003770\n",
            "concave points error       0.003513\n",
            "dtype: float64\n"
          ]
        }
      ]
    },
    {
      "cell_type": "markdown",
      "metadata": {
        "id": "cb5c4f76"
      },
      "source": [
        "**24: Train a Random Forest Regressor and compare its performance with a single Decision Tree**"
      ]
    },
    {
      "cell_type": "code",
      "metadata": {
        "colab": {
          "base_uri": "https://localhost:8080/"
        },
        "id": "7cf0bf18",
        "outputId": "2da46bfd-7e78-4de3-dd49-d8005571c714"
      },
      "source": [
        "from sklearn.datasets import make_regression\n",
        "from sklearn.tree import DecisionTreeRegressor\n",
        "from sklearn.ensemble import RandomForestRegressor\n",
        "from sklearn.model_selection import train_test_split\n",
        "from sklearn.metrics import mean_squared_error\n",
        "\n",
        "# Generate a sample dataset\n",
        "X, y = make_regression(n_samples=1000, n_features=20, random_state=42)\n",
        "\n",
        "# Split data into training and testing sets\n",
        "X_train, X_test, y_train, y_test = train_test_split(X, y, test_size=0.2, random_state=42)\n",
        "\n",
        "# Train a single Decision Tree Regressor\n",
        "dt_reg = DecisionTreeRegressor(random_state=42)\n",
        "dt_reg.fit(X_train, y_train)\n",
        "dt_pred = dt_reg.predict(X_test)\n",
        "dt_mse = mean_squared_error(y_test, dt_pred)\n",
        "print(f\"Single Decision Tree Regressor MSE: {dt_mse}\")\n",
        "\n",
        "# Train a Random Forest Regressor\n",
        "rf_reg = RandomForestRegressor(n_estimators=100, random_state=42)\n",
        "rf_reg.fit(X_train, y_train)\n",
        "rf_pred = rf_reg.predict(X_test)\n",
        "rf_mse = mean_squared_error(y_test, rf_pred)\n",
        "print(f\"Random Forest Regressor MSE: {rf_mse}\")\n",
        "\n",
        "# Compare performance\n",
        "if rf_mse < dt_mse:\n",
        "    print(\"Random Forest Regressor performed better than a single Decision Tree Regressor.\")\n",
        "else:\n",
        "    print(\"Single Decision Tree Regressor performed better or equal to Random Forest Regressor.\")"
      ],
      "execution_count": 4,
      "outputs": [
        {
          "output_type": "stream",
          "name": "stdout",
          "text": [
            "Single Decision Tree Regressor MSE: 21352.575144570023\n",
            "Random Forest Regressor MSE: 8592.244973007591\n",
            "Random Forest Regressor performed better than a single Decision Tree Regressor.\n"
          ]
        }
      ]
    },
    {
      "cell_type": "markdown",
      "metadata": {
        "id": "bf2e52ec"
      },
      "source": [
        "**25: Compute the Out-of-Bag (OOB) Score for a Random Forest Classifier**"
      ]
    },
    {
      "cell_type": "code",
      "metadata": {
        "colab": {
          "base_uri": "https://localhost:8080/"
        },
        "id": "840feec1",
        "outputId": "1cbcc837-4bf1-4d56-fd3f-e449c4366e4a"
      },
      "source": [
        "from sklearn.datasets import make_classification\n",
        "from sklearn.ensemble import RandomForestClassifier\n",
        "from sklearn.model_selection import train_test_split\n",
        "\n",
        "# Generate a sample dataset\n",
        "X, y = make_classification(n_samples=1000, n_features=20, random_state=42)\n",
        "\n",
        "# Split data into training and testing sets\n",
        "X_train, X_test, y_train, y_test = train_test_split(X, y, test_size=0.2, random_state=42)\n",
        "\n",
        "# Create a Random Forest Classifier with oob_score=True\n",
        "rf_clf_oob = RandomForestClassifier(n_estimators=100, oob_score=True, random_state=42)\n",
        "\n",
        "# Train the model\n",
        "rf_clf_oob.fit(X_train, y_train)\n",
        "\n",
        "# Get the OOB score\n",
        "oob_score = rf_clf_oob.oob_score_\n",
        "\n",
        "# Print the OOB score\n",
        "print(f\"Random Forest Classifier OOB Score: {oob_score}\")"
      ],
      "execution_count": 5,
      "outputs": [
        {
          "output_type": "stream",
          "name": "stdout",
          "text": [
            "Random Forest Classifier OOB Score: 0.89\n"
          ]
        }
      ]
    },
    {
      "cell_type": "markdown",
      "metadata": {
        "id": "113e5ac2"
      },
      "source": [
        "**26: Train a Bagging Classifier using SVM as a base estimator and print accuracy**"
      ]
    },
    {
      "cell_type": "code",
      "metadata": {
        "colab": {
          "base_uri": "https://localhost:8080/"
        },
        "id": "84abe5fb",
        "outputId": "647ada71-a59b-4486-f679-991be29168d6"
      },
      "source": [
        "from sklearn.datasets import make_classification\n",
        "from sklearn.svm import SVC\n",
        "from sklearn.ensemble import BaggingClassifier\n",
        "from sklearn.model_selection import train_test_split\n",
        "from sklearn.metrics import accuracy_score\n",
        "\n",
        "# Generate a sample dataset\n",
        "X, y = make_classification(n_samples=1000, n_features=20, random_state=42)\n",
        "\n",
        "# Split data into training and testing sets\n",
        "X_train, X_test, y_train, y_test = train_test_split(X, y, test_size=0.2, random_state=42)\n",
        "\n",
        "# Create a Bagging Classifier with SVM as base estimator\n",
        "bagging_svm = BaggingClassifier(estimator=SVC(), n_estimators=10, random_state=42)\n",
        "\n",
        "# Train the model\n",
        "bagging_svm.fit(X_train, y_train)\n",
        "\n",
        "# Predict on the test set\n",
        "y_pred = bagging_svm.predict(X_test)\n",
        "\n",
        "# Calculate and print accuracy\n",
        "accuracy = accuracy_score(y_test, y_pred)\n",
        "print(f\"Bagging Classifier with SVM Accuracy: {accuracy}\")"
      ],
      "execution_count": 6,
      "outputs": [
        {
          "output_type": "stream",
          "name": "stdout",
          "text": [
            "Bagging Classifier with SVM Accuracy: 0.87\n"
          ]
        }
      ]
    },
    {
      "cell_type": "markdown",
      "metadata": {
        "id": "55fea22b"
      },
      "source": [
        "**27: Train a Random Forest Classifier with different numbers of trees and compare accuracy**"
      ]
    },
    {
      "cell_type": "code",
      "metadata": {
        "colab": {
          "base_uri": "https://localhost:8080/"
        },
        "id": "64e9d88c",
        "outputId": "067ac810-b890-4bdb-8c8e-ca9adb4f1b87"
      },
      "source": [
        "from sklearn.datasets import make_classification\n",
        "from sklearn.ensemble import RandomForestClassifier\n",
        "from sklearn.model_selection import train_test_split\n",
        "from sklearn.metrics import accuracy_score\n",
        "\n",
        "# Generate a sample dataset\n",
        "X, y = make_classification(n_samples=1000, n_features=20, random_state=42)\n",
        "\n",
        "# Split data into training and testing sets\n",
        "X_train, X_test, y_train, y_test = train_test_split(X, y, test_size=0.2, random_state=42)\n",
        "\n",
        "# Train Random Forest with different numbers of trees\n",
        "n_estimators_list = [10, 50, 100, 200]\n",
        "for n_estimators in n_estimators_list:\n",
        "    rf_clf = RandomForestClassifier(n_estimators=n_estimators, random_state=42)\n",
        "    rf_clf.fit(X_train, y_train)\n",
        "    y_pred = rf_clf.predict(X_test)\n",
        "    accuracy = accuracy_score(y_test, y_pred)\n",
        "    print(f\"Random Forest Classifier with {n_estimators} trees Accuracy: {accuracy}\")"
      ],
      "execution_count": 7,
      "outputs": [
        {
          "output_type": "stream",
          "name": "stdout",
          "text": [
            "Random Forest Classifier with 10 trees Accuracy: 0.855\n",
            "Random Forest Classifier with 50 trees Accuracy: 0.88\n",
            "Random Forest Classifier with 100 trees Accuracy: 0.9\n",
            "Random Forest Classifier with 200 trees Accuracy: 0.89\n"
          ]
        }
      ]
    },
    {
      "cell_type": "markdown",
      "metadata": {
        "id": "e0acaf60"
      },
      "source": [
        "**28: Train a Bagging Classifier using Logistic Regression as a base estimator and print AUC score**"
      ]
    },
    {
      "cell_type": "code",
      "metadata": {
        "colab": {
          "base_uri": "https://localhost:8080/"
        },
        "id": "e95a1eab",
        "outputId": "e0db79f3-3490-4fb6-eefb-8e8b4d1223ab"
      },
      "source": [
        "from sklearn.datasets import make_classification\n",
        "from sklearn.linear_model import LogisticRegression\n",
        "from sklearn.ensemble import BaggingClassifier\n",
        "from sklearn.model_selection import train_test_split\n",
        "from sklearn.metrics import roc_auc_score\n",
        "\n",
        "# Generate a sample dataset\n",
        "X, y = make_classification(n_samples=1000, n_features=20, random_state=42)\n",
        "\n",
        "# Split data into training and testing sets\n",
        "X_train, X_test, y_train, y_test = train_test_split(X, y, test_size=0.2, random_state=42)\n",
        "\n",
        "# Create a Bagging Classifier with Logistic Regression as base estimator\n",
        "# Note: LogisticRegression needs probability predictions for AUC\n",
        "bagging_lr = BaggingClassifier(estimator=LogisticRegression(max_iter=1000), n_estimators=10, random_state=42)\n",
        "\n",
        "# Train the model\n",
        "bagging_lr.fit(X_train, y_train)\n",
        "\n",
        "# Predict probabilities on the test set\n",
        "y_pred_proba = bagging_lr.predict_proba(X_test)[:, 1]\n",
        "\n",
        "# Calculate and print AUC score\n",
        "auc_score = roc_auc_score(y_test, y_pred_proba)\n",
        "print(f\"Bagging Classifier with Logistic Regression AUC Score: {auc_score}\")"
      ],
      "execution_count": 8,
      "outputs": [
        {
          "output_type": "stream",
          "name": "stdout",
          "text": [
            "Bagging Classifier with Logistic Regression AUC Score: 0.9225203497135966\n"
          ]
        }
      ]
    },
    {
      "cell_type": "markdown",
      "metadata": {
        "id": "5cfc155f"
      },
      "source": [
        "**29: Train a Random Forest Regressor and analyze feature importance scores**"
      ]
    },
    {
      "cell_type": "code",
      "metadata": {
        "colab": {
          "base_uri": "https://localhost:8080/"
        },
        "id": "46e53d06",
        "outputId": "aad3d771-ae9a-4f6d-aba8-8df52b665236"
      },
      "source": [
        "from sklearn.datasets import make_regression\n",
        "from sklearn.ensemble import RandomForestRegressor\n",
        "from sklearn.model_selection import train_test_split\n",
        "import pandas as pd\n",
        "\n",
        "# Generate a sample dataset\n",
        "X, y = make_regression(n_samples=1000, n_features=20, random_state=42)\n",
        "\n",
        "# Split data into training and testing sets\n",
        "X_train, X_test, y_train, y_test = train_test_split(X, y, test_size=0.2, random_state=42)\n",
        "\n",
        "# Create a Random Forest Regressor\n",
        "rf_reg = RandomForestRegressor(n_estimators=100, random_state=42)\n",
        "\n",
        "# Train the model\n",
        "rf_reg.fit(X_train, y_train)\n",
        "\n",
        "# Get feature importances\n",
        "feature_importances = rf_reg.feature_importances_\n",
        "\n",
        "# Create a pandas Series for better visualization\n",
        "importance_series = pd.Series(feature_importances, index=[f'feature_{i}' for i in range(X.shape[1])]) # Using generic names as make_regression doesn't provide feature names\n",
        "\n",
        "# Sort feature importances and print\n",
        "sorted_importance = importance_series.sort_values(ascending=False)\n",
        "print(\"Feature Importances:\")\n",
        "print(sorted_importance)"
      ],
      "execution_count": 9,
      "outputs": [
        {
          "output_type": "stream",
          "name": "stdout",
          "text": [
            "Feature Importances:\n",
            "feature_16    0.278247\n",
            "feature_4     0.200561\n",
            "feature_15    0.145842\n",
            "feature_5     0.125427\n",
            "feature_2     0.101418\n",
            "feature_18    0.022312\n",
            "feature_1     0.016148\n",
            "feature_10    0.009990\n",
            "feature_17    0.009499\n",
            "feature_12    0.009324\n",
            "feature_11    0.009227\n",
            "feature_14    0.009062\n",
            "feature_13    0.008921\n",
            "feature_9     0.008675\n",
            "feature_8     0.008085\n",
            "feature_6     0.008013\n",
            "feature_7     0.007857\n",
            "feature_19    0.007358\n",
            "feature_0     0.007162\n",
            "feature_3     0.006872\n",
            "dtype: float64\n"
          ]
        }
      ]
    },
    {
      "cell_type": "markdown",
      "metadata": {
        "id": "d6f881a2"
      },
      "source": [
        "**30: Train an ensemble model using both Bagging and Random Forest and compare accuracy.**"
      ]
    },
    {
      "cell_type": "code",
      "metadata": {
        "colab": {
          "base_uri": "https://localhost:8080/"
        },
        "id": "850da112",
        "outputId": "5ff8052c-06b1-4e21-ee12-1e6f31a7be67"
      },
      "source": [
        "from sklearn.datasets import make_classification\n",
        "from sklearn.tree import DecisionTreeClassifier\n",
        "from sklearn.ensemble import BaggingClassifier, RandomForestClassifier\n",
        "from sklearn.model_selection import train_test_split\n",
        "from sklearn.metrics import accuracy_score\n",
        "\n",
        "# Generate a sample dataset\n",
        "X, y = make_classification(n_samples=1000, n_features=20, random_state=42)\n",
        "\n",
        "# Split data into training and testing sets\n",
        "X_train, X_test, y_train, y_test = train_test_split(X, y, test_size=0.2, random_state=42)\n",
        "\n",
        "# Train a Bagging Classifier\n",
        "bagging_clf = BaggingClassifier(estimator=DecisionTreeClassifier(), n_estimators=10, random_state=42)\n",
        "bagging_clf.fit(X_train, y_train)\n",
        "bagging_pred = bagging_clf.predict(X_test)\n",
        "bagging_accuracy = accuracy_score(y_test, bagging_pred)\n",
        "print(f\"Bagging Classifier Accuracy: {bagging_accuracy}\")\n",
        "\n",
        "# Train a Random Forest Classifier\n",
        "rf_clf = RandomForestClassifier(n_estimators=100, random_state=42)\n",
        "rf_clf.fit(X_train, y_train)\n",
        "rf_pred = rf_clf.predict(X_test)\n",
        "rf_accuracy = accuracy_score(y_test, rf_pred)\n",
        "print(f\"Random Forest Classifier Accuracy: {rf_accuracy}\")\n",
        "\n",
        "# Compare performance\n",
        "if rf_accuracy > bagging_accuracy:\n",
        "    print(\"Random Forest Classifier performed better than Bagging Classifier.\")\n",
        "elif bagging_accuracy > rf_accuracy:\n",
        "    print(\"Bagging Classifier performed better than Random Forest Classifier.\")\n",
        "else:\n",
        "    print(\"Bagging Classifier and Random Forest Classifier performed equally.\")"
      ],
      "execution_count": 10,
      "outputs": [
        {
          "output_type": "stream",
          "name": "stdout",
          "text": [
            "Bagging Classifier Accuracy: 0.885\n",
            "Random Forest Classifier Accuracy: 0.9\n",
            "Random Forest Classifier performed better than Bagging Classifier.\n"
          ]
        }
      ]
    },
    {
      "cell_type": "markdown",
      "metadata": {
        "id": "3d9e759d"
      },
      "source": [
        "**31: Train a Random Forest Classifier and tune hyperparameters using GridSearchCV**"
      ]
    },
    {
      "cell_type": "code",
      "metadata": {
        "colab": {
          "base_uri": "https://localhost:8080/"
        },
        "id": "9891a435",
        "outputId": "17137f92-8acc-49e4-cbb4-19d1f29361b7"
      },
      "source": [
        "from sklearn.datasets import make_classification\n",
        "from sklearn.ensemble import RandomForestClassifier\n",
        "from sklearn.model_selection import train_test_split, GridSearchCV\n",
        "\n",
        "# Generate a sample dataset\n",
        "X, y = make_classification(n_samples=1000, n_features=20, random_state=42)\n",
        "\n",
        "# Split data into training and testing sets\n",
        "X_train, X_test, y_train, y_test = train_test_split(X, y, test_size=0.2, random_state=42)\n",
        "\n",
        "# Create a Random Forest Classifier\n",
        "rf_clf = RandomForestClassifier(random_state=42)\n",
        "\n",
        "# Define hyperparameters to tune\n",
        "param_grid = {\n",
        "    'n_estimators': [50, 100, 200],\n",
        "    'max_depth': [None, 10, 20],\n",
        "    'min_samples_split': [2, 5, 10]\n",
        "}\n",
        "\n",
        "# Perform GridSearchCV\n",
        "grid_search = GridSearchCV(estimator=rf_clf, param_grid=param_grid, cv=5, scoring='accuracy')\n",
        "grid_search.fit(X_train, y_train)\n",
        "\n",
        "# Print best hyperparameters and best score\n",
        "print(f\"Best hyperparameters: {grid_search.best_params_}\")\n",
        "print(f\"Best accuracy score: {grid_search.best_score_}\")"
      ],
      "execution_count": 11,
      "outputs": [
        {
          "output_type": "stream",
          "name": "stdout",
          "text": [
            "Best hyperparameters: {'max_depth': None, 'min_samples_split': 5, 'n_estimators': 50}\n",
            "Best accuracy score: 0.89375\n"
          ]
        }
      ]
    },
    {
      "cell_type": "markdown",
      "metadata": {
        "id": "4b5b6d88"
      },
      "source": [
        "**32: Train a Bagging Regressor with different numbers of base estimators and compare performance**"
      ]
    },
    {
      "cell_type": "code",
      "metadata": {
        "colab": {
          "base_uri": "https://localhost:8080/"
        },
        "id": "52cb9cba",
        "outputId": "035a4914-f21f-42a6-9246-8b4122cce417"
      },
      "source": [
        "from sklearn.datasets import make_regression\n",
        "from sklearn.tree import DecisionTreeRegressor\n",
        "from sklearn.ensemble import BaggingRegressor\n",
        "from sklearn.model_selection import train_test_split\n",
        "from sklearn.metrics import mean_squared_error\n",
        "\n",
        "# Generate a sample dataset\n",
        "X, y = make_regression(n_samples=1000, n_features=20, random_state=42)\n",
        "\n",
        "# Split data into training and testing sets\n",
        "X_train, X_test, y_train, y_test = train_test_split(X, y, test_size=0.2, random_state=42)\n",
        "\n",
        "# Train Bagging Regressor with different numbers of base estimators\n",
        "n_estimators_list = [10, 50, 100]\n",
        "for n_estimators in n_estimators_list:\n",
        "    bagging_reg = BaggingRegressor(estimator=DecisionTreeRegressor(), n_estimators=n_estimators, random_state=42)\n",
        "    bagging_reg.fit(X_train, y_train)\n",
        "    y_pred = bagging_reg.predict(X_test)\n",
        "    mse = mean_squared_error(y_test, y_pred)\n",
        "    print(f\"Bagging Regressor with {n_estimators} estimators MSE: {mse}\")"
      ],
      "execution_count": 12,
      "outputs": [
        {
          "output_type": "stream",
          "name": "stdout",
          "text": [
            "Bagging Regressor with 10 estimators MSE: 9462.992186060874\n",
            "Bagging Regressor with 50 estimators MSE: 8308.576076264717\n",
            "Bagging Regressor with 100 estimators MSE: 8517.426228499578\n"
          ]
        }
      ]
    },
    {
      "cell_type": "markdown",
      "metadata": {
        "id": "572eaa86"
      },
      "source": [
        "**33: Train a Random Forest Classifier and analyze misclassified samples**"
      ]
    },
    {
      "cell_type": "code",
      "metadata": {
        "colab": {
          "base_uri": "https://localhost:8080/"
        },
        "id": "6cb7aafa",
        "outputId": "22ef2cea-cd9e-4af4-ce13-58f5687ce891"
      },
      "source": [
        "from sklearn.datasets import make_classification\n",
        "from sklearn.ensemble import RandomForestClassifier\n",
        "from sklearn.model_selection import train_test_split\n",
        "import numpy as np\n",
        "\n",
        "# Generate a sample dataset\n",
        "X, y = make_classification(n_samples=1000, n_features=20, random_state=42)\n",
        "\n",
        "# Split data into training and testing sets\n",
        "X_train, X_test, y_train, y_test = train_test_split(X, y, test_size=0.2, random_state=42)\n",
        "\n",
        "# Create a Random Forest Classifier\n",
        "rf_clf = RandomForestClassifier(n_estimators=100, random_state=42)\n",
        "\n",
        "# Train the model\n",
        "rf_clf.fit(X_train, y_train)\n",
        "\n",
        "# Predict on the test set\n",
        "y_pred = rf_clf.predict(X_test)\n",
        "\n",
        "# Find misclassified samples\n",
        "misclassified_indices = np.where(y_test != y_pred)[0]\n",
        "\n",
        "print(f\"Number of misclassified samples: {len(misclassified_indices)}\")\n",
        "print(\"Indices of misclassified samples:\")\n",
        "print(misclassified_indices)\n",
        "\n",
        "# You can further analyze these misclassified samples, e.g.,\n",
        "# print(\"Misclassified samples (features):\")\n",
        "# print(X_test[misclassified_indices])\n",
        "# print(\"True labels of misclassified samples:\")\n",
        "# print(y_test[misclassified_indices])\n",
        "# print(\"Predicted labels of misclassified samples:\")\n",
        "# print(y_pred[misclassified_indices])"
      ],
      "execution_count": 13,
      "outputs": [
        {
          "output_type": "stream",
          "name": "stdout",
          "text": [
            "Number of misclassified samples: 20\n",
            "Indices of misclassified samples:\n",
            "[  2   8  19  27  30  43  45  57  59  94  99 107 112 127 128 159 163 171\n",
            " 173 184]\n"
          ]
        }
      ]
    },
    {
      "cell_type": "markdown",
      "metadata": {
        "id": "47846c71"
      },
      "source": [
        "**34: Train a Bagging Classifier and compare its performance with a single Decision Tree Classifier**"
      ]
    },
    {
      "cell_type": "code",
      "metadata": {
        "colab": {
          "base_uri": "https://localhost:8080/"
        },
        "id": "1b4faa30",
        "outputId": "e8e0ae26-9448-41d2-b6b9-25a91ba2d48a"
      },
      "source": [
        "from sklearn.datasets import make_classification\n",
        "from sklearn.tree import DecisionTreeClassifier\n",
        "from sklearn.ensemble import BaggingClassifier\n",
        "from sklearn.model_selection import train_test_split\n",
        "from sklearn.metrics import accuracy_score\n",
        "\n",
        "# Generate a sample dataset\n",
        "X, y = make_classification(n_samples=1000, n_features=20, random_state=42)\n",
        "\n",
        "# Split data into training and testing sets\n",
        "X_train, X_test, y_train, y_test = train_test_split(X, y, test_size=0.2, random_state=42)\n",
        "\n",
        "# Train a single Decision Tree Classifier\n",
        "dt_clf = DecisionTreeClassifier(random_state=42)\n",
        "dt_clf.fit(X_train, y_train)\n",
        "dt_pred = dt_clf.predict(X_test)\n",
        "dt_accuracy = accuracy_score(y_test, dt_pred)\n",
        "print(f\"Single Decision Tree Classifier Accuracy: {dt_accuracy}\")\n",
        "\n",
        "# Train a Bagging Classifier\n",
        "bagging_clf = BaggingClassifier(estimator=DecisionTreeClassifier(), n_estimators=10, random_state=42)\n",
        "bagging_clf.fit(X_train, y_train)\n",
        "bagging_pred = bagging_clf.predict(X_test)\n",
        "bagging_accuracy = accuracy_score(y_test, bagging_pred)\n",
        "print(f\"Bagging Classifier Accuracy: {bagging_accuracy}\")\n",
        "\n",
        "# Compare performance\n",
        "if bagging_accuracy > dt_accuracy:\n",
        "    print(\"Bagging Classifier performed better than a single Decision Tree Classifier.\")\n",
        "elif dt_accuracy > bagging_accuracy:\n",
        "    print(\"Single Decision Tree Classifier performed better than Bagging Classifier.\")\n",
        "else:\n",
        "    print(\"Bagging Classifier and Single Decision Tree Classifier performed equally.\")"
      ],
      "execution_count": 14,
      "outputs": [
        {
          "output_type": "stream",
          "name": "stdout",
          "text": [
            "Single Decision Tree Classifier Accuracy: 0.875\n",
            "Bagging Classifier Accuracy: 0.885\n",
            "Bagging Classifier performed better than a single Decision Tree Classifier.\n"
          ]
        }
      ]
    },
    {
      "cell_type": "markdown",
      "metadata": {
        "id": "28ac8b89"
      },
      "source": [
        "**35: Train a Random Forest Classifier and visualize the confusion matrix**"
      ]
    },
    {
      "cell_type": "code",
      "metadata": {
        "colab": {
          "base_uri": "https://localhost:8080/",
          "height": 472
        },
        "id": "105ccd96",
        "outputId": "4d1b4544-c0a3-458f-8059-f1a3634faaa9"
      },
      "source": [
        "from sklearn.datasets import make_classification\n",
        "from sklearn.ensemble import RandomForestClassifier\n",
        "from sklearn.model_selection import train_test_split\n",
        "from sklearn.metrics import confusion_matrix, ConfusionMatrixDisplay\n",
        "import matplotlib.pyplot as plt\n",
        "\n",
        "# Generate a sample dataset\n",
        "X, y = make_classification(n_samples=1000, n_features=20, random_state=42)\n",
        "\n",
        "# Split data into training and testing sets\n",
        "X_train, X_test, y_train, y_test = train_test_split(X, y, test_size=0.2, random_state=42)\n",
        "\n",
        "# Create a Random Forest Classifier\n",
        "rf_clf = RandomForestClassifier(n_estimators=100, random_state=42)\n",
        "\n",
        "# Train the model\n",
        "rf_clf.fit(X_train, y_train)\n",
        "\n",
        "# Predict on the test set\n",
        "y_pred = rf_clf.predict(X_test)\n",
        "\n",
        "# Compute confusion matrix\n",
        "cm = confusion_matrix(y_test, y_pred)\n",
        "\n",
        "# Display confusion matrix\n",
        "disp = ConfusionMatrixDisplay(confusion_matrix=cm)\n",
        "disp.plot()\n",
        "plt.title(\"Confusion Matrix for Random Forest Classifier\")\n",
        "plt.show()"
      ],
      "execution_count": 15,
      "outputs": [
        {
          "output_type": "display_data",
          "data": {
            "text/plain": [
              "<Figure size 640x480 with 2 Axes>"
            ],
            "image/png": "[encoded data removed]"
          },
          "metadata": {}
        }
      ]
    },
    {
      "cell_type": "markdown",
      "metadata": {
        "id": "662e2232"
      },
      "source": [
        "**36: Train a Stacking Classifier using Decision Trees, SVM, and Logistic Regression, and compare accuracy**"
      ]
    },
    {
      "cell_type": "code",
      "metadata": {
        "colab": {
          "base_uri": "https://localhost:8080/"
        },
        "id": "b8e3b63c",
        "outputId": "b1ea974a-57b2-46b1-c07f-2d9d9706e8f7"
      },
      "source": [
        "from sklearn.datasets import make_classification\n",
        "from sklearn.tree import DecisionTreeClassifier\n",
        "from sklearn.svm import SVC\n",
        "from sklearn.linear_model import LogisticRegression\n",
        "from sklearn.ensemble import StackingClassifier\n",
        "from sklearn.model_selection import train_test_split\n",
        "from sklearn.metrics import accuracy_score\n",
        "\n",
        "# Generate a sample dataset\n",
        "X, y = make_classification(n_samples=1000, n_features=20, random_state=42)\n",
        "\n",
        "# Split data into training and testing sets\n",
        "X_train, X_test, y_train, y_test = train_test_split(X, y, test_size=0.2, random_state=42)\n",
        "\n",
        "# Define base models\n",
        "estimators = [\n",
        "    ('dt', DecisionTreeClassifier(random_state=42)),\n",
        "    ('svm', SVC(probability=True, random_state=42)), # SVM needs probability=True for stacking\n",
        "    ('lr', LogisticRegression(max_iter=1000, random_state=42))\n",
        "]\n",
        "\n",
        "# Create a Stacking Classifier\n",
        "# The final_estimator is the model that combines the predictions of the base estimators\n",
        "stacking_clf = StackingClassifier(estimators=estimators, final_estimator=LogisticRegression(random_state=42), cv=5)\n",
        "\n",
        "# Train the model\n",
        "stacking_clf.fit(X_train, y_train)\n",
        "\n",
        "# Predict on the test set\n",
        "y_pred = stacking_clf.predict(X_test)\n",
        "\n",
        "# Calculate and print accuracy\n",
        "accuracy = accuracy_score(y_test, y_pred)\n",
        "print(f\"Stacking Classifier Accuracy: {accuracy}\")"
      ],
      "execution_count": 16,
      "outputs": [
        {
          "output_type": "stream",
          "name": "stdout",
          "text": [
            "Stacking Classifier Accuracy: 0.865\n"
          ]
        }
      ]
    },
    {
      "cell_type": "markdown",
      "metadata": {
        "id": "eb8a1718"
      },
      "source": [
        "**37: Train a Random Forest Classifier and print the top 5 most important features**"
      ]
    },
    {
      "cell_type": "code",
      "metadata": {
        "colab": {
          "base_uri": "https://localhost:8080/"
        },
        "id": "71ca1012",
        "outputId": "29982e6b-1095-4ca1-b385-d6a3a344f95a"
      },
      "source": [
        "from sklearn.datasets import make_classification\n",
        "from sklearn.ensemble import RandomForestClassifier\n",
        "from sklearn.model_selection import train_test_split\n",
        "import pandas as pd\n",
        "\n",
        "# Generate a sample dataset\n",
        "X, y = make_classification(n_samples=1000, n_features=20, random_state=42)\n",
        "\n",
        "# Split data into training and testing sets\n",
        "X_train, X_test, y_train, y_test = train_test_split(X, y, test_size=0.2, random_state=42)\n",
        "\n",
        "# Create a Random Forest Classifier\n",
        "rf_clf = RandomForestClassifier(n_estimators=100, random_state=42)\n",
        "\n",
        "# Train the model\n",
        "rf_clf.fit(X_train, y_train)\n",
        "\n",
        "# Get feature importances\n",
        "feature_importances = rf_clf.feature_importances_\n",
        "\n",
        "# Create a pandas Series for better visualization\n",
        "importance_series = pd.Series(feature_importances, index=[f'feature_{i}' for i in range(X.shape[1])])\n",
        "\n",
        "# Sort feature importances and print the top 5\n",
        "sorted_importance = importance_series.sort_values(ascending=False)\n",
        "print(\"Top 5 Feature Importances:\")\n",
        "print(sorted_importance.head())"
      ],
      "execution_count": 17,
      "outputs": [
        {
          "output_type": "stream",
          "name": "stdout",
          "text": [
            "Top 5 Feature Importances:\n",
            "feature_5     0.363134\n",
            "feature_18    0.177252\n",
            "feature_1     0.101820\n",
            "feature_14    0.075575\n",
            "feature_11    0.025690\n",
            "dtype: float64\n"
          ]
        }
      ]
    },
    {
      "cell_type": "markdown",
      "metadata": {
        "id": "33a2b5fb"
      },
      "source": [
        "**38: Train a Bagging Classifier and evaluate performance using Precision, Recall, and F1-score**"
      ]
    },
    {
      "cell_type": "code",
      "metadata": {
        "colab": {
          "base_uri": "https://localhost:8080/"
        },
        "id": "a3e79a63",
        "outputId": "fc5aa23c-0a23-4579-f1ab-2a4a70a98485"
      },
      "source": [
        "from sklearn.datasets import make_classification\n",
        "from sklearn.tree import DecisionTreeClassifier\n",
        "from sklearn.ensemble import BaggingClassifier\n",
        "from sklearn.model_selection import train_test_split\n",
        "from sklearn.metrics import precision_score, recall_score, f1_score\n",
        "\n",
        "# Generate a sample dataset\n",
        "X, y = make_classification(n_samples=1000, n_features=20, random_state=42)\n",
        "\n",
        "# Split data into training and testing sets\n",
        "X_train, X_test, y_train, y_test = train_test_split(X, y, test_size=0.2, random_state=42)\n",
        "\n",
        "# Create a Bagging Classifier with Decision Tree as base estimator\n",
        "bagging_clf = BaggingClassifier(estimator=DecisionTreeClassifier(), n_estimators=10, random_state=42)\n",
        "\n",
        "# Train the model\n",
        "bagging_clf.fit(X_train, y_train)\n",
        "\n",
        "# Predict on the test set\n",
        "y_pred = bagging_clf.predict(X_test)\n",
        "\n",
        "# Calculate and print Precision, Recall, and F1-score\n",
        "precision = precision_score(y_test, y_pred)\n",
        "recall = recall_score(y_test, y_pred)\n",
        "f1 = f1_score(y_test, y_pred)\n",
        "\n",
        "print(f\"Bagging Classifier Precision: {precision}\")\n",
        "print(f\"Bagging Classifier Recall: {recall}\")\n",
        "print(f\"Bagging Classifier F1-score: {f1}\")"
      ],
      "execution_count": 18,
      "outputs": [
        {
          "output_type": "stream",
          "name": "stdout",
          "text": [
            "Bagging Classifier Precision: 0.9565217391304348\n",
            "Bagging Classifier Recall: 0.822429906542056\n",
            "Bagging Classifier F1-score: 0.8844221105527639\n"
          ]
        }
      ]
    },
    {
      "cell_type": "markdown",
      "metadata": {
        "id": "9118960a"
      },
      "source": [
        "**39: Train a Random Forest Classifier and analyze the effect of max_depth on accuracy**"
      ]
    },
    {
      "cell_type": "code",
      "metadata": {
        "colab": {
          "base_uri": "https://localhost:8080/"
        },
        "id": "3603f722",
        "outputId": "e5e14664-cf28-4a83-a97f-5395e0518ef5"
      },
      "source": [
        "from sklearn.datasets import make_classification\n",
        "from sklearn.ensemble import RandomForestClassifier\n",
        "from sklearn.model_selection import train_test_split\n",
        "from sklearn.metrics import accuracy_score\n",
        "\n",
        "# Generate a sample dataset\n",
        "X, y = make_classification(n_samples=1000, n_features=20, random_state=42)\n",
        "\n",
        "# Split data into training and testing sets\n",
        "X_train, X_test, y_train, y_test = train_test_split(X, y, test_size=0.2, random_state=42)\n",
        "\n",
        "# Train Random Forest with different max_depth values\n",
        "max_depth_list = [None, 5, 10, 20]\n",
        "for max_depth in max_depth_list:\n",
        "    rf_clf = RandomForestClassifier(n_estimators=100, max_depth=max_depth, random_state=42)\n",
        "    rf_clf.fit(X_train, y_train)\n",
        "    y_pred = rf_clf.predict(X_test)\n",
        "    accuracy = accuracy_score(y_test, y_pred)\n",
        "    print(f\"Random Forest Classifier with max_depth={max_depth} Accuracy: {accuracy}\")"
      ],
      "execution_count": 19,
      "outputs": [
        {
          "output_type": "stream",
          "name": "stdout",
          "text": [
            "Random Forest Classifier with max_depth=None Accuracy: 0.9\n",
            "Random Forest Classifier with max_depth=5 Accuracy: 0.88\n",
            "Random Forest Classifier with max_depth=10 Accuracy: 0.885\n",
            "Random Forest Classifier with max_depth=20 Accuracy: 0.9\n"
          ]
        }
      ]
    },
    {
      "cell_type": "markdown",
      "metadata": {
        "id": "cc733c41"
      },
      "source": [
        "**40: Train a Bagging Regressor using different base estimators (DecisionTree and KNeighbors) and compare performance**"
      ]
    },
    {
      "cell_type": "code",
      "metadata": {
        "colab": {
          "base_uri": "https://localhost:8080/"
        },
        "id": "e6266d6d",
        "outputId": "75cc3f5f-0e67-4e0d-93a7-036d2f8d23fb"
      },
      "source": [
        "from sklearn.datasets import make_regression\n",
        "from sklearn.tree import DecisionTreeRegressor\n",
        "from sklearn.neighbors import KNeighborsRegressor\n",
        "from sklearn.ensemble import BaggingRegressor\n",
        "from sklearn.model_selection import train_test_split\n",
        "from sklearn.metrics import mean_squared_error\n",
        "\n",
        "# Generate a sample dataset\n",
        "X, y = make_regression(n_samples=1000, n_features=20, random_state=42)\n",
        "\n",
        "# Split data into training and testing sets\n",
        "X_train, X_test, y_train, y_test = train_test_split(X, y, test_size=0.2, random_state=42)\n",
        "\n",
        "# Train a Bagging Regressor with Decision Tree as base estimator\n",
        "bagging_dt_reg = BaggingRegressor(estimator=DecisionTreeRegressor(), n_estimators=10, random_state=42)\n",
        "bagging_dt_reg.fit(X_train, y_train)\n",
        "bagging_dt_pred = bagging_dt_reg.predict(X_test)\n",
        "bagging_dt_mse = mean_squared_error(y_test, bagging_dt_pred)\n",
        "print(f\"Bagging Regressor with Decision Tree MSE: {bagging_dt_mse}\")\n",
        "\n",
        "# Train a Bagging Regressor with KNeighbors as base estimator\n",
        "bagging_knn_reg = BaggingRegressor(estimator=KNeighborsRegressor(), n_estimators=10, random_state=42)\n",
        "bagging_knn_reg.fit(X_train, y_train)\n",
        "bagging_knn_pred = bagging_knn_reg.predict(X_test)\n",
        "bagging_knn_mse = mean_squared_error(y_test, bagging_knn_pred)\n",
        "print(f\"Bagging Regressor with KNeighbors Regressor MSE: {bagging_knn_mse}\")\n",
        "\n",
        "# Compare performance\n",
        "if bagging_dt_mse < bagging_knn_mse:\n",
        "    print(\"Bagging Regressor with Decision Tree performed better than with KNeighbors Regressor.\")\n",
        "elif bagging_knn_mse < bagging_dt_mse:\n",
        "    print(\"Bagging Regressor with KNeighbors Regressor performed better than with Decision Tree.\")\n",
        "else:\n",
        "    print(\"Bagging Regressor with Decision Tree and KNeighbors Regressor performed equally.\")"
      ],
      "execution_count": 20,
      "outputs": [
        {
          "output_type": "stream",
          "name": "stdout",
          "text": [
            "Bagging Regressor with Decision Tree MSE: 9462.992186060874\n",
            "Bagging Regressor with KNeighbors Regressor MSE: 14832.180009089792\n",
            "Bagging Regressor with Decision Tree performed better than with KNeighbors Regressor.\n"
          ]
        }
      ]
    },
    {
      "cell_type": "markdown",
      "metadata": {
        "id": "3fd47ef2"
      },
      "source": [
        "**41: Train a Random Forest Classifier and evaluate its performance using ROC-AUC Score**"
      ]
    },
    {
      "cell_type": "code",
      "metadata": {
        "colab": {
          "base_uri": "https://localhost:8080/"
        },
        "id": "a9cb5780",
        "outputId": "606d5b3e-a135-49c0-f4a1-e586480be036"
      },
      "source": [
        "from sklearn.datasets import make_classification\n",
        "from sklearn.ensemble import RandomForestClassifier\n",
        "from sklearn.model_selection import train_test_split\n",
        "from sklearn.metrics import roc_auc_score\n",
        "\n",
        "# Generate a sample dataset\n",
        "X, y = make_classification(n_samples=1000, n_features=20, random_state=42)\n",
        "\n",
        "# Split data into training and testing sets\n",
        "X_train, X_test, y_train, y_test = train_test_split(X, y, test_size=0.2, random_state=42)\n",
        "\n",
        "# Create a Random Forest Classifier\n",
        "rf_clf = RandomForestClassifier(n_estimators=100, random_state=42)\n",
        "\n",
        "# Train the model\n",
        "rf_clf.fit(X_train, y_train)\n",
        "\n",
        "# Predict probabilities on the test set\n",
        "y_pred_proba = rf_clf.predict_proba(X_test)[:, 1]\n",
        "\n",
        "# Calculate and print ROC-AUC score\n",
        "auc_score = roc_auc_score(y_test, y_pred_proba)\n",
        "print(f\"Random Forest Classifier ROC-AUC Score: {auc_score}\")"
      ],
      "execution_count": 21,
      "outputs": [
        {
          "output_type": "stream",
          "name": "stdout",
          "text": [
            "Random Forest Classifier ROC-AUC Score: 0.9379459350819013\n"
          ]
        }
      ]
    },
    {
      "cell_type": "markdown",
      "metadata": {
        "id": "529a8733"
      },
      "source": [
        "**42: Train a Bagging Classifier and evaluate its performance using cross-validation**"
      ]
    },
    {
      "cell_type": "code",
      "metadata": {
        "colab": {
          "base_uri": "https://localhost:8080/"
        },
        "id": "b406fa8f",
        "outputId": "ba200261-d187-43e5-f4e5-d65741bce090"
      },
      "source": [
        "from sklearn.datasets import make_classification\n",
        "from sklearn.tree import DecisionTreeClassifier\n",
        "from sklearn.ensemble import BaggingClassifier\n",
        "from sklearn.model_selection import cross_val_score\n",
        "\n",
        "# Generate a sample dataset\n",
        "X, y = make_classification(n_samples=1000, n_features=20, random_state=42)\n",
        "\n",
        "# Create a Bagging Classifier with Decision Tree as base estimator\n",
        "bagging_clf = BaggingClassifier(estimator=DecisionTreeClassifier(), n_estimators=10, random_state=42)\n",
        "\n",
        "# Perform cross-validation\n",
        "cv_scores = cross_val_score(bagging_clf, X, y, cv=5)\n",
        "\n",
        "# Print cross-validation scores\n",
        "print(f\"Bagging Classifier Cross-Validation Scores: {cv_scores}\")\n",
        "print(f\"Bagging Classifier Mean Cross-Validation Accuracy: {cv_scores.mean()}\")"
      ],
      "execution_count": 22,
      "outputs": [
        {
          "output_type": "stream",
          "name": "stdout",
          "text": [
            "Bagging Classifier Cross-Validation Scores: [0.95  0.9   0.895 0.895 0.86 ]\n",
            "Bagging Classifier Mean Cross-Validation Accuracy: 0.9\n"
          ]
        }
      ]
    },
    {
      "cell_type": "markdown",
      "metadata": {
        "id": "ead21788"
      },
      "source": [
        "**43: Train a Random Forest Classifier and plot the Precision-Recall curve**"
      ]
    },
    {
      "cell_type": "code",
      "metadata": {
        "colab": {
          "base_uri": "https://localhost:8080/",
          "height": 472
        },
        "id": "b7165a10",
        "outputId": "921cce72-2b7e-4315-9921-388be876ccc1"
      },
      "source": [
        "from sklearn.datasets import make_classification\n",
        "from sklearn.ensemble import RandomForestClassifier\n",
        "from sklearn.model_selection import train_test_split\n",
        "from sklearn.metrics import precision_recall_curve, PrecisionRecallDisplay\n",
        "import matplotlib.pyplot as plt\n",
        "\n",
        "# Generate a sample dataset\n",
        "X, y = make_classification(n_samples=1000, n_features=20, random_state=42)\n",
        "\n",
        "# Split data into training and testing sets\n",
        "X_train, X_test, y_train, y_test = train_test_split(X, y, test_size=0.2, random_state=42)\n",
        "\n",
        "# Create a Random Forest Classifier\n",
        "rf_clf = RandomForestClassifier(n_estimators=100, random_state=42)\n",
        "\n",
        "# Train the model\n",
        "rf_clf.fit(X_train, y_train)\n",
        "\n",
        "# Predict probabilities on the test set\n",
        "y_pred_proba = rf_clf.predict_proba(X_test)[:, 1]\n",
        "\n",
        "# Compute precision-recall curve\n",
        "precision, recall, _ = precision_recall_curve(y_test, y_pred_proba)\n",
        "disp = PrecisionRecallDisplay(precision=precision, recall=recall)\n",
        "\n",
        "# Plot precision-recall curve\n",
        "disp.plot()\n",
        "plt.title(\"Precision-Recall Curve for Random Forest Classifier\")\n",
        "plt.show()"
      ],
      "execution_count": 23,
      "outputs": [
        {
          "output_type": "display_data",
          "data": {
            "text/plain": [
              "<Figure size 640x480 with 1 Axes>"
            ],
            "image/png": "[encoded data removed]"
          },
          "metadata": {}
        }
      ]
    },
    {
      "cell_type": "markdown",
      "metadata": {
        "id": "bca50415"
      },
      "source": [
        "**44: Train a Stacking Classifier with Random Forest and Logistic Regression and compare accuracy**"
      ]
    },
    {
      "cell_type": "code",
      "metadata": {
        "colab": {
          "base_uri": "https://localhost:8080/"
        },
        "id": "1e41dc3f",
        "outputId": "0eb7e10e-07bb-455d-c420-2caeb9848df9"
      },
      "source": [
        "from sklearn.datasets import make_classification\n",
        "from sklearn.ensemble import RandomForestClassifier, StackingClassifier\n",
        "from sklearn.linear_model import LogisticRegression\n",
        "from sklearn.model_selection import train_test_split\n",
        "from sklearn.metrics import accuracy_score\n",
        "\n",
        "# Generate a sample dataset\n",
        "X, y = make_classification(n_samples=1000, n_features=20, random_state=42)\n",
        "\n",
        "# Split data into training and testing sets\n",
        "X_train, X_test, y_train, y_test = train_test_split(X, y, test_size=0.2, random_state=42)\n",
        "\n",
        "# Define base models\n",
        "estimators = [\n",
        "    ('rf', RandomForestClassifier(n_estimators=100, random_state=42)),\n",
        "    ('lr', LogisticRegression(max_iter=1000, random_state=42))\n",
        "]\n",
        "\n",
        "# Create a Stacking Classifier\n",
        "stacking_clf = StackingClassifier(estimators=estimators, final_estimator=LogisticRegression(random_state=42), cv=5)\n",
        "\n",
        "# Train the model\n",
        "stacking_clf.fit(X_train, y_train)\n",
        "\n",
        "# Predict on the test set\n",
        "y_pred = stacking_clf.predict(X_test)\n",
        "\n",
        "# Calculate and print accuracy\n",
        "accuracy = accuracy_score(y_test, y_pred)\n",
        "print(f\"Stacking Classifier Accuracy: {accuracy}\")"
      ],
      "execution_count": 24,
      "outputs": [
        {
          "output_type": "stream",
          "name": "stdout",
          "text": [
            "Stacking Classifier Accuracy: 0.89\n"
          ]
        }
      ]
    },
    {
      "cell_type": "markdown",
      "metadata": {
        "id": "70585c1e"
      },
      "source": [
        "**45: Train a Bagging Regressor with different levels of bootstrap samples and compare performance**"
      ]
    },
    {
      "cell_type": "code",
      "metadata": {
        "colab": {
          "base_uri": "https://localhost:8080/"
        },
        "id": "5dc82e64",
        "outputId": "2e4fa2a0-96e5-4874-ca66-255d20f2ac77"
      },
      "source": [
        "from sklearn.datasets import make_regression\n",
        "from sklearn.tree import DecisionTreeRegressor\n",
        "from sklearn.ensemble import BaggingRegressor\n",
        "from sklearn.model_selection import train_test_split\n",
        "from sklearn.metrics import mean_squared_error\n",
        "\n",
        "# Generate a sample dataset\n",
        "X, y = make_regression(n_samples=1000, n_features=20, random_state=42)\n",
        "\n",
        "# Split data into training and testing sets\n",
        "X_train, X_test, y_train, y_test = train_test_split(X, y, test_size=0.2, random_state=42)\n",
        "\n",
        "# Define different max_samples values for bootstrap\n",
        "max_samples_list = [0.5, 0.7, 1.0] # 0.5 means 50% of samples, 1.0 means 100%\n",
        "\n",
        "for max_samples in max_samples_list:\n",
        "    bagging_reg = BaggingRegressor(estimator=DecisionTreeRegressor(), n_estimators=10, max_samples=max_samples, random_state=42)\n",
        "    bagging_reg.fit(X_train, y_train)\n",
        "    y_pred = bagging_reg.predict(X_test)\n",
        "    mse = mean_squared_error(y_test, y_pred)\n",
        "    print(f\"Bagging Regressor with max_samples={max_samples} MSE: {mse}\")"
      ],
      "execution_count": 25,
      "outputs": [
        {
          "output_type": "stream",
          "name": "stdout",
          "text": [
            "Bagging Regressor with max_samples=0.5 MSE: 11858.297162932005\n",
            "Bagging Regressor with max_samples=0.7 MSE: 9761.713451886364\n",
            "Bagging Regressor with max_samples=1.0 MSE: 9462.992186060874\n"
          ]
        }
      ]
    }
  ]
}